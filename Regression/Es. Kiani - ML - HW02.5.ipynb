{
 "cells": [
  {
   "cell_type": "markdown",
   "id": "0c24eaa3-c8e5-4a53-b2fb-9bf14bbcda62",
   "metadata": {},
   "source": [
    "# Esfandiar Kiani (40311614) - ML Homework 02.4"
   ]
  },
  {
   "cell_type": "markdown",
   "id": "301abae0-3831-4f60-95cd-62b9000102d7",
   "metadata": {},
   "source": [
    "## Imports"
   ]
  },
  {
   "cell_type": "code",
   "execution_count": 72,
   "id": "73eaa3f4-e5b1-4cfc-b387-62e42eedd7f8",
   "metadata": {},
   "outputs": [],
   "source": [
    "import pandas as pd\n",
    "import numpy as np\n",
    "import matplotlib.pyplot as plt"
   ]
  },
  {
   "cell_type": "markdown",
   "id": "bf5e1ff1-6f01-49bc-8081-6cae99305fc0",
   "metadata": {},
   "source": [
    "## Load Data"
   ]
  },
  {
   "cell_type": "code",
   "execution_count": 2,
   "id": "913023a2-04de-469f-98f1-f6686723d0f4",
   "metadata": {},
   "outputs": [],
   "source": [
    "FILE_PATH = \"D:/M.A/T1/ML/Assignments/HW2_Regression_code  datasets/q4_dataset.csv\""
   ]
  },
  {
   "cell_type": "code",
   "execution_count": 4,
   "id": "3f6f77fe-64f5-475e-92e4-99b2a0120e70",
   "metadata": {},
   "outputs": [],
   "source": [
    "df = pd.read_csv(FILE_PATH)"
   ]
  },
  {
   "cell_type": "markdown",
   "id": "74eaee56-5ba4-4585-94bc-a559191115e9",
   "metadata": {},
   "source": [
    "## Some Information about Dataset"
   ]
  },
  {
   "cell_type": "code",
   "execution_count": 6,
   "id": "86a0ad6a-e863-43e9-9bb6-5bf52cec6d03",
   "metadata": {},
   "outputs": [
    {
     "data": {
      "text/html": [
       "<div>\n",
       "<style scoped>\n",
       "    .dataframe tbody tr th:only-of-type {\n",
       "        vertical-align: middle;\n",
       "    }\n",
       "\n",
       "    .dataframe tbody tr th {\n",
       "        vertical-align: top;\n",
       "    }\n",
       "\n",
       "    .dataframe thead th {\n",
       "        text-align: right;\n",
       "    }\n",
       "</style>\n",
       "<table border=\"1\" class=\"dataframe\">\n",
       "  <thead>\n",
       "    <tr style=\"text-align: right;\">\n",
       "      <th></th>\n",
       "      <th>X</th>\n",
       "      <th>Y</th>\n",
       "    </tr>\n",
       "  </thead>\n",
       "  <tbody>\n",
       "    <tr>\n",
       "      <th>0</th>\n",
       "      <td>-9.105319</td>\n",
       "      <td>105.00</td>\n",
       "    </tr>\n",
       "    <tr>\n",
       "      <th>1</th>\n",
       "      <td>-10.485009</td>\n",
       "      <td>103.01</td>\n",
       "    </tr>\n",
       "    <tr>\n",
       "      <th>2</th>\n",
       "      <td>-9.879665</td>\n",
       "      <td>101.04</td>\n",
       "    </tr>\n",
       "    <tr>\n",
       "      <th>3</th>\n",
       "      <td>-10.434310</td>\n",
       "      <td>99.09</td>\n",
       "    </tr>\n",
       "    <tr>\n",
       "      <th>4</th>\n",
       "      <td>-9.946421</td>\n",
       "      <td>97.16</td>\n",
       "    </tr>\n",
       "  </tbody>\n",
       "</table>\n",
       "</div>"
      ],
      "text/plain": [
       "           X       Y\n",
       "0  -9.105319  105.00\n",
       "1 -10.485009  103.01\n",
       "2  -9.879665  101.04\n",
       "3 -10.434310   99.09\n",
       "4  -9.946421   97.16"
      ]
     },
     "execution_count": 6,
     "metadata": {},
     "output_type": "execute_result"
    }
   ],
   "source": [
    "df.head()"
   ]
  },
  {
   "cell_type": "code",
   "execution_count": 7,
   "id": "eb064ed3-71a1-48fd-8f43-fb29ea5950f7",
   "metadata": {},
   "outputs": [
    {
     "name": "stdout",
     "output_type": "stream",
     "text": [
      "<class 'pandas.core.frame.DataFrame'>\n",
      "RangeIndex: 200 entries, 0 to 199\n",
      "Data columns (total 2 columns):\n",
      " #   Column  Non-Null Count  Dtype  \n",
      "---  ------  --------------  -----  \n",
      " 0   X       200 non-null    float64\n",
      " 1   Y       200 non-null    float64\n",
      "dtypes: float64(2)\n",
      "memory usage: 3.3 KB\n"
     ]
    }
   ],
   "source": [
    "df.info()"
   ]
  },
  {
   "cell_type": "code",
   "execution_count": 8,
   "id": "cf6e5277-75e1-4d94-a7a2-52b2ae4312a2",
   "metadata": {},
   "outputs": [
    {
     "data": {
      "text/html": [
       "<div>\n",
       "<style scoped>\n",
       "    .dataframe tbody tr th:only-of-type {\n",
       "        vertical-align: middle;\n",
       "    }\n",
       "\n",
       "    .dataframe tbody tr th {\n",
       "        vertical-align: top;\n",
       "    }\n",
       "\n",
       "    .dataframe thead th {\n",
       "        text-align: right;\n",
       "    }\n",
       "</style>\n",
       "<table border=\"1\" class=\"dataframe\">\n",
       "  <thead>\n",
       "    <tr style=\"text-align: right;\">\n",
       "      <th></th>\n",
       "      <th>X</th>\n",
       "      <th>Y</th>\n",
       "    </tr>\n",
       "  </thead>\n",
       "  <tbody>\n",
       "    <tr>\n",
       "      <th>count</th>\n",
       "      <td>200.000000</td>\n",
       "      <td>200.000000</td>\n",
       "    </tr>\n",
       "    <tr>\n",
       "      <th>mean</th>\n",
       "      <td>-0.112525</td>\n",
       "      <td>38.335000</td>\n",
       "    </tr>\n",
       "    <tr>\n",
       "      <th>std</th>\n",
       "      <td>5.802293</td>\n",
       "      <td>29.892792</td>\n",
       "    </tr>\n",
       "    <tr>\n",
       "      <th>min</th>\n",
       "      <td>-10.547902</td>\n",
       "      <td>5.000000</td>\n",
       "    </tr>\n",
       "    <tr>\n",
       "      <th>25%</th>\n",
       "      <td>-4.706435</td>\n",
       "      <td>11.250000</td>\n",
       "    </tr>\n",
       "    <tr>\n",
       "      <th>50%</th>\n",
       "      <td>-0.311808</td>\n",
       "      <td>30.000000</td>\n",
       "    </tr>\n",
       "    <tr>\n",
       "      <th>75%</th>\n",
       "      <td>4.766796</td>\n",
       "      <td>61.250000</td>\n",
       "    </tr>\n",
       "    <tr>\n",
       "      <th>max</th>\n",
       "      <td>10.144165</td>\n",
       "      <td>105.000000</td>\n",
       "    </tr>\n",
       "  </tbody>\n",
       "</table>\n",
       "</div>"
      ],
      "text/plain": [
       "                X           Y\n",
       "count  200.000000  200.000000\n",
       "mean    -0.112525   38.335000\n",
       "std      5.802293   29.892792\n",
       "min    -10.547902    5.000000\n",
       "25%     -4.706435   11.250000\n",
       "50%     -0.311808   30.000000\n",
       "75%      4.766796   61.250000\n",
       "max     10.144165  105.000000"
      ]
     },
     "execution_count": 8,
     "metadata": {},
     "output_type": "execute_result"
    }
   ],
   "source": [
    "df.describe()"
   ]
  },
  {
   "cell_type": "markdown",
   "id": "9552ac7b-dc62-4303-a06d-e3ec099f8903",
   "metadata": {},
   "source": [
    "## Data split"
   ]
  },
  {
   "cell_type": "code",
   "execution_count": 16,
   "id": "9c0a61a3-b471-4f1e-a93f-083b93df933a",
   "metadata": {},
   "outputs": [],
   "source": [
    "x, y = df[:]['X'], df[:]['Y']"
   ]
  },
  {
   "cell_type": "code",
   "execution_count": 43,
   "id": "6da37c8b-48e8-49de-8013-8bd77a0a2454",
   "metadata": {},
   "outputs": [],
   "source": [
    "TTRatio = 0.80"
   ]
  },
  {
   "cell_type": "code",
   "execution_count": 44,
   "id": "5218a440-90dd-4782-a359-367576f215e9",
   "metadata": {},
   "outputs": [],
   "source": [
    "x_train, x_test = x[:int(TTRatio*len(x))], x[int(TTRatio*len(x)):]\n",
    "y_train, y_test = y[:int(TTRatio*len(y))], y[int(TTRatio*len(y)):]"
   ]
  },
  {
   "cell_type": "markdown",
   "id": "6c4693e5-ab47-4f32-970e-3854d6b48cf9",
   "metadata": {},
   "source": [
    "## Visiualize"
   ]
  },
  {
   "cell_type": "code",
   "execution_count": 42,
   "id": "9f5723e0-796b-487e-b9f6-a8dc02759d22",
   "metadata": {},
   "outputs": [
    {
     "data": {
      "image/png": "[encoded data removed]",
      "text/plain": [
       "<Figure size 640x480 with 1 Axes>"
      ]
     },
     "metadata": {},
     "output_type": "display_data"
    },
    {
     "data": {
      "text/plain": [
       "<Figure size 500x300 with 0 Axes>"
      ]
     },
     "metadata": {},
     "output_type": "display_data"
    }
   ],
   "source": [
    "plt.scatter(x, y, color='red', alpha=0.75, edgecolor='k')\n",
    "plt.xlabel(\"X\")\n",
    "plt.ylabel(\"Y\")\n",
    "plt.title(\"Q4 Dataset\")\n",
    "\n",
    "plt.figure(figsize=(5, 3))\n",
    "\n",
    "plt.show()"
   ]
  },
  {
   "cell_type": "markdown",
   "id": "69469c43-8aaf-4a4e-871d-96697e978e61",
   "metadata": {},
   "source": [
    "## Questions"
   ]
  },
  {
   "cell_type": "markdown",
   "id": "911592ee-3531-4347-8cec-d1d5f251480a",
   "metadata": {},
   "source": [
    "a) quadratic polynomial basis function"
   ]
  },
  {
   "cell_type": "markdown",
   "id": "8c80905b-11af-4cc3-be81-584dc673d133",
   "metadata": {},
   "source": [
    "b)"
   ]
  },
  {
   "cell_type": "markdown",
   "id": "5a4a0d72-72b2-4806-bf1d-11bc574e5462",
   "metadata": {},
   "source": [
    "### Functions"
   ]
  },
  {
   "cell_type": "code",
   "execution_count": 47,
   "id": "819a635e-d59b-4128-98d5-abc80cfb2526",
   "metadata": {},
   "outputs": [],
   "source": [
    "def MSE(y_test, y_hat):\n",
    "    return np.mean((y_test - y_hat) ** 2)"
   ]
  },
  {
   "cell_type": "code",
   "execution_count": 64,
   "id": "265908c5-ef30-4572-895f-39c6c6311de4",
   "metadata": {},
   "outputs": [],
   "source": [
    "def Reg(x_train, y_train):\n",
    "    return np.linalg.inv(x_train.T @ x_train) @ x_train.T @ y_train.values"
   ]
  },
  {
   "cell_type": "markdown",
   "id": "bcaa7805-75bc-479a-a768-c7c09f7946b9",
   "metadata": {},
   "source": [
    "### Preprocessing"
   ]
  },
  {
   "cell_type": "code",
   "execution_count": 57,
   "id": "f1dcc3bd-843d-453f-b425-5bb0ad356bea",
   "metadata": {},
   "outputs": [],
   "source": [
    "X_train = np.c_[np.ones(x_train.shape[0]), x_train.values, x_train.values**2]\n",
    "X_test = np.c_[np.ones(x_test.shape[0]), x_test.values, x_test.values**2]"
   ]
  },
  {
   "cell_type": "markdown",
   "id": "8b50b5fc-554b-493e-98c6-95080113c662",
   "metadata": {},
   "source": [
    "### Train and fit model"
   ]
  },
  {
   "cell_type": "code",
   "execution_count": 66,
   "id": "2885ef31-e621-49bc-bc8a-bdc887bf5c30",
   "metadata": {},
   "outputs": [],
   "source": [
    "theta = Reg(X_train, y_train)"
   ]
  },
  {
   "cell_type": "markdown",
   "id": "18e9175c-0e45-483b-bba1-8c4d7185326d",
   "metadata": {},
   "source": [
    "## Prediction"
   ]
  },
  {
   "cell_type": "code",
   "execution_count": 67,
   "id": "dcc7b088-dc0b-4270-8afe-f115ac91d7e1",
   "metadata": {},
   "outputs": [],
   "source": [
    "y_hat = X_test @ theta"
   ]
  },
  {
   "cell_type": "code",
   "execution_count": 69,
   "id": "d567305d-49ee-49ef-9223-2f34c0470dd8",
   "metadata": {},
   "outputs": [
    {
     "data": {
      "text/plain": [
       "array([41.7317786 , 38.45997705, 35.33463546, 40.82051527, 38.57274712,\n",
       "       27.72843414, 24.64167106, 40.76274771, 35.83150995, 51.38394551,\n",
       "       67.98690454, 61.35488917, 67.64567891, 39.83860378, 45.40413208,\n",
       "       52.95062238, 66.08772444, 30.28498997, 43.10334902, 84.70643067,\n",
       "       48.0438785 , 41.52186125, 80.38514709, 51.82372484, 58.55903893,\n",
       "       68.98365542, 58.84104271, 72.02676493, 61.25399854, 43.59729846,\n",
       "       88.17313387, 78.49267022, 87.31541962, 60.85486315, 58.95592846,\n",
       "       73.87091793, 77.4214409 , 73.83458472, 90.58388103, 71.63512159])"
      ]
     },
     "execution_count": 69,
     "metadata": {},
     "output_type": "execute_result"
    }
   ],
   "source": [
    "y_hat"
   ]
  },
  {
   "cell_type": "markdown",
   "id": "3d7e8727-11f2-4aab-8fe5-29b63268a945",
   "metadata": {},
   "source": [
    "## Evaluation"
   ]
  },
  {
   "cell_type": "code",
   "execution_count": 71,
   "id": "8b07ee6c-c39f-427a-a9af-d62f5f8745cc",
   "metadata": {},
   "outputs": [
    {
     "data": {
      "text/plain": [
       "348.58084624673484"
      ]
     },
     "execution_count": 71,
     "metadata": {},
     "output_type": "execute_result"
    }
   ],
   "source": [
    "MSE(y_test, y_hat)"
   ]
  }
 ],
 "metadata": {
  "kernelspec": {
   "display_name": "Python 3 (ipykernel)",
   "language": "python",
   "name": "python3"
  },
  "language_info": {
   "codemirror_mode": {
    "name": "ipython",
    "version": 3
   },
   "file_extension": ".py",
   "mimetype": "text/x-python",
   "name": "python",
   "nbconvert_exporter": "python",
   "pygments_lexer": "ipython3",
   "version": "3.12.7"
  }
 },
 "nbformat": 4,
 "nbformat_minor": 5
}
