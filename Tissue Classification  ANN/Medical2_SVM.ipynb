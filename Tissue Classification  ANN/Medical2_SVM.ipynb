{
  "cells": [
    {
      "cell_type": "markdown",
      "source": [
        "#Solution 1: SVM Using CNN"
      ],
      "metadata": {
        "id": "cmAZFB5D6B95"
      }
    },
    {
      "cell_type": "markdown",
      "metadata": {
        "id": "Io_9yqHnQWhQ"
      },
      "source": [
        "#Imports & Installs"
      ]
    },
    {
      "cell_type": "code",
      "execution_count": null,
      "metadata": {
        "id": "S8h58Is-QVZ-"
      },
      "outputs": [],
      "source": [
        "from google.colab import drive\n",
        "# from tensorflow import *\n",
        "import tensorflow as tf\n",
        "from tensorflow import keras\n",
        "from sklearn.metrics import confusion_matrix\n",
        "from sklearn.metrics import ConfusionMatrixDisplay\n",
        "\n",
        "from matplotlib import pyplot as plt\n",
        "import numpy as np\n",
        "import pandas as pd"
      ]
    },
    {
      "cell_type": "code",
      "source": [
        "!pip install unrar"
      ],
      "metadata": {
        "id": "nEwzXKEp-XW5"
      },
      "execution_count": null,
      "outputs": []
    },
    {
      "cell_type": "markdown",
      "source": [
        "#Define Constants"
      ],
      "metadata": {
        "id": "TlkiSmSxynFl"
      }
    },
    {
      "cell_type": "code",
      "source": [
        "DATA_PATH = '/content/svm_data/'\n",
        "SEED = 4213\n",
        "RESCALE_SCALE = 1./255\n",
        "SHUFFLE = True\n",
        "IMG_SIZE = (15, 15)\n",
        "INPUT_SHAPE = (15, 15, 1)\n",
        "SPLIT_SIZE = 0.2\n",
        "\n",
        "BATCH_SIZE = 32\n",
        "NUM_OF_CLASSES = 5\n",
        "\n",
        "EPOCHS = 10\n",
        "LOSSE = 'categorical_crossentropy'\n",
        "OPTIMIZER = 'adam'\n",
        "METRIC = ['accuracy']"
      ],
      "metadata": {
        "id": "CzeOqI9Eynwh"
      },
      "execution_count": null,
      "outputs": []
    },
    {
      "cell_type": "markdown",
      "metadata": {
        "id": "jrTnerKwNOgu"
      },
      "source": [
        "#Load Data"
      ]
    },
    {
      "cell_type": "code",
      "execution_count": null,
      "metadata": {
        "id": "CbxFh9mQPZWO"
      },
      "outputs": [],
      "source": [
        "drive.mount('/content/drive');"
      ]
    },
    {
      "cell_type": "code",
      "execution_count": null,
      "metadata": {
        "id": "gfDMXCbXOy1A"
      },
      "outputs": [],
      "source": [
        "!unrar x /content/drive/MyDrive/Datasets/Medical2-Dataset-rar/BloodTransversal.rar /content/svm_data/;"
      ]
    },
    {
      "cell_type": "code",
      "execution_count": null,
      "metadata": {
        "id": "bL49c6ZGEWEI"
      },
      "outputs": [],
      "source": [
        "!unrar x /content/drive/MyDrive/Datasets/Medical2-Dataset-rar/CalciumTransversal.rar /content/svm_data/;"
      ]
    },
    {
      "cell_type": "code",
      "execution_count": null,
      "metadata": {
        "id": "kFjmaWLaFZnG"
      },
      "outputs": [],
      "source": [
        "!unrar x /content/drive/MyDrive/Datasets/Medical2-Dataset-rar/FatTransversal.rar /content/svm_data/;"
      ]
    },
    {
      "cell_type": "code",
      "execution_count": null,
      "metadata": {
        "id": "9_Ke4sSuFZOK"
      },
      "outputs": [],
      "source": [
        "!unrar x /content/drive/MyDrive/Datasets/Medical2-Dataset-rar/FibrousTransversal.rar /content/svm_data/;"
      ]
    },
    {
      "cell_type": "code",
      "execution_count": null,
      "metadata": {
        "colab": {
          "background_save": true
        },
        "id": "Io4W4-7DEWaR"
      },
      "outputs": [],
      "source": [
        "!unrar x /content/drive/MyDrive/Datasets/Medical2-Dataset-rar/MuscleTransversal.rar /content/svm_data/;"
      ]
    },
    {
      "cell_type": "markdown",
      "metadata": {
        "id": "0O01XVdVODhk"
      },
      "source": [
        "#Data Preprocessing"
      ]
    },
    {
      "cell_type": "code",
      "execution_count": null,
      "metadata": {
        "colab": {
          "background_save": true
        },
        "id": "4XybDFUhPbnW"
      },
      "outputs": [],
      "source": [
        "img_gen = keras.preprocessing.image.ImageDataGenerator(validation_split = SPLIT_SIZE, rescale = RESCALE_SCALE)\n",
        "\n",
        "trainSet_gen    = img_gen.flow_from_directory(data_path, target_size = IMG_SIZE, batch_size = BATCH_SIZE, shuffle = SHUFFLE, color_mode = \"grayscale\", subset = 'training')\n",
        "validateSet_gen = img_gen.flow_from_directory(data_path, target_size = IMG_SIZE, batch_size = BATCH_SIZE, shuffle = SHUFFLE, color_mode = \"grayscale\", subset = 'validation')"
      ]
    },
    {
      "cell_type": "code",
      "execution_count": null,
      "metadata": {
        "id": "4kSowCRFPcLc"
      },
      "outputs": [],
      "source": [
        "!rm -rf /content/sample_data;"
      ]
    },
    {
      "cell_type": "markdown",
      "source": [
        "#Building Model"
      ],
      "metadata": {
        "id": "WD5-rgrx1F1H"
      }
    },
    {
      "cell_type": "code",
      "execution_count": null,
      "metadata": {
        "id": "6ZYmxK4ePbCi"
      },
      "outputs": [],
      "source": [
        "model = tf.keras.models.Sequential([\n",
        "    tf.keras.layers.Conv2D(32, (3, 3), activation='relu', input_shape = INPUT_SHAPE),\n",
        "    tf.keras.layers.MaxPooling2D(2, 2),\n",
        "    tf.keras.layers.Conv2D(64, (3, 3), activation='relu'),\n",
        "    tf.keras.layers.MaxPooling2D(2, 2),\n",
        "    tf.keras.layers.Flatten(),\n",
        "    tf.keras.layers.Dense(128, activation='relu'),\n",
        "    tf.keras.layers.Dense(NUM_OF_CLASSES, activation='softmax')\n",
        "])\n",
        "\n",
        "model.compile(loss = 'categorical_crossentropy', optimizer = OPTIMIZER, metrics = ['accuracy'])"
      ]
    },
    {
      "cell_type": "code",
      "execution_count": null,
      "metadata": {
        "id": "6HConUT4N_2Z"
      },
      "outputs": [],
      "source": [
        "history = model.fit(trainSet_gen, epochs=10, validation_data = validateSet_gen)\n",
        "\n",
        "y_pred = model.predict(validateSet_gen)\n",
        "y_pred = np.argmax(y_pred, axis=1)\n",
        "y_true = validateSet_gen.classes\n",
        "\n",
        "confM = confusion_matrix(y_true, y_pred)\n",
        "\n",
        "confM_disp = ConfusionMatrixDisplay(confusion_matrix = confM, display_labels = validateSet_gen.class_indices)\n",
        "\n",
        "confM_disp.plot()\n",
        "plt.show()"
      ]
    },
    {
      "cell_type": "code",
      "execution_count": null,
      "metadata": {
        "id": "H_crq1xIfAb2"
      },
      "outputs": [],
      "source": []
    },
    {
      "cell_type": "markdown",
      "source": [
        "#Solution 2: SVM Using Img to Array"
      ],
      "metadata": {
        "id": "4ZARWpRt6Vz2"
      }
    }
  ],
  "metadata": {
    "colab": {
      "provenance": [],
      "toc_visible": true,
      "collapsed_sections": [
        "Io_9yqHnQWhQ",
        "jrTnerKwNOgu"
      ]
    },
    "kernelspec": {
      "display_name": "Python 3",
      "name": "python3"
    },
    "language_info": {
      "name": "python"
    }
  },
  "nbformat": 4,
  "nbformat_minor": 0
}