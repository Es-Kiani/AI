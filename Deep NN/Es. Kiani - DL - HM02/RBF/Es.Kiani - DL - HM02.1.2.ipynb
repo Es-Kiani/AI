{
 "cells": [
  {
   "cell_type": "markdown",
   "id": "b06d2bbb-1b2d-4a33-8d80-7a0a284c9efc",
   "metadata": {},
   "source": [
    "# DL - HM02.1.2"
   ]
  },
  {
   "cell_type": "markdown",
   "id": "2d77594c-b592-4679-aca6-24fc82c3da23",
   "metadata": {},
   "source": [
    "# Imports"
   ]
  },
  {
   "cell_type": "code",
   "execution_count": 1,
   "id": "255cf70e-d09b-4696-bd6c-9c3f06d3cc75",
   "metadata": {},
   "outputs": [],
   "source": [
    "import numpy as np\n",
    "import pandas as pd\n",
    "import matplotlib.pyplot as plt\n",
    "from sklearn.metrics import confusion_matrix\n",
    "import seaborn as sns\n",
    "from imblearn.over_sampling import SMOTE"
   ]
  },
  {
   "cell_type": "markdown",
   "id": "970832b5-a6fc-4811-94f9-b10a48fe0f61",
   "metadata": {},
   "source": [
    "# Define"
   ]
  },
  {
   "cell_type": "code",
   "execution_count": 2,
   "id": "6b8a3122-a0ea-4456-b907-c6305d4e2dab",
   "metadata": {},
   "outputs": [],
   "source": [
    "MELBOURNE_DATASET = \"D:/M.A/T2/Deep Learning/Assignments/HM2 - Es.Kiani - 40311614/RBF/daily-minimum-temperatures-in-melbourne.csv\"\n",
    "Parkinsons_DATASET = \"D:/M.A/T2/Deep Learning/Assignments/HM2 - Es.Kiani - 40311614/RBF/Parkinsons.csv\""
   ]
  },
  {
   "cell_type": "markdown",
   "id": "202fdef7-b768-4a38-b40c-5bdd4f14097e",
   "metadata": {},
   "source": [
    "# Activation functinos"
   ]
  },
  {
   "cell_type": "code",
   "execution_count": 3,
   "id": "7a6d810e-f47b-4055-82ed-86f60d7899ab",
   "metadata": {},
   "outputs": [],
   "source": [
    "def sigmoid(x):\n",
    "    return 1 / (1 + np.exp(-x))\n",
    "\n",
    "def sigmoid_derivative(x):\n",
    "    return sigmoid(x) * (1 - sigmoid(x))\n",
    "\n",
    "def softmax(x):\n",
    "    exp_x = np.exp(x - np.max(x))\n",
    "    return exp_x / np.sum(exp_x)\n",
    "\n",
    "def softmax_derivative(x):\n",
    "    s = softmax(x)\n",
    "    return s * (1 - s)\n",
    "\n",
    "def leaky_relu(x):\n",
    "    return np.maximum(0, x)\n",
    "\n",
    "def leaky_relu_derivative(x):\n",
    "    return np.where(x > 0, 1, 0)\n",
    "\n",
    "def rbf(x, center, sigma=1.0):\n",
    "    return np.exp(-np.sum((x - center) ** 2) / (2 * sigma ** 2))\n",
    "\n",
    "def rbf_derivative(x, center, sigma=1.0):\n",
    "    return -rbf(x, center, sigma) * (x - center) / (sigma ** 2)\n",
    "\n",
    "def leaky_leaky_relu(x, alpha=0.1):\n",
    "    return np.where(x > 0, x, alpha * x)\n",
    "\n",
    "def leaky_leaky_relu_derivative(x, alpha=0.1):\n",
    "    return np.where(x > 0, 1, alpha)"
   ]
  },
  {
   "cell_type": "code",
   "execution_count": 4,
   "id": "db624b7f-0c93-4d7d-9764-2ac6ba10d345",
   "metadata": {},
   "outputs": [],
   "source": [
    "def choose_function(x, name, center=None, sigma=1.0):\n",
    "    if name == \"sigmoid\":\n",
    "        return sigmoid(x)\n",
    "        \n",
    "    elif name == \"softmax\":\n",
    "        return softmax(x)\n",
    "        \n",
    "    elif name == \"relu\":\n",
    "        return relu(x)\n",
    "    \n",
    "    elif name == \"rbf\":\n",
    "        return rbf(x, center, sigma)\n",
    "        \n",
    "    elif name == \"leaky_relu\":\n",
    "        return leaky_relu(x)\n",
    "        \n",
    "    return x"
   ]
  },
  {
   "cell_type": "code",
   "execution_count": 5,
   "id": "3115324d-d880-4703-a1d2-a7249bbdaf86",
   "metadata": {},
   "outputs": [],
   "source": [
    "def choose_derivative(x, name, center=None, sigma=1.0):\n",
    "    if name == \"sigmoid\":\n",
    "        return sigmoid_derivative(x)\n",
    "        \n",
    "    elif name == \"softmax\":\n",
    "        return softmax_derivative(x)\n",
    "        \n",
    "    elif name == \"relu\":\n",
    "        return relu(x)\n",
    "        \n",
    "    elif name == \"rbf\":\n",
    "        return rbf_derivative(x, center, sigma)\n",
    "        \n",
    "    elif name == \"leaky_relu\":\n",
    "        return leaky_relu_derivative(x)\n",
    "    \n",
    "    return np.ones_like(x)"
   ]
  },
  {
   "cell_type": "markdown",
   "id": "e247e1b7-ade8-48c0-80de-165c4705d551",
   "metadata": {},
   "source": [
    "# Load & normalize data"
   ]
  },
  {
   "cell_type": "code",
   "execution_count": 3,
   "id": "bd236693-b7ab-4826-b165-36cf7857f928",
   "metadata": {},
   "outputs": [],
   "source": [
    "def load_and_normalize_parkinson(file_path):\n",
    "    data = pd.read_csv(file_path)\n",
    "    X = data.drop(columns=['name', 'status']).to_numpy()\n",
    "    Y = data['status'].to_numpy()\n",
    "    min_vals = np.min(X, axis=0)\n",
    "    max_vals = np.max(X, axis=0)\n",
    "    X = (X - min_vals) / (max_vals - min_vals + 1e-10)\n",
    "    return X, Y"
   ]
  },
  {
   "cell_type": "markdown",
   "id": "f806b11c-228e-412e-b460-8adeda99f88c",
   "metadata": {},
   "source": [
    "# T/T"
   ]
  },
  {
   "cell_type": "code",
   "execution_count": 4,
   "id": "0e341a94-4804-4985-a5c7-1c135aa41115",
   "metadata": {},
   "outputs": [],
   "source": [
    "def split_data(X, Y, train_ratio=0.7, val_ratio=0.1):\n",
    "    num_data = X.shape[0]\n",
    "    num_train = int(num_data * train_ratio)\n",
    "    num_val = int(num_data * val_ratio)\n",
    "    num_test = num_data - num_train - num_val\n",
    "    \n",
    "    indices = np.random.permutation(num_data)\n",
    "    X, Y = X[indices], Y[indices]\n",
    "    \n",
    "    X_train, Y_train = X[:num_train], Y[:num_train]\n",
    "    X_val, Y_val = X[num_train:num_train + num_val], Y[num_train:num_train + num_val]\n",
    "    X_test, Y_test = X[num_train + num_val:], Y[num_train + num_val:]\n",
    "    return X_train, Y_train, X_val, Y_val, X_test, Y_test"
   ]
  },
  {
   "cell_type": "markdown",
   "id": "a005bdf7-53b1-45f3-a246-dc129ff93983",
   "metadata": {},
   "source": [
    "# Hyperparameters"
   ]
  },
  {
   "cell_type": "code",
   "execution_count": 5,
   "id": "caf3e4d2-c9e5-4a4c-8444-22b298388b10",
   "metadata": {},
   "outputs": [],
   "source": [
    "num_inputs = 22 \n",
    "n1_rbf = 25   \n",
    "n2 = 20    \n",
    "n3 = 15   \n",
    "n1_decoder = 20\n",
    "n2_decoder = 25\n",
    "n3_decoder = num_inputs \n",
    "n1_mlp = 15     \n",
    "n2_mlp = 10      \n",
    "n3_mlp = 1       \n",
    "eta_rbf = 0.5\n",
    "eta_auto = 0.5\n",
    "eta_mlp = 0.5\n",
    "epochs_auto = 500 \n",
    "epochs_mlp  = 500 "
   ]
  },
  {
   "cell_type": "markdown",
   "id": "c9b45e1d-2c69-459f-add4-384b7170d95d",
   "metadata": {},
   "source": [
    "# Read data"
   ]
  },
  {
   "cell_type": "code",
   "execution_count": 6,
   "id": "67f7c708-d57e-4941-9418-655dfe65df33",
   "metadata": {},
   "outputs": [],
   "source": [
    "X, Y = load_and_normalize_parkinson(Parkinsons_DATASET)\n",
    "X_train, Y_train, X_val, Y_val, X_test, Y_test = split_data(X, Y)"
   ]
  },
  {
   "cell_type": "code",
   "execution_count": 7,
   "id": "04fd8653-9687-4c62-ad68-7ea6971e7d83",
   "metadata": {},
   "outputs": [
    {
     "name": "stdout",
     "output_type": "stream",
     "text": [
      "Class distribution in Y_train after SMOTE: [ 34 102]\n"
     ]
    }
   ],
   "source": [
    "print(\"Class distribution in Y_train after SMOTE:\", np.bincount(Y_train))"
   ]
  },
  {
   "cell_type": "code",
   "execution_count": 10,
   "id": "39e57c90-2500-40f4-a683-793425383787",
   "metadata": {},
   "outputs": [],
   "source": [
    "smote = SMOTE(random_state=13)\n",
    "X_train, Y_train = smote.fit_resample(X_train, Y_train)"
   ]
  },
  {
   "cell_type": "code",
   "execution_count": 11,
   "id": "1c4f7990-ea7f-44da-ac6a-2347e3719671",
   "metadata": {},
   "outputs": [
    {
     "name": "stdout",
     "output_type": "stream",
     "text": [
      "Class distribution in Y_train after SMOTE: [103 103]\n"
     ]
    }
   ],
   "source": [
    "print(\"Class distribution in Y_train after SMOTE:\", np.bincount(Y_train))"
   ]
  },
  {
   "cell_type": "markdown",
   "id": "ddd8cff6-7eda-4c98-9e31-218e8cc5f9f4",
   "metadata": {},
   "source": [
    "# Initialization"
   ]
  },
  {
   "cell_type": "code",
   "execution_count": 12,
   "id": "4989903e-31e5-4208-b389-317b5ef5c6f1",
   "metadata": {},
   "outputs": [],
   "source": [
    "from sklearn.cluster import KMeans\n",
    "kmeans = KMeans(n_clusters=n1_rbf, random_state=13).fit(X_train)\n",
    "centers = kmeans.cluster_centers_\n",
    "\n",
    "# centers = X_train[np.random.choice(X_train.shape[0], n1_rbf, replace=False)]"
   ]
  },
  {
   "cell_type": "code",
   "execution_count": 13,
   "id": "e176f89a-86f7-494e-b030-738979848ba1",
   "metadata": {},
   "outputs": [],
   "source": [
    "w1_e = np.random.uniform(-np.sqrt(6 / (n1_rbf + num_inputs)), np.sqrt(6 / (n1_rbf + num_inputs)), (n1_rbf, num_inputs))\n",
    "w2_e = np.random.uniform(-np.sqrt(6 / (n2 + n1_rbf)), np.sqrt(6 / (n2 + n1_rbf)), (n2, n1_rbf))\n",
    "w3_e = np.random.uniform(-np.sqrt(6 / (n3 + n2)), np.sqrt(6 / (n3 + n2)), (n3, n2))\n",
    "w1_d = np.random.uniform(-np.sqrt(6 / (n1_decoder + n3)), np.sqrt(6 / (n1_decoder + n3)), (n1_decoder, n3))\n",
    "w2_d = np.random.uniform(-np.sqrt(6 / (n2_decoder + n1_decoder)), np.sqrt(6 / (n2_decoder + n1_decoder)), (n2_decoder, n1_decoder))\n",
    "w3_d = np.random.uniform(-np.sqrt(6 / (n3_decoder + n2_decoder)), np.sqrt(6 / (n3_decoder + n2_decoder)), (n3_decoder, n2_decoder))\n",
    "w1_mlp = np.random.uniform(-np.sqrt(6 / (n1_mlp + n3)), np.sqrt(6 / (n1_mlp + n3)), (n1_mlp, n3))\n",
    "w2_mlp = np.random.uniform(-np.sqrt(6 / (n2_mlp + n1_mlp)), np.sqrt(6 / (n2_mlp + n1_mlp)), (n2_mlp, n1_mlp))\n",
    "w3_mlp = np.random.uniform(-np.sqrt(6 / (n3_mlp + n2_mlp)), np.sqrt(6 / (n3_mlp + n2_mlp)), (n3_mlp, n2_mlp))"
   ]
  },
  {
   "cell_type": "code",
   "execution_count": 14,
   "id": "e3984f84-2117-472c-a8b3-685700fd198c",
   "metadata": {},
   "outputs": [],
   "source": [
    "# w2_e = np.random.uniform(-np.sqrt(6 / (n2 + n1_rbf)), np.sqrt(6 / (n2 + n1_rbf)), (n2, n1_rbf))\n",
    "# w3_e = np.random.uniform(-np.sqrt(6 / (n3 + n2)), np.sqrt(6 / (n3 + n2)), (n3, n2))\n",
    "# w3_d = np.random.uniform(-np.sqrt(6 / (n2 + n3)), np.sqrt(6 / (n2 + n3)), (n2, n3))\n",
    "# w2_d = np.random.uniform(-np.sqrt(6 / (num_inputs + n2)), np.sqrt(6 / (num_inputs + n2)), (num_inputs, n2))\n",
    "# w1_p = np.random.uniform(-np.sqrt(6 / (n1_perceptron + n3)), np.sqrt(6 / (n1_perceptron + n3)), (n1_perceptron, n3))\n",
    "# w2_p = np.random.uniform(-np.sqrt(6 / (n2_perceptron + n1_perceptron)), np.sqrt(6 / (n2_perceptron + n1_perceptron)), (n2_perceptron, n1_perceptron))"
   ]
  },
  {
   "cell_type": "code",
   "execution_count": 15,
   "id": "bf043ba4-60d9-4d41-bff1-a31c277c4220",
   "metadata": {},
   "outputs": [],
   "source": [
    "distances = np.linalg.norm(centers[:, np.newaxis] - centers, axis=2)\n",
    "sigma_rbf = np.mean(distances[distances > 0]) / 2\n",
    "\n",
    "# sigma_rbf = 2"
   ]
  },
  {
   "cell_type": "markdown",
   "id": "f20966b8-f8f7-4eaa-8596-e59cdddb2988",
   "metadata": {},
   "source": [
    "# AutoEncoder training"
   ]
  },
  {
   "cell_type": "code",
   "execution_count": 16,
   "id": "1b3d88c9-09dc-4abe-b86b-ac3aa66cf429",
   "metadata": {},
   "outputs": [
    {
     "name": "stdout",
     "output_type": "stream",
     "text": [
      "Epoch 0, Autoencoder Train Loss: 0.03485408005583008\n",
      "Epoch 10, Autoencoder Train Loss: 0.028566989697229317\n",
      "Epoch 20, Autoencoder Train Loss: 0.028575056078833753\n",
      "Epoch 30, Autoencoder Train Loss: 0.028796485139456124\n",
      "Epoch 40, Autoencoder Train Loss: 0.029072929893769306\n",
      "Epoch 50, Autoencoder Train Loss: 0.028829139465018645\n",
      "Epoch 60, Autoencoder Train Loss: 0.03171758762389099\n",
      "Epoch 70, Autoencoder Train Loss: 0.027517498237743732\n",
      "Epoch 80, Autoencoder Train Loss: 0.027971782524348465\n",
      "Epoch 90, Autoencoder Train Loss: 0.027866979584139487\n",
      "Epoch 100, Autoencoder Train Loss: 0.02815137339668286\n",
      "Epoch 110, Autoencoder Train Loss: 0.028155714803214483\n",
      "Epoch 120, Autoencoder Train Loss: 0.02810274673194259\n",
      "Epoch 130, Autoencoder Train Loss: 0.028046181960594514\n",
      "Epoch 140, Autoencoder Train Loss: 0.028614450901926478\n",
      "Epoch 150, Autoencoder Train Loss: 0.028526246668937938\n",
      "Epoch 160, Autoencoder Train Loss: 0.028680491605174968\n",
      "Epoch 170, Autoencoder Train Loss: 0.0319967634418817\n",
      "Epoch 180, Autoencoder Train Loss: 0.03225414623198473\n",
      "Epoch 190, Autoencoder Train Loss: 0.030724234116179822\n",
      "Epoch 200, Autoencoder Train Loss: 0.030350590969110733\n",
      "Epoch 210, Autoencoder Train Loss: 0.030800637762932247\n",
      "Epoch 220, Autoencoder Train Loss: 0.030576775926769762\n",
      "Epoch 230, Autoencoder Train Loss: 0.03004244552731351\n",
      "Epoch 240, Autoencoder Train Loss: 0.030513388888337243\n",
      "Epoch 250, Autoencoder Train Loss: 0.0316906112616105\n",
      "Epoch 260, Autoencoder Train Loss: 0.03208116124262417\n",
      "Epoch 270, Autoencoder Train Loss: 0.032454906909857306\n",
      "Epoch 280, Autoencoder Train Loss: 0.033164764095698136\n",
      "Epoch 290, Autoencoder Train Loss: 0.03322849286547577\n",
      "Epoch 300, Autoencoder Train Loss: 0.03498930993415122\n",
      "Epoch 310, Autoencoder Train Loss: 0.035239644835779356\n",
      "Epoch 320, Autoencoder Train Loss: 0.03650021385000487\n",
      "Epoch 330, Autoencoder Train Loss: 0.036642608755635624\n",
      "Epoch 340, Autoencoder Train Loss: 0.03382036895636338\n",
      "Epoch 350, Autoencoder Train Loss: 0.04099235040483247\n",
      "Epoch 360, Autoencoder Train Loss: 0.04310851699038787\n",
      "Epoch 370, Autoencoder Train Loss: 0.04588584592322469\n",
      "Epoch 380, Autoencoder Train Loss: 0.036223215117791245\n",
      "Epoch 390, Autoencoder Train Loss: 0.040625954322136684\n",
      "Epoch 400, Autoencoder Train Loss: 0.0434835640056172\n",
      "Epoch 410, Autoencoder Train Loss: 0.04553100589811276\n",
      "Epoch 420, Autoencoder Train Loss: 0.04218733969260472\n",
      "Epoch 430, Autoencoder Train Loss: 0.04319811374873056\n",
      "Epoch 440, Autoencoder Train Loss: 0.04367076166912831\n"
     ]
    },
    {
     "name": "stderr",
     "output_type": "stream",
     "text": [
      "C:\\Users\\Stephen\\AppData\\Local\\Temp\\ipykernel_28680\\100343631.py:2: RuntimeWarning: overflow encountered in exp\n",
      "  return 1 / (1 + np.exp(-x))\n"
     ]
    },
    {
     "name": "stdout",
     "output_type": "stream",
     "text": [
      "Epoch 450, Autoencoder Train Loss: 0.06195648886131156\n",
      "Epoch 460, Autoencoder Train Loss: 0.07298720765154497\n",
      "Epoch 470, Autoencoder Train Loss: 0.07467650307351273\n",
      "Epoch 480, Autoencoder Train Loss: 0.05524859463932443\n",
      "Epoch 490, Autoencoder Train Loss: 0.045176194232970604\n"
     ]
    }
   ],
   "source": [
    "for t in range(epochs_auto):\n",
    "    train_loss_epoch = 0\n",
    "    for i in range(X_train.shape[0]):\n",
    "        X = X_train[i]\n",
    "        \n",
    "        # Feedforward Encoder\n",
    "        o1_e = np.array([choose_function(X, \"rbf\", center=c, sigma=sigma_rbf) for c in centers])\n",
    "        net2_e = w2_e.dot(o1_e)\n",
    "        o2_e = choose_function(net2_e, \"leaky_relu\")\n",
    "        net3_e = w3_e.dot(o2_e)\n",
    "        o3_e = choose_function(net3_e, \"leaky_relu\")\n",
    "        \n",
    "        # Feedforward Decoder\n",
    "        net1_d = w1_d.dot(o3_e)\n",
    "        o1_d = choose_function(net1_d, \"leaky_relu\")\n",
    "        net2_d = w2_d.dot(o1_d)\n",
    "        o2_d = choose_function(net2_d, \"leaky_relu\")\n",
    "        net3_d = w3_d.dot(o2_d)\n",
    "        o3_d = choose_function(net3_d, \"sigmoid\")  # خروجی باید بین 0 و 1 باشد (مانند داده‌های نرمال‌شده)\n",
    "        \n",
    "        # محاسبه خطا و Backpropagation\n",
    "        error = X - o3_d\n",
    "        train_loss_epoch += np.mean(error ** 2)  # MSE Loss\n",
    "        \n",
    "        # Backpropagation Decoder\n",
    "        delta3_d = error * choose_derivative(net3_d, \"sigmoid\")\n",
    "        delta2_d = w3_d.T.dot(delta3_d) * choose_derivative(net2_d, \"leaky_relu\")\n",
    "        delta1_d = w2_d.T.dot(delta2_d) * choose_derivative(net1_d, \"leaky_relu\")\n",
    "        \n",
    "        # Backpropagation Encoder\n",
    "        delta3_e = w1_d.T.dot(delta1_d) * choose_derivative(net3_e, \"leaky_relu\")\n",
    "        delta2_e = w3_e.T.dot(delta3_e) * choose_derivative(net2_e, \"leaky_relu\")\n",
    "        delta1_e = w2_e.T.dot(delta2_e)  # برای لایه RBF از مشتق خاص خودش استفاده می‌کنیم\n",
    "        \n",
    "        # به‌روزرسانی وزن‌ها\n",
    "        w3_d += eta_auto * np.outer(delta3_d, o2_d)\n",
    "        w2_d += eta_auto * np.outer(delta2_d, o1_d)\n",
    "        w1_d += eta_auto * np.outer(delta1_d, o3_e)\n",
    "        w3_e += eta_auto * np.outer(delta3_e, o2_e)\n",
    "        w2_e += eta_auto * np.outer(delta2_e, o1_e)\n",
    "        \n",
    "        # به‌روزرسانی مراکز RBF\n",
    "        for j in range(n1_rbf):\n",
    "            centers[j] += eta_rbf * rbf_derivative(X, centers[j], sigma_rbf) * w2_e[:, j].sum()\n",
    "    \n",
    "    if t % 10 == 0:\n",
    "        print(f\"Epoch {t}, Autoencoder Train Loss: {train_loss_epoch / X_train.shape[0]}\")"
   ]
  },
  {
   "cell_type": "markdown",
   "id": "5f5268ce-4d89-42f0-ac1b-b7da70c7970b",
   "metadata": {},
   "source": [
    "# MLP training"
   ]
  },
  {
   "cell_type": "code",
   "execution_count": 17,
   "id": "c414ada2-5fd3-4ea7-bcc4-005b7c16c9fb",
   "metadata": {},
   "outputs": [],
   "source": [
    "def get_predictions(X_data, w1_e, w2_e, w3_e, w1_mlp, w2_mlp, w3_mlp, centers, sigma=1.0):\n",
    "    predictions = []\n",
    "    for X in X_data:\n",
    "        encoder_out = compute_encoder_output(X, w1_e, w2_e, w3_e, centers, sigma)\n",
    "        pred = compute_mlp_output(encoder_out, w1_mlp, w2_mlp, w3_mlp)\n",
    "        predictions.append(pred)\n",
    "    return np.array(predictions)"
   ]
  },
  {
   "cell_type": "code",
   "execution_count": 18,
   "id": "451c14d2-b6b6-4515-9c33-77a0cfbbc151",
   "metadata": {},
   "outputs": [],
   "source": [
    "def compute_mlp_output(encoder_output, w1_mlp, w2_mlp, w3_mlp):\n",
    "    net1_mlp = w1_mlp.dot(encoder_output)\n",
    "    o1_mlp = choose_function(net1_mlp, \"leaky_relu\")\n",
    "    net2_mlp = w2_mlp.dot(o1_mlp)\n",
    "    o2_mlp = choose_function(net2_mlp, \"leaky_relu\")\n",
    "    net3_mlp = w3_mlp.dot(o2_mlp)\n",
    "    o3_mlp = choose_function(net3_mlp, \"sigmoid\")\n",
    "    return o3_mlp"
   ]
  },
  {
   "cell_type": "code",
   "execution_count": 19,
   "id": "33c85737-7dbb-409e-b132-cb7a91c99b49",
   "metadata": {},
   "outputs": [],
   "source": [
    "def compute_encoder_output(X, w1_e, w2_e, w3_e, centers, sigma=1.0):\n",
    "    o1_e = np.array([choose_function(X, \"rbf\", center=c, sigma=sigma) for c in centers])\n",
    "    net2_e = w2_e.dot(o1_e)\n",
    "    o2_e = choose_function(net2_e, \"leaky_relu\")\n",
    "    net3_e = w3_e.dot(o2_e)\n",
    "    o3_e = choose_function(net3_e, \"leaky_relu\")\n",
    "    return o3_e"
   ]
  },
  {
   "cell_type": "code",
   "execution_count": 20,
   "id": "daef8f74-9ba4-4045-b594-bcd2fe20d80d",
   "metadata": {},
   "outputs": [],
   "source": [
    "accuracy_train = np.zeros(epochs_mlp)\n",
    "accuracy_test = np.zeros(epochs_mlp)\n",
    "loss_train = np.zeros(epochs_mlp)\n",
    "loss_test = np.zeros(epochs_mlp)"
   ]
  },
  {
   "cell_type": "code",
   "execution_count": 21,
   "id": "7b8f8cd9-3f4e-4874-b250-a5385617d988",
   "metadata": {
    "scrolled": true
   },
   "outputs": [
    {
     "name": "stdout",
     "output_type": "stream",
     "text": [
      "Epoch 0, Train Loss: 0.1554603313087055, Test Loss: 0.7278427787788214\n",
      "Train Accuracy: 0.5, Test Accuracy: 0.25\n",
      "Epoch 10, Train Loss: 0.21082443796598627, Test Loss: 0.2473538083209534\n",
      "Train Accuracy: 0.5, Test Accuracy: 0.375\n",
      "Epoch 20, Train Loss: 0.21391792383387312, Test Loss: 0.24435395536193866\n",
      "Train Accuracy: 0.5, Test Accuracy: 0.375\n",
      "Epoch 30, Train Loss: 0.21182607911729773, Test Loss: 0.24419534931347786\n",
      "Train Accuracy: 0.5, Test Accuracy: 0.375\n",
      "Epoch 40, Train Loss: 0.21007700341063554, Test Loss: 0.2498955643323523\n",
      "Train Accuracy: 0.5, Test Accuracy: 0.525\n",
      "Epoch 50, Train Loss: 0.21446045793960725, Test Loss: 0.2498614166574797\n",
      "Train Accuracy: 0.5, Test Accuracy: 0.525\n",
      "Epoch 60, Train Loss: 0.21434152832266448, Test Loss: 0.24988737376651243\n",
      "Train Accuracy: 0.5, Test Accuracy: 0.525\n",
      "Epoch 70, Train Loss: 0.21421598432572278, Test Loss: 0.24990499733268096\n",
      "Train Accuracy: 0.5, Test Accuracy: 0.525\n",
      "Epoch 80, Train Loss: 0.2141027944313918, Test Loss: 0.24991632269962555\n",
      "Train Accuracy: 0.5, Test Accuracy: 0.525\n",
      "Epoch 90, Train Loss: 0.21399506944433255, Test Loss: 0.2499253419286871\n",
      "Train Accuracy: 0.5, Test Accuracy: 0.525\n",
      "Epoch 100, Train Loss: 0.21389184778429962, Test Loss: 0.2499320368651927\n",
      "Train Accuracy: 0.5, Test Accuracy: 0.525\n",
      "Epoch 110, Train Loss: 0.21379170450508406, Test Loss: 0.24993711710810332\n",
      "Train Accuracy: 0.5, Test Accuracy: 0.525\n",
      "Epoch 120, Train Loss: 0.21369361865210135, Test Loss: 0.24994102411057972\n",
      "Train Accuracy: 0.5, Test Accuracy: 0.525\n",
      "Epoch 130, Train Loss: 0.21359676228409627, Test Loss: 0.24994404311134935\n",
      "Train Accuracy: 0.5, Test Accuracy: 0.525\n",
      "Epoch 140, Train Loss: 0.21350046013018317, Test Loss: 0.24994636392623118\n",
      "Train Accuracy: 0.5, Test Accuracy: 0.525\n",
      "Epoch 150, Train Loss: 0.21340417259029726, Test Loss: 0.2499481161301618\n",
      "Train Accuracy: 0.5, Test Accuracy: 0.525\n",
      "Epoch 160, Train Loss: 0.2135612438645362, Test Loss: 0.2499544048093739\n",
      "Train Accuracy: 0.5, Test Accuracy: 0.525\n",
      "Epoch 170, Train Loss: 0.21320922511629234, Test Loss: 0.24995019259262763\n",
      "Train Accuracy: 0.5, Test Accuracy: 0.525\n",
      "Epoch 180, Train Loss: 0.21311108005477492, Test Loss: 0.24995069239279066\n",
      "Train Accuracy: 0.5, Test Accuracy: 0.525\n",
      "Epoch 190, Train Loss: 0.21301199798151632, Test Loss: 0.2499508597919445\n",
      "Train Accuracy: 0.5, Test Accuracy: 0.525\n",
      "Epoch 200, Train Loss: 0.21291199589189802, Test Loss: 0.24995072154593687\n",
      "Train Accuracy: 0.5, Test Accuracy: 0.525\n",
      "Epoch 210, Train Loss: 0.21281116107704035, Test Loss: 0.24995029853079664\n",
      "Train Accuracy: 0.5, Test Accuracy: 0.525\n",
      "Epoch 220, Train Loss: 0.21270962746120806, Test Loss: 0.24994960722596615\n",
      "Train Accuracy: 0.5, Test Accuracy: 0.525\n",
      "Epoch 230, Train Loss: 0.21260823935901468, Test Loss: 0.24994920359075862\n",
      "Train Accuracy: 0.5, Test Accuracy: 0.525\n",
      "Epoch 240, Train Loss: 0.21250544439116123, Test Loss: 0.24994800189781025\n",
      "Train Accuracy: 0.5, Test Accuracy: 0.525\n",
      "Epoch 250, Train Loss: 0.21240232249072347, Test Loss: 0.24994656861543124\n",
      "Train Accuracy: 0.5, Test Accuracy: 0.525\n",
      "Epoch 260, Train Loss: 0.21229918303745646, Test Loss: 0.2499449085644906\n",
      "Train Accuracy: 0.5, Test Accuracy: 0.525\n",
      "Epoch 270, Train Loss: 0.21219613983389524, Test Loss: 0.24994302377210054\n",
      "Train Accuracy: 0.5, Test Accuracy: 0.525\n",
      "Epoch 280, Train Loss: 0.21209303101719743, Test Loss: 0.2499409367016923\n",
      "Train Accuracy: 0.5, Test Accuracy: 0.525\n",
      "Epoch 290, Train Loss: 0.21199090710179652, Test Loss: 0.24993862283899257\n",
      "Train Accuracy: 0.5, Test Accuracy: 0.525\n",
      "Epoch 300, Train Loss: 0.2118890705850055, Test Loss: 0.24993608282104218\n",
      "Train Accuracy: 0.5, Test Accuracy: 0.525\n",
      "Epoch 310, Train Loss: 0.21178292832605716, Test Loss: 0.2499333279634116\n",
      "Train Accuracy: 0.5, Test Accuracy: 0.525\n",
      "Epoch 320, Train Loss: 0.21167723155701548, Test Loss: 0.24993033340417448\n",
      "Train Accuracy: 0.5, Test Accuracy: 0.525\n",
      "Epoch 330, Train Loss: 0.21157214743471034, Test Loss: 0.2499270916253752\n",
      "Train Accuracy: 0.5, Test Accuracy: 0.525\n",
      "Epoch 340, Train Loss: 0.21146818480533686, Test Loss: 0.24992411275329182\n",
      "Train Accuracy: 0.5, Test Accuracy: 0.525\n",
      "Epoch 350, Train Loss: 0.21136495077125436, Test Loss: 0.2499203953357772\n",
      "Train Accuracy: 0.5, Test Accuracy: 0.525\n",
      "Epoch 360, Train Loss: 0.21126306533730344, Test Loss: 0.24991642406922016\n",
      "Train Accuracy: 0.5, Test Accuracy: 0.525\n",
      "Epoch 370, Train Loss: 0.2111628027631323, Test Loss: 0.24991220119360946\n",
      "Train Accuracy: 0.5, Test Accuracy: 0.525\n",
      "Epoch 380, Train Loss: 0.2110644371663999, Test Loss: 0.2499077330000701\n",
      "Train Accuracy: 0.5, Test Accuracy: 0.525\n",
      "Epoch 390, Train Loss: 0.21096822743254182, Test Loss: 0.24990302999118988\n",
      "Train Accuracy: 0.5, Test Accuracy: 0.525\n",
      "Epoch 400, Train Loss: 0.21087440214039416, Test Loss: 0.24989810662781323\n",
      "Train Accuracy: 0.5, Test Accuracy: 0.525\n",
      "Epoch 410, Train Loss: 0.2107831470199547, Test Loss: 0.24989295358967098\n",
      "Train Accuracy: 0.5, Test Accuracy: 0.5125\n",
      "Epoch 420, Train Loss: 0.21069425115122298, Test Loss: 0.24988760884321493\n",
      "Train Accuracy: 0.5, Test Accuracy: 0.5125\n",
      "Epoch 430, Train Loss: 0.21060419586268211, Test Loss: 0.24988211761376733\n",
      "Train Accuracy: 0.5, Test Accuracy: 0.5125\n",
      "Epoch 440, Train Loss: 0.21051717293855826, Test Loss: 0.24987650326738375\n",
      "Train Accuracy: 0.5, Test Accuracy: 0.5125\n",
      "Epoch 450, Train Loss: 0.2104331568539517, Test Loss: 0.24987078186293632\n",
      "Train Accuracy: 0.5, Test Accuracy: 0.5\n",
      "Epoch 460, Train Loss: 0.21035207088219893, Test Loss: 0.24986497557263562\n",
      "Train Accuracy: 0.5, Test Accuracy: 0.5\n",
      "Epoch 470, Train Loss: 0.21027380078693242, Test Loss: 0.24985911168508268\n",
      "Train Accuracy: 0.5, Test Accuracy: 0.5\n",
      "Epoch 480, Train Loss: 0.21019820938014488, Test Loss: 0.24985320626870988\n",
      "Train Accuracy: 0.5, Test Accuracy: 0.5\n",
      "Epoch 490, Train Loss: 0.2101251495486176, Test Loss: 0.24984727197671305\n",
      "Train Accuracy: 0.5, Test Accuracy: 0.5\n"
     ]
    }
   ],
   "source": [
    "for t in range(epochs_mlp):\n",
    "    train_loss_epoch = 0\n",
    "    for i in range(X_train.shape[0]):\n",
    "        X = X_train[i]\n",
    "        target = Y_train[i]\n",
    "        \n",
    "        o1_e = np.array([choose_function(X, \"rbf\", center=c, sigma=sigma_rbf) for c in centers])\n",
    "        net2_e = w2_e.dot(o1_e)\n",
    "        o2_e = choose_function(net2_e, \"leaky_relu\")\n",
    "        net3_e = w3_e.dot(o2_e)\n",
    "        o3_e = choose_function(net3_e, \"leaky_relu\")\n",
    "        \n",
    "        # Feedforward MLP\n",
    "        net1_mlp = w1_mlp.dot(o3_e)\n",
    "        o1_mlp = choose_function(net1_mlp, \"leaky_relu\")\n",
    "        net2_mlp = w2_mlp.dot(o1_mlp)\n",
    "        o2_mlp = choose_function(net2_mlp, \"leaky_relu\")\n",
    "        net3_mlp = w3_mlp.dot(o2_mlp)\n",
    "        o3_mlp = choose_function(net3_mlp, \"sigmoid\")\n",
    "        \n",
    "        error = target - o3_mlp\n",
    "        train_loss_epoch += np.mean(error ** 2)\n",
    "        \n",
    "        # Backpropagation MLP\n",
    "        delta3_mlp = error * choose_derivative(net3_mlp, \"sigmoid\")\n",
    "        delta2_mlp = w3_mlp.T.dot(delta3_mlp) * choose_derivative(net2_mlp, \"leaky_relu\")\n",
    "        delta1_mlp = w2_mlp.T.dot(delta2_mlp) * choose_derivative(net1_mlp, \"leaky_relu\")\n",
    "        \n",
    "        w3_mlp += eta_mlp * np.outer(delta3_mlp, o2_mlp)\n",
    "        w2_mlp += eta_mlp * np.outer(delta2_mlp, o1_mlp)\n",
    "        w1_mlp += eta_mlp * np.outer(delta1_mlp, o3_e)\n",
    "    \n",
    "    loss_train[t] = train_loss_epoch / X_train.shape[0]\n",
    "    \n",
    "    predictions_train = get_predictions(X_train, w1_e, w2_e, w3_e, w1_mlp, w2_mlp, w3_mlp, centers, sigma_rbf)\n",
    "    predictions_test = get_predictions(X_test, w1_e, w2_e, w3_e, w1_mlp, w2_mlp, w3_mlp, centers, sigma_rbf)\n",
    "    \n",
    "    predictions_train_binary = (predictions_train > 0.5).astype(int)\n",
    "    predictions_test_binary = (predictions_test > 0.5).astype(int)\n",
    "    \n",
    "    loss_test[t] = np.mean((Y_test - predictions_test) ** 2)\n",
    "    accuracy_train[t] = np.mean(predictions_train_binary == Y_train)\n",
    "    accuracy_test[t] = np.mean(predictions_test_binary == Y_test)\n",
    "    \n",
    "    if t % 10 == 0:\n",
    "        print(f\"Epoch {t}, Train Loss: {loss_train[t]}, Test Loss: {loss_test[t]}\")\n",
    "        print(f\"Train Accuracy: {accuracy_train[t]}, Test Accuracy: {accuracy_test[t]}\")"
   ]
  },
  {
   "cell_type": "markdown",
   "id": "ed4b5a2e-2463-4cdc-9900-fdc8dda6113c",
   "metadata": {},
   "source": [
    "# Result"
   ]
  },
  {
   "cell_type": "code",
   "execution_count": 22,
   "id": "13437290-03c8-4d44-8708-8aa36c811d50",
   "metadata": {},
   "outputs": [
    {
     "name": "stdout",
     "output_type": "stream",
     "text": [
      "Accuracy Train: 0.5\n",
      "Accuracy Test: 0.5\n"
     ]
    },
    {
     "data": {
      "image/png": "[encoded data removed]",
      "text/plain": [
       "<Figure size 640x480 with 1 Axes>"
      ]
     },
     "metadata": {},
     "output_type": "display_data"
    }
   ],
   "source": [
    "print(\"Accuracy Train:\", accuracy_train[-1])\n",
    "print(\"Accuracy Test:\", accuracy_test[-1])\n",
    "plt.plot(accuracy_train, label=\"Accuracy Train\")\n",
    "plt.plot(accuracy_test, label=\"Accuracy Test\")\n",
    "plt.xlabel(\"Epoch\")\n",
    "plt.ylabel(\"Accuracy\")\n",
    "plt.legend()\n",
    "plt.show()"
   ]
  },
  {
   "cell_type": "code",
   "execution_count": 23,
   "id": "6dd94cda-1808-4c22-9d87-7b1accac72a3",
   "metadata": {},
   "outputs": [],
   "source": [
    "cm_train = confusion_matrix(Y_train, predictions_train_binary)\n",
    "cm_test = confusion_matrix(Y_test, predictions_test_binary)"
   ]
  },
  {
   "cell_type": "code",
   "execution_count": 24,
   "id": "f3917f5c-fdcc-4bc1-8a91-653bcad60197",
   "metadata": {},
   "outputs": [
    {
     "data": {
      "image/png": "[encoded data removed]",
      "text/plain": [
       "<Figure size 1000x500 with 1 Axes>"
      ]
     },
     "metadata": {},
     "output_type": "display_data"
    },
    {
     "data": {
      "image/png": "[encoded data removed]",
      "text/plain": [
       "<Figure size 1000x500 with 1 Axes>"
      ]
     },
     "metadata": {},
     "output_type": "display_data"
    },
    {
     "data": {
      "image/png": "[encoded data removed]",
      "text/plain": [
       "<Figure size 800x600 with 2 Axes>"
      ]
     },
     "metadata": {},
     "output_type": "display_data"
    },
    {
     "data": {
      "image/png": "[encoded data removed]",
      "text/plain": [
       "<Figure size 800x600 with 2 Axes>"
      ]
     },
     "metadata": {},
     "output_type": "display_data"
    }
   ],
   "source": [
    "# نمایش نتایج\n",
    "plt.style.use('seaborn-v0_8')\n",
    "\n",
    "plt.figure(figsize=(10, 5))\n",
    "plt.plot(loss_train, label=\"Loss - Train\", color=\"blue\")\n",
    "plt.plot(loss_test, label=\"Loss - Test\", color=\"orange\")\n",
    "plt.xlabel(\"Epoch\")\n",
    "plt.ylabel(\"Loss (MSE)\")\n",
    "plt.title(\"Training and Test Loss over Epochs\")\n",
    "plt.legend()\n",
    "plt.grid(True)\n",
    "plt.show()\n",
    "\n",
    "plt.figure(figsize=(10, 5))\n",
    "plt.plot(accuracy_train, label=\"Accuracy - Train\", color=\"green\")\n",
    "plt.plot(accuracy_test, label=\"Accuracy - Test\", color=\"red\")\n",
    "plt.xlabel(\"Epoch\")\n",
    "plt.ylabel(\"Accuracy\")\n",
    "plt.title(\"Training and Test Accuracy over Epochs\")\n",
    "plt.legend()\n",
    "plt.grid(True)\n",
    "plt.show()\n",
    "\n",
    "plt.figure(figsize=(8, 6))\n",
    "sns.heatmap(cm_train, annot=True, fmt=\"d\", cmap=\"Blues\", cbar=True,\n",
    "            xticklabels=[\"Class 0\", \"Class 1\"],\n",
    "            yticklabels=[\"Class 0\", \"Class 1\"])\n",
    "plt.xlabel(\"Predicted Label\")\n",
    "plt.ylabel(\"True Label\")\n",
    "plt.title(\"Confusion Matrix: Train\")\n",
    "plt.show()\n",
    "\n",
    "plt.figure(figsize=(8, 6))\n",
    "sns.heatmap(cm_test, annot=True, fmt=\"d\", cmap=\"Blues\", cbar=True,\n",
    "            xticklabels=[\"Class 0\", \"Class 1\"],\n",
    "            yticklabels=[\"Class 0\", \"Class 1\"])\n",
    "plt.xlabel(\"Predicted Label\")\n",
    "plt.ylabel(\"True Label\")\n",
    "plt.title(\"Confusion Matrix: Test\")\n",
    "plt.show()"
   ]
  },
  {
   "cell_type": "code",
   "execution_count": null,
   "id": "d9b58aee-0b29-4e66-9465-5321e3c774e6",
   "metadata": {},
   "outputs": [],
   "source": []
  },
  {
   "cell_type": "code",
   "execution_count": null,
   "id": "8c8fc56f-5175-46b2-a3d7-74e0b81b2109",
   "metadata": {},
   "outputs": [],
   "source": []
  },
  {
   "cell_type": "markdown",
   "id": "bc35500b-8b89-44a6-98c1-a1e9e081e1ee",
   "metadata": {},
   "source": [
    "### Some tests"
   ]
  },
  {
   "cell_type": "code",
   "execution_count": 25,
   "id": "7f8caefc-8a1d-4e86-b575-191ff42341cc",
   "metadata": {},
   "outputs": [],
   "source": [
    "# print(\"Delta2_p:\", delta2_p)\n",
    "# print(\"Delta1_p:\", delta1_p)"
   ]
  },
  {
   "cell_type": "code",
   "execution_count": 26,
   "id": "92f202d4-58a5-4828-b068-84fe92566dfc",
   "metadata": {},
   "outputs": [
    {
     "name": "stdout",
     "output_type": "stream",
     "text": [
      "X after normalization: 0.00857976856720088 0.9525765140384062\n"
     ]
    }
   ],
   "source": [
    "print(\"X after normalization:\", X.min(), X.max())"
   ]
  },
  {
   "cell_type": "code",
   "execution_count": 27,
   "id": "da62a642-7a48-4564-b1cf-8bfe1b387f28",
   "metadata": {},
   "outputs": [
    {
     "name": "stdout",
     "output_type": "stream",
     "text": [
      "Class distribution in Y_train: [103 103]\n",
      "Class distribution in Y_test: [10 30]\n"
     ]
    }
   ],
   "source": [
    "print(\"Class distribution in Y_train:\", np.bincount(Y_train))\n",
    "print(\"Class distribution in Y_test:\", np.bincount(Y_test))"
   ]
  },
  {
   "cell_type": "code",
   "execution_count": 28,
   "id": "d899660f-b378-4c70-9dbe-471be8d9e433",
   "metadata": {},
   "outputs": [
    {
     "name": "stdout",
     "output_type": "stream",
     "text": [
      "Predictions distribution (train): (array([172,   3,   4,   3,   4,   7,   3,   3,   6,   1], dtype=int64), array([0.5       , 0.5002224 , 0.5004448 , 0.50066721, 0.50088961,\n",
      "       0.50111201, 0.50133441, 0.50155682, 0.50177922, 0.50200162,\n",
      "       0.50222402]))\n",
      "Predictions distribution (test): (array([28,  2,  1,  2,  1,  0,  2,  2,  1,  1], dtype=int64), array([0.5       , 0.50019262, 0.50038524, 0.50057787, 0.50077049,\n",
      "       0.50096311, 0.50115573, 0.50134835, 0.50154097, 0.5017336 ,\n",
      "       0.50192622]))\n"
     ]
    }
   ],
   "source": [
    "print(\"Predictions distribution (train):\", np.histogram(predictions_train, bins=10))\n",
    "print(\"Predictions distribution (test):\", np.histogram(predictions_test, bins=10))"
   ]
  },
  {
   "cell_type": "code",
   "execution_count": 29,
   "id": "3ec406ed-b0bf-48b6-93cd-422f48a70ea3",
   "metadata": {
    "scrolled": true
   },
   "outputs": [],
   "source": [
    "# predictions_train = get_predictions(X_train, w2_e, w3_e, w1_p, w2_p, centers, sigma_rbf)\n",
    "# predictions_test = get_predictions(X_test, w2_e, w3_e, w1_p, w2_p, centers, sigma_rbf)\n",
    "\n",
    "# print(\"Predictions distribution (train):\", np.histogram(predictions_train, bins=10))\n",
    "# print(\"Predictions distribution (test):\", np.histogram(predictions_test, bins=10))"
   ]
  },
  {
   "cell_type": "code",
   "execution_count": null,
   "id": "f7b869d0-3675-4414-ad64-ad3e88db0446",
   "metadata": {},
   "outputs": [],
   "source": []
  },
  {
   "cell_type": "code",
   "execution_count": null,
   "id": "64807455-9c50-4561-8bd1-7ac469a94c77",
   "metadata": {},
   "outputs": [],
   "source": []
  },
  {
   "cell_type": "code",
   "execution_count": null,
   "id": "a8ce1a82-4a14-4023-a9d6-b3952c05e8a7",
   "metadata": {},
   "outputs": [],
   "source": []
  },
  {
   "cell_type": "code",
   "execution_count": null,
   "id": "c9019204-4c27-469d-ab6c-f5b23f8178f3",
   "metadata": {},
   "outputs": [],
   "source": []
  }
 ],
 "metadata": {
  "kernelspec": {
   "display_name": "Python 3 (ipykernel)",
   "language": "python",
   "name": "python3"
  },
  "language_info": {
   "codemirror_mode": {
    "name": "ipython",
    "version": 3
   },
   "file_extension": ".py",
   "mimetype": "text/x-python",
   "name": "python",
   "nbconvert_exporter": "python",
   "pygments_lexer": "ipython3",
   "version": "3.12.8"
  }
 },
 "nbformat": 4,
 "nbformat_minor": 5
}
