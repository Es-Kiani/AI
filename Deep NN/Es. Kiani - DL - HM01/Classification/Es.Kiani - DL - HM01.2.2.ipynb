{
 "cells": [
  {
   "cell_type": "markdown",
   "id": "a37b351f-ce11-4564-8bce-642796429cfc",
   "metadata": {},
   "source": [
    "# Esfandiar Kiani"
   ]
  },
  {
   "cell_type": "markdown",
   "id": "593f68f9-b1af-42c4-b154-1fdb84ab9e6c",
   "metadata": {},
   "source": [
    "## Deep Learning - HM01 - Part 2.1 (Classification From Scratch)"
   ]
  },
  {
   "cell_type": "markdown",
   "id": "c1d3307e-206a-4204-ac4a-b8b129b73f12",
   "metadata": {},
   "source": [
    "## Imports"
   ]
  },
  {
   "cell_type": "code",
   "execution_count": 1,
   "id": "9a9311af-1e6c-499b-9eb6-0640bbfb4610",
   "metadata": {},
   "outputs": [],
   "source": [
    "import numpy as np\n",
    "import pandas as pd\n",
    "import matplotlib.pyplot as plt\n",
    "import torch\n",
    "import torch.nn as nn\n",
    "import torch.optim as optim\n",
    "from torch.utils.data import Dataset, DataLoader\n",
    "from sklearn.model_selection import train_test_split\n",
    "from sklearn.preprocessing import StandardScaler\n",
    "from sklearn.metrics import confusion_matrix\n",
    "import seaborn as sns"
   ]
  },
  {
   "cell_type": "code",
   "execution_count": 2,
   "id": "8e82c569-8783-4b0f-a094-1e8ddd68fdf1",
   "metadata": {},
   "outputs": [],
   "source": [
    "device = torch.device(\"cuda\" if torch.cuda.is_available() else \"cpu\")"
   ]
  },
  {
   "cell_type": "markdown",
   "id": "ee8a03c9-7fb9-46cd-996c-e8ceadf41883",
   "metadata": {},
   "source": [
    "### Hyperparameters"
   ]
  },
  {
   "cell_type": "code",
   "execution_count": 3,
   "id": "1f9ab2fb-9927-48da-aea8-cd23f06c86b2",
   "metadata": {},
   "outputs": [],
   "source": [
    "FILE_PATH = \"D:/M.A/T2/Deep Learning/Assignments/HM1 - Es.Kiani - 40311614/Wine.xlsx\"\n",
    "INPUT_SIZE = 13\n",
    "HIDDEN1_SIZE = 64\n",
    "HIDDEN2_SIZE = 32\n",
    "HIDDEN3_SIZE = 16\n",
    "OUTPUT_SIZE = 3\n",
    "BATCH_SIZE = 32\n",
    "EPOCHS = 50\n",
    "LEARNING_RATES = [0.05, 0.04, 0.03, 0.02]\n",
    "TRAIN_RATIO = 0.75\n",
    "SEED = 13"
   ]
  },
  {
   "cell_type": "markdown",
   "id": "e0f9086e-7742-4cd7-aa45-d363d0bb4d5a",
   "metadata": {},
   "source": [
    "### Dataset class"
   ]
  },
  {
   "cell_type": "code",
   "execution_count": 4,
   "id": "a759f707-a8c3-4701-be2b-702a9a97c2fc",
   "metadata": {},
   "outputs": [],
   "source": [
    "class WineDataset(Dataset):\n",
    "    def __init__(self, X, y):\n",
    "        self.X = torch.FloatTensor(X).to(device)\n",
    "        self.y = torch.LongTensor(y).to(device)  # Use LongTensor for classification\n",
    "\n",
    "    def __len__(self):\n",
    "        return len(self.X)\n",
    "\n",
    "    def __getitem__(self, idx):\n",
    "        return self.X[idx], self.y[idx]"
   ]
  },
  {
   "cell_type": "markdown",
   "id": "7d8d6943-28bd-49e3-b99c-3ecac52fca39",
   "metadata": {},
   "source": [
    "### Load data"
   ]
  },
  {
   "cell_type": "code",
   "execution_count": 5,
   "id": "2b72476d-121a-41ed-81aa-3b0dbebaf1a9",
   "metadata": {},
   "outputs": [],
   "source": [
    "data = pd.read_excel(FILE_PATH, header=None)\n",
    "X = data.iloc[:, :-1].values\n",
    "y = data.iloc[:, -1].values - 1"
   ]
  },
  {
   "cell_type": "markdown",
   "id": "42da1702-afb1-4aaf-8b25-4c4dec161541",
   "metadata": {},
   "source": [
    "### Normalize"
   ]
  },
  {
   "cell_type": "code",
   "execution_count": 6,
   "id": "8e758ea2-245c-4fff-92d0-29975c8c6e73",
   "metadata": {},
   "outputs": [],
   "source": [
    "scaler = StandardScaler()\n",
    "X = scaler.fit_transform(X)"
   ]
  },
  {
   "cell_type": "markdown",
   "id": "d9c93d9d-6f0a-40a0-8ede-f684d0e01535",
   "metadata": {},
   "source": [
    "### Split dataset"
   ]
  },
  {
   "cell_type": "code",
   "execution_count": 7,
   "id": "7f8ccc8f-4604-455a-aae2-1ac8062e0646",
   "metadata": {},
   "outputs": [],
   "source": [
    "X_train, X_test, y_train, y_test = train_test_split(X, y, test_size=1-TRAIN_RATIO, random_state=SEED)"
   ]
  },
  {
   "cell_type": "markdown",
   "id": "017d8ac1-a30e-473e-831c-dd80269604e8",
   "metadata": {},
   "source": [
    "### DataLoaders"
   ]
  },
  {
   "cell_type": "code",
   "execution_count": 8,
   "id": "cc6d818c-1ab6-47d2-bb70-3821e3fd7aa0",
   "metadata": {},
   "outputs": [],
   "source": [
    "train_dataset = WineDataset(X_train, y_train)\n",
    "test_dataset = WineDataset(X_test, y_test)\n",
    "train_loader = DataLoader(train_dataset, batch_size=BATCH_SIZE, shuffle=True)\n",
    "test_loader = DataLoader(test_dataset, batch_size=BATCH_SIZE, shuffle=False)"
   ]
  },
  {
   "cell_type": "markdown",
   "id": "3599df7e-3c02-4494-96b5-3327b000e408",
   "metadata": {},
   "source": [
    "### Neural Network"
   ]
  },
  {
   "cell_type": "code",
   "execution_count": 9,
   "id": "5400f62e-32eb-4083-a2f5-a6b48d2cf00e",
   "metadata": {},
   "outputs": [],
   "source": [
    "class NeuralNetwork(nn.Module):\n",
    "    def __init__(self, input_size, hidden1_size, hidden2_size, hidden3_size, output_size):\n",
    "        super(NeuralNetwork, self).__init__()\n",
    "        self.layer1 = nn.Linear(input_size, hidden1_size)\n",
    "        self.layer2 = nn.Linear(hidden1_size, hidden2_size)\n",
    "        self.layer3 = nn.Linear(hidden2_size, hidden3_size)\n",
    "        self.layer_out = nn.Linear(hidden3_size, output_size)\n",
    "        self.sigmoid = nn.Sigmoid()\n",
    "        self.softmax = nn.Softmax(dim=1)\n",
    "        \n",
    "    def forward(self, x):\n",
    "        x = self.sigmoid(self.layer1(x))\n",
    "        x = self.sigmoid(self.layer2(x))\n",
    "        x = self.sigmoid(self.layer3(x))\n",
    "        x = self.layer_out(x)\n",
    "        x = self.softmax(x) \n",
    "        return x"
   ]
  },
  {
   "cell_type": "markdown",
   "id": "38a5a08c-c8a1-4347-b3f4-bdeef6a7e6af",
   "metadata": {},
   "source": [
    "### Model"
   ]
  },
  {
   "cell_type": "code",
   "execution_count": 10,
   "id": "a768e6a8-9330-4870-a84a-c0c47c6508f2",
   "metadata": {},
   "outputs": [],
   "source": [
    "model = NeuralNetwork(INPUT_SIZE, HIDDEN1_SIZE, HIDDEN2_SIZE, HIDDEN3_SIZE, OUTPUT_SIZE).to(device)\n",
    "criterion = nn.CrossEntropyLoss() "
   ]
  },
  {
   "cell_type": "markdown",
   "id": "3d88db9b-ca73-428e-be0d-ddb351583ade",
   "metadata": {},
   "source": [
    "### Optimizers for each layer with different learning rates"
   ]
  },
  {
   "cell_type": "code",
   "execution_count": 11,
   "id": "f5c58e21-b38e-4ed6-b555-b808fae62679",
   "metadata": {},
   "outputs": [],
   "source": [
    "optimizer_layer1 = optim.SGD(model.layer1.parameters(), lr=LEARNING_RATES[0])\n",
    "optimizer_layer2 = optim.SGD(model.layer2.parameters(), lr=LEARNING_RATES[1])\n",
    "optimizer_layer3 = optim.SGD(model.layer3.parameters(), lr=LEARNING_RATES[2])\n",
    "optimizer_out = optim.SGD(model.layer_out.parameters(), lr=LEARNING_RATES[3])"
   ]
  },
  {
   "cell_type": "markdown",
   "id": "f309d235-dfbf-455e-b27c-61bd47094581",
   "metadata": {},
   "source": [
    "### Train"
   ]
  },
  {
   "cell_type": "code",
   "execution_count": 12,
   "id": "2ff0f58d-8d14-477a-ac27-f458df7686d6",
   "metadata": {},
   "outputs": [],
   "source": [
    "train_losses = []\n",
    "test_losses = []"
   ]
  },
  {
   "cell_type": "code",
   "execution_count": 13,
   "id": "d808078f-dfad-4510-94e5-35c0613e591b",
   "metadata": {},
   "outputs": [],
   "source": [
    "for epoch in range(EPOCHS):\n",
    "    model.train()\n",
    "    train_loss = 0\n",
    "    for batch_X, batch_y in train_loader:\n",
    "        # Forward pass\n",
    "        outputs = model(batch_X)\n",
    "        loss = criterion(outputs, batch_y)\n",
    "        \n",
    "        # Backward pass and optimization\n",
    "        loss.backward()\n",
    "        optimizer_layer1.step()\n",
    "        optimizer_layer2.step()\n",
    "        optimizer_layer3.step()\n",
    "        optimizer_out.step()\n",
    "        \n",
    "        optimizer_layer1.zero_grad()\n",
    "        optimizer_layer2.zero_grad()\n",
    "        optimizer_layer3.zero_grad()\n",
    "        optimizer_out.zero_grad()\n",
    "        \n",
    "        train_loss += loss.item()\n",
    "    \n",
    "    train_loss /= len(train_loader)\n",
    "    train_losses.append(train_loss)\n",
    "    \n",
    "    # Evaluate on test set\n",
    "    model.eval()\n",
    "    test_loss = 0\n",
    "    all_preds = []\n",
    "    all_labels = []\n",
    "    with torch.no_grad():\n",
    "        for batch_X, batch_y in test_loader:\n",
    "            outputs = model(batch_X)\n",
    "            loss = criterion(outputs, batch_y)\n",
    "            test_loss += loss.item()\n",
    "            \n",
    "            _, preds = torch.max(outputs, 1)\n",
    "            all_preds.extend(preds.cpu().numpy())\n",
    "            all_labels.extend(batch_y.cpu().numpy())\n",
    "    \n",
    "    test_loss /= len(test_loader)\n",
    "    test_losses.append(test_loss)"
   ]
  },
  {
   "cell_type": "markdown",
   "id": "16386822-4688-4b47-b585-020e4bd639ce",
   "metadata": {},
   "source": [
    "### Evaluation"
   ]
  },
  {
   "cell_type": "code",
   "execution_count": 16,
   "id": "581f4f37-5202-42f6-8278-8c4178ba2764",
   "metadata": {},
   "outputs": [],
   "source": [
    "train_preds, train_labels = [], []\n",
    "test_preds, test_labels = [], []"
   ]
  },
  {
   "cell_type": "code",
   "execution_count": 17,
   "id": "d6f30f06-c306-489e-b0ea-ce9d9d616442",
   "metadata": {},
   "outputs": [],
   "source": [
    "model.eval()\n",
    "\n",
    "with torch.no_grad():\n",
    "    for batch_X, batch_y in train_loader:\n",
    "        outputs = model(batch_X)\n",
    "        _, preds = torch.max(outputs, 1)\n",
    "        train_preds.extend(preds.cpu().numpy())\n",
    "        train_labels.extend(batch_y.cpu().numpy())\n",
    "\n",
    "with torch.no_grad():\n",
    "    for batch_X, batch_y in test_loader:\n",
    "        outputs = model(batch_X)\n",
    "        _, preds = torch.max(outputs, 1)\n",
    "        test_preds.extend(preds.cpu().numpy())\n",
    "        test_labels.extend(batch_y.cpu().numpy())"
   ]
  },
  {
   "cell_type": "markdown",
   "id": "436bf319-c560-4155-8b4a-168d6306d4e4",
   "metadata": {},
   "source": [
    "### Result"
   ]
  },
  {
   "cell_type": "code",
   "execution_count": 18,
   "id": "4f4dc399-ed30-4c1e-98fe-3837eb0809d2",
   "metadata": {},
   "outputs": [],
   "source": [
    "train_accuracy = np.mean(np.array(train_preds) == np.array(train_labels))\n",
    "test_accuracy = np.mean(np.array(test_preds) == np.array(test_labels))\n",
    "\n",
    "train_loss_final = np.mean(train_losses[-1])\n",
    "test_loss_final = np.mean(test_losses[-1])"
   ]
  },
  {
   "cell_type": "code",
   "execution_count": 19,
   "id": "2f7ab5c8-5ee7-4ea6-874a-70b470fc50d2",
   "metadata": {},
   "outputs": [
    {
     "name": "stdout",
     "output_type": "stream",
     "text": [
      "Final Training Loss: 0.9738\n",
      "Final Training Accuracy: 0.8722\n",
      "Final Test Loss: 0.9817\n",
      "Final Test Accuracy: 0.9333\n"
     ]
    }
   ],
   "source": [
    "print(f\"Final Training Loss: {train_loss_final:.4f}\")\n",
    "print(f\"Final Training Accuracy: {train_accuracy:.4f}\")\n",
    "print(f\"Final Test Loss: {test_loss_final:.4f}\")\n",
    "print(f\"Final Test Accuracy: {test_accuracy:.4f}\")"
   ]
  },
  {
   "cell_type": "markdown",
   "id": "89dfa518-264d-49fd-8e33-7a5392630898",
   "metadata": {},
   "source": [
    "### Plot"
   ]
  },
  {
   "cell_type": "code",
   "execution_count": 14,
   "id": "c9c245f1-6a72-4010-aec0-37fdb4b831bf",
   "metadata": {},
   "outputs": [
    {
     "data": {
      "image/png": "[encoded data removed]",
      "text/plain": [
       "<Figure size 1000x600 with 1 Axes>"
      ]
     },
     "metadata": {},
     "output_type": "display_data"
    }
   ],
   "source": [
    "plt.figure(figsize=(10, 6))\n",
    "plt.plot(train_losses, label='Train Loss')\n",
    "plt.plot(test_losses, label='Test Loss')\n",
    "plt.xlabel('Epoch')\n",
    "plt.ylabel('Loss')\n",
    "plt.title('Training and Test Loss')\n",
    "plt.legend()\n",
    "plt.show()"
   ]
  },
  {
   "cell_type": "code",
   "execution_count": 20,
   "id": "d3927ca5-f73c-47a8-a437-b969498ee79c",
   "metadata": {},
   "outputs": [
    {
     "data": {
      "image/png": "[encoded data removed]",
      "text/plain": [
       "<Figure size 1200x500 with 4 Axes>"
      ]
     },
     "metadata": {},
     "output_type": "display_data"
    }
   ],
   "source": [
    "plt.figure(figsize=(12, 5))\n",
    "\n",
    "plt.subplot(1, 2, 1)\n",
    "cm_train = confusion_matrix(train_labels, train_preds)\n",
    "sns.heatmap(cm_train, annot=True, fmt='d', cmap='Blues')\n",
    "plt.title('Training Confusion Matrix')\n",
    "plt.xlabel('Predicted')\n",
    "plt.ylabel('True')\n",
    "\n",
    "plt.subplot(1, 2, 2)\n",
    "cm_test = confusion_matrix(test_labels, test_preds)\n",
    "sns.heatmap(cm_test, annot=True, fmt='d', cmap='Blues')\n",
    "plt.title('Test Confusion Matrix')\n",
    "plt.xlabel('Predicted')\n",
    "plt.ylabel('True')\n",
    "\n",
    "plt.tight_layout()\n",
    "plt.show()"
   ]
  },
  {
   "cell_type": "code",
   "execution_count": null,
   "id": "802d4da1-59ba-4f58-833d-e79ca5e11ab3",
   "metadata": {},
   "outputs": [],
   "source": []
  }
 ],
 "metadata": {
  "kernelspec": {
   "display_name": "Python 3 (ipykernel)",
   "language": "python",
   "name": "python3"
  },
  "language_info": {
   "codemirror_mode": {
    "name": "ipython",
    "version": 3
   },
   "file_extension": ".py",
   "mimetype": "text/x-python",
   "name": "python",
   "nbconvert_exporter": "python",
   "pygments_lexer": "ipython3",
   "version": "3.12.8"
  }
 },
 "nbformat": 4,
 "nbformat_minor": 5
}
