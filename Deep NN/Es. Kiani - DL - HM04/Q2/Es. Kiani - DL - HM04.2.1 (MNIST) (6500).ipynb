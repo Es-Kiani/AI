{
 "cells": [
  {
   "cell_type": "code",
   "execution_count": 36,
   "id": "81087f58-11ff-42bf-8230-dcc097fe56b3",
   "metadata": {},
   "outputs": [],
   "source": [
    "import numpy as np\n",
    "from collections import Counter\n",
    "from sklearn.metrics import confusion_matrix, accuracy_score, f1_score\n",
    "import matplotlib.pyplot as plt\n",
    "import gzip\n",
    "import pickle\n",
    "import os\n",
    "import torch\n",
    "from torchvision.datasets import MNIST\n",
    "from torchvision import transforms\n",
    "from torch.utils.data import DataLoader, Subset\n",
    "from torch.utils.data import TensorDataset\n",
    "import pickle\n",
    "import time\n",
    "from sklearn.metrics import ConfusionMatrixDisplay\n",
    "import seaborn as sns\n",
    "import pandas as pd"
   ]
  },
  {
   "cell_type": "code",
   "execution_count": 37,
   "id": "77fdf824-92c6-4fc4-ab2f-e221f896d316",
   "metadata": {},
   "outputs": [],
   "source": [
    "learning_rate = 0.001\n",
    "batch_size = 64\n",
    "num_epochs = 25\n",
    "dropout_rate1 = 0.25\n",
    "dropout_rate2 = 0.5\n",
    "num_classes = 10\n",
    "input_shape = (1, 28, 28)\n",
    "train_fraction = 0.15\n",
    "test_fraction  = 0.15\n",
    "seed = 13"
   ]
  },
  {
   "cell_type": "code",
   "execution_count": 3,
   "id": "23c2e63d-8a20-4cb8-9a07-e984e99b46f9",
   "metadata": {},
   "outputs": [
    {
     "data": {
      "text/plain": [
       "<torch._C.Generator at 0x1d41a986150>"
      ]
     },
     "execution_count": 3,
     "metadata": {},
     "output_type": "execute_result"
    }
   ],
   "source": [
    "np.random.seed(seed)\n",
    "torch.manual_seed(seed)"
   ]
  },
  {
   "cell_type": "markdown",
   "id": "c60a1384-da12-4503-9ab3-db12088f7588",
   "metadata": {
    "jp-MarkdownHeadingCollapsed": true
   },
   "source": [
    "## Functions"
   ]
  },
  {
   "cell_type": "code",
   "execution_count": 4,
   "id": "c31457fb-46c8-44dc-a44f-ad925b7b4dd2",
   "metadata": {},
   "outputs": [],
   "source": [
    "def im2col(x, KH, KW, padding):\n",
    "    B, C, H, W = x.shape\n",
    "    H_out = H + 2 * padding - KH + 1\n",
    "    W_out = W + 2 * padding - KW + 1\n",
    "\n",
    "    x_padded = np.pad(x, ((0, 0), (0, 0), (padding, padding), (padding, padding)))\n",
    "    cols = np.zeros((B, C * KH * KW, H_out * W_out))\n",
    "\n",
    "    for i in range(H_out):\n",
    "        for j in range(W_out):\n",
    "            patch = x_padded[:, :, i:i+KH, j:j+KW]\n",
    "            cols[:, :, i * W_out + j] = patch.reshape(B, -1)\n",
    "\n",
    "    return cols, H_out, W_out"
   ]
  },
  {
   "cell_type": "code",
   "execution_count": 5,
   "id": "4df26d21-0404-4a81-8cac-1fe103487cca",
   "metadata": {},
   "outputs": [],
   "source": [
    "def col2im(dcols, x_shape, KH, KW, padding):\n",
    "    B, C, H, W = x_shape\n",
    "    H_out = H + 2 * padding - KH + 1\n",
    "    W_out = W + 2 * padding - KW + 1\n",
    "\n",
    "    dx_padded = np.zeros((B, C, H + 2 * padding, W + 2 * padding))\n",
    "\n",
    "    for i in range(H_out):\n",
    "        for j in range(W_out):\n",
    "            patch = dcols[:, :, i * W_out + j].reshape(B, C, KH, KW)\n",
    "            dx_padded[:, :, i:i+KH, j:j+KW] += patch\n",
    "\n",
    "    if padding > 0:\n",
    "        return dx_padded[:, :, padding:-padding, padding:-padding]\n",
    "    return dx_padded"
   ]
  },
  {
   "cell_type": "code",
   "execution_count": 6,
   "id": "b9855b31-956d-4781-8ae4-5e6828ad3375",
   "metadata": {},
   "outputs": [],
   "source": [
    "def pad2d(x, padding):\n",
    "    return np.pad(x, ((0, 0), (0, 0), (padding, padding), (padding, padding)))"
   ]
  },
  {
   "cell_type": "code",
   "execution_count": 7,
   "id": "a8259543-6672-49b4-b0de-947bdd877bcd",
   "metadata": {},
   "outputs": [],
   "source": [
    "class Conv2D:\n",
    "    def __init__(self, in_channels, out_channels, kernel_size, padding=0):\n",
    "        self.in_channels = in_channels\n",
    "        self.out_channels = out_channels\n",
    "        self.kernel_size = kernel_size if isinstance(kernel_size, tuple) else (kernel_size, kernel_size)\n",
    "        self.padding = padding\n",
    "        self.weight = np.random.randn(out_channels, in_channels, *self.kernel_size) * 0.01\n",
    "        self.bias = np.zeros((out_channels, 1))\n",
    "        self.d_weight = np.zeros_like(self.weight)\n",
    "        self.d_bias = np.zeros_like(self.bias)\n",
    "\n",
    "    def forward(self, x):\n",
    "        self.x = x\n",
    "        KH, KW = self.kernel_size\n",
    "        B = x.shape[0]\n",
    "        self.cols, self.H_out, self.W_out = im2col(x, KH, KW, self.padding)\n",
    "        W_col = self.weight.reshape(self.out_channels, -1)\n",
    "        out = W_col @ self.cols + self.bias\n",
    "        out = out.reshape(B, self.out_channels, self.H_out, self.W_out)\n",
    "        return out\n",
    "\n",
    "    def backward(self, d_out):\n",
    "        B = d_out.shape[0]\n",
    "        d_out_flat = d_out.reshape(B, self.out_channels, -1)\n",
    "\n",
    "        self.d_weight = np.zeros_like(self.weight)\n",
    "        self.d_bias = np.zeros_like(self.bias)\n",
    "        dW_col = np.zeros((self.out_channels, self.in_channels * self.kernel_size[0] * self.kernel_size[1]))\n",
    "\n",
    "        for b in range(B):\n",
    "            dW_col += d_out_flat[b] @ self.cols[b].T\n",
    "            self.d_bias += np.sum(d_out_flat[b], axis=1, keepdims=True)\n",
    "\n",
    "        self.d_weight = dW_col.reshape(self.weight.shape) / B\n",
    "        self.d_bias /= B\n",
    "\n",
    "        W_col = self.weight.reshape(self.out_channels, -1)\n",
    "        dcols = np.zeros_like(self.cols)\n",
    "        for b in range(B):\n",
    "            dcols[b] = W_col.T @ d_out_flat[b]\n",
    "\n",
    "        dx = col2im(dcols, self.x.shape, *self.kernel_size, self.padding)\n",
    "        return dx"
   ]
  },
  {
   "cell_type": "code",
   "execution_count": 8,
   "id": "812e332f-985a-4d64-80da-3c381e20c341",
   "metadata": {},
   "outputs": [],
   "source": [
    "class BatchNorm:\n",
    "    def __init__(self, channels, eps=1e-5, momentum=0.9):\n",
    "        self.eps = eps\n",
    "        self.momentum = momentum\n",
    "        self.gamma = np.ones((1, channels, 1, 1))\n",
    "        self.beta = np.zeros((1, channels, 1, 1))\n",
    "        self.running_mean = np.zeros((1, channels, 1, 1))\n",
    "        self.running_var = np.ones((1, channels, 1, 1))\n",
    "        self.d_gamma = np.zeros_like(self.gamma)\n",
    "        self.d_beta = np.zeros_like(self.beta)\n",
    "\n",
    "    def forward(self, x, train=True):\n",
    "        self.x = x\n",
    "        if train:\n",
    "            self.mean = x.mean(axis=(0, 2, 3), keepdims=True)\n",
    "            self.var = x.var(axis=(0, 2, 3), keepdims=True)\n",
    "            self.std = np.sqrt(self.var + self.eps)\n",
    "            self.x_hat = (x - self.mean) / self.std\n",
    "            self.out = self.gamma * self.x_hat + self.beta\n",
    "            self.running_mean = self.momentum * self.running_mean + (1 - self.momentum) * self.mean\n",
    "            self.running_var = self.momentum * self.running_var + (1 - self.momentum) * self.var\n",
    "        else:\n",
    "            x_hat = (x - self.running_mean) / np.sqrt(self.running_var + self.eps)\n",
    "            self.out = self.gamma * x_hat + self.beta\n",
    "        return self.out\n",
    "\n",
    "    def backward(self, d_out):\n",
    "        N, C, H, W = d_out.shape\n",
    "        dx_hat = d_out * self.gamma\n",
    "        d_var = np.sum(dx_hat * (self.x - self.mean) * -0.5 * (self.var + self.eps)**(-1.5), axis=(0, 2, 3), keepdims=True)\n",
    "        d_mean = np.sum(dx_hat * -1 / self.std, axis=(0, 2, 3), keepdims=True) + \\\n",
    "                 d_var * np.sum(-2 * (self.x - self.mean), axis=(0, 2, 3), keepdims=True) / (N*H*W)\n",
    "        dx = dx_hat / self.std + d_var * 2 * (self.x - self.mean) / (N*H*W) + d_mean / (N*H*W)\n",
    "        self.d_gamma = np.sum(d_out * self.x_hat, axis=(0, 2, 3), keepdims=True)\n",
    "        self.d_beta = np.sum(d_out, axis=(0, 2, 3), keepdims=True)\n",
    "        return dx"
   ]
  },
  {
   "cell_type": "code",
   "execution_count": 9,
   "id": "baab8fa1-2c47-4a1f-a6ea-7502dae2cb18",
   "metadata": {},
   "outputs": [],
   "source": [
    "class ReLU:\n",
    "    def forward(self, x):\n",
    "        self.mask = x > 0\n",
    "        return x * self.mask\n",
    "\n",
    "    def backward(self, d_out):\n",
    "        return d_out * self.mask"
   ]
  },
  {
   "cell_type": "code",
   "execution_count": 10,
   "id": "8aae9491-75f5-480b-8307-11acf0453040",
   "metadata": {},
   "outputs": [],
   "source": [
    "class MaxPool2D:\n",
    "    def __init__(self, size):\n",
    "        self.size = size\n",
    "\n",
    "    def forward(self, x):\n",
    "        self.x = x\n",
    "        B, C, H, W = x.shape\n",
    "        self.H_out, self.W_out = H // self.size, W // self.size\n",
    "        out = np.zeros((B, C, self.H_out, self.W_out))\n",
    "        self.max_indices = np.zeros_like(x, dtype=bool)\n",
    "        for b in range(B):\n",
    "            for c in range(C):\n",
    "                for i in range(self.H_out):\n",
    "                    for j in range(self.W_out):\n",
    "                        region = x[b, c, i*self.size:(i+1)*self.size, j*self.size:(j+1)*self.size]\n",
    "                        max_val = np.max(region)\n",
    "                        out[b, c, i, j] = max_val\n",
    "                        self.max_indices[b, c, i*self.size:(i+1)*self.size, j*self.size:(j+1)*self.size] = (region == max_val)\n",
    "        return out\n",
    "\n",
    "    def backward(self, d_out):\n",
    "        dx = np.zeros_like(self.x)\n",
    "        for b in range(dx.shape[0]):\n",
    "            for c in range(dx.shape[1]):\n",
    "                for i in range(self.H_out):\n",
    "                    for j in range(self.W_out):\n",
    "                        region = self.max_indices[b, c, i*self.size:(i+1)*self.size, j*self.size:(j+1)*self.size]\n",
    "                        dx[b, c, i*self.size:(i+1)*self.size, j*self.size:(j+1)*self.size] += d_out[b, c, i, j] * region\n",
    "        return dx"
   ]
  },
  {
   "cell_type": "code",
   "execution_count": 11,
   "id": "0d0d4274-d1cb-4cf7-9189-8dba89ee02bd",
   "metadata": {},
   "outputs": [],
   "source": [
    "class Dropout:\n",
    "    def __init__(self, rate):\n",
    "        self.rate = rate\n",
    "\n",
    "    def forward(self, x):\n",
    "        self.mask = (np.random.rand(*x.shape) > self.rate).astype(np.float32)\n",
    "        return x * self.mask / (1.0 - self.rate)\n",
    "\n",
    "    def backward(self, d_out):\n",
    "        return d_out * self.mask / (1.0 - self.rate)"
   ]
  },
  {
   "cell_type": "code",
   "execution_count": 12,
   "id": "dc069379-1d1c-4ba2-bcb6-4a442f07b599",
   "metadata": {},
   "outputs": [],
   "source": [
    "class Flatten:\n",
    "    def forward(self, x):\n",
    "        self.orig_shape = x.shape\n",
    "        return x.reshape(x.shape[0], -1)\n",
    "\n",
    "    def backward(self, d_out):\n",
    "        return d_out.reshape(self.orig_shape)"
   ]
  },
  {
   "cell_type": "code",
   "execution_count": 13,
   "id": "162f9b90-611f-46c6-a2c9-8c695519d9c1",
   "metadata": {},
   "outputs": [],
   "source": [
    "class Linear:\n",
    "    def __init__(self, in_dim, out_dim):\n",
    "        self.W = np.random.randn(in_dim, out_dim) * 0.01\n",
    "        self.b = np.zeros((1, out_dim))\n",
    "        self.dW = np.zeros_like(self.W)\n",
    "        self.db = np.zeros_like(self.b)\n",
    "\n",
    "    def forward(self, x):\n",
    "        self.x = x\n",
    "        return x @ self.W + self.b\n",
    "\n",
    "    def backward(self, d_out):\n",
    "        d_x = d_out @ self.W.T\n",
    "        self.dW = self.x.T @ d_out\n",
    "        self.db = np.sum(d_out, axis=0, keepdims=True)\n",
    "        return d_x"
   ]
  },
  {
   "cell_type": "code",
   "execution_count": 14,
   "id": "f024d728-4961-4478-a9c9-25bb71a1659b",
   "metadata": {},
   "outputs": [],
   "source": [
    "class SoftmaxCrossEntropy:\n",
    "    def forward(self, logits, labels):\n",
    "        self.labels = labels\n",
    "        exps = np.exp(logits - np.max(logits, axis=1, keepdims=True))\n",
    "        self.probs = exps / np.sum(exps, axis=1, keepdims=True)\n",
    "        loss = -np.sum(np.log(self.probs[np.arange(len(labels)), labels])) / len(labels)\n",
    "        return loss\n",
    "\n",
    "    def backward(self):\n",
    "        dx = self.probs.copy()\n",
    "        dx[np.arange(len(self.labels)), self.labels] -= 1\n",
    "        return dx / len(self.labels)"
   ]
  },
  {
   "cell_type": "code",
   "execution_count": 15,
   "id": "dd542cae-ad5e-4f7f-a140-d87323d9f170",
   "metadata": {},
   "outputs": [],
   "source": [
    "class CNNModel:\n",
    "    def __init__(self):\n",
    "        C, H, W = input_shape\n",
    "        self.conv1 = Conv2D(C, 32, kernel_size=3, padding=1)\n",
    "        self.bn1 = BatchNorm(32)\n",
    "        self.relu1 = ReLU()\n",
    "\n",
    "        self.conv2 = Conv2D(32, 64, kernel_size=3, padding=1)\n",
    "        self.bn2 = BatchNorm(64)\n",
    "        self.relu2 = ReLU()\n",
    "\n",
    "        self.pool = MaxPool2D(2)\n",
    "        self.dropout1 = Dropout(dropout_rate1)\n",
    "\n",
    "        self.flatten = Flatten()\n",
    "        self.fc1 = Linear(64 * (H // 2) * (W // 2), 128)\n",
    "        self.relu3 = ReLU()\n",
    "        self.dropout2 = Dropout(dropout_rate2)\n",
    "\n",
    "        self.fc2 = Linear(128, num_classes)\n",
    "        self.criterion = SoftmaxCrossEntropy()\n",
    "\n",
    "    def forward(self, x, y):\n",
    "        out = self.conv1.forward(x)\n",
    "        out = self.bn1.forward(out)\n",
    "        out = self.relu1.forward(out)\n",
    "\n",
    "        out = self.conv2.forward(out)\n",
    "        out = self.bn2.forward(out)\n",
    "        out = self.relu2.forward(out)\n",
    "\n",
    "        out = self.pool.forward(out)\n",
    "        out = self.dropout1.forward(out)\n",
    "\n",
    "        out = self.flatten.forward(out)\n",
    "        out = self.fc1.forward(out)\n",
    "        out = self.relu3.forward(out)\n",
    "        out = self.dropout2.forward(out)\n",
    "        logits = self.fc2.forward(out)\n",
    "\n",
    "        loss = self.criterion.forward(logits, y)\n",
    "        return logits, loss\n",
    "\n",
    "    def backward(self):\n",
    "        d_out = self.criterion.backward()\n",
    "        d_out = self.fc2.backward(d_out)\n",
    "        d_out = self.dropout2.backward(d_out)\n",
    "        d_out = self.relu3.backward(d_out)\n",
    "        d_out = self.fc1.backward(d_out)\n",
    "        d_out = self.flatten.backward(d_out)\n",
    "        d_out = self.dropout1.backward(d_out)\n",
    "        d_out = self.pool.backward(d_out)\n",
    "        d_out = self.relu2.backward(d_out)\n",
    "        d_out = self.bn2.backward(d_out)\n",
    "        d_out = self.conv2.backward(d_out)\n",
    "        d_out = self.relu1.backward(d_out)\n",
    "        d_out = self.bn1.backward(d_out)\n",
    "        d_out = self.conv1.backward(d_out)\n",
    "\n",
    "    def get_params(self):\n",
    "        return [\n",
    "            (self.conv1.weight, self.conv1.d_weight),\n",
    "            (self.conv1.bias, self.conv1.d_bias),\n",
    "            (self.conv2.weight, self.conv2.d_weight),\n",
    "            (self.conv2.bias, self.conv2.d_bias),\n",
    "            (self.bn1.gamma, self.bn1.d_gamma),\n",
    "            (self.bn1.beta, self.bn1.d_beta),\n",
    "            (self.bn2.gamma, self.bn2.d_gamma),\n",
    "            (self.bn2.beta, self.bn2.d_beta),\n",
    "            (self.fc1.W, self.fc1.dW),\n",
    "            (self.fc1.b, self.fc1.db),\n",
    "            (self.fc2.W, self.fc2.dW),\n",
    "            (self.fc2.b, self.fc2.db),\n",
    "        ]"
   ]
  },
  {
   "cell_type": "code",
   "execution_count": 16,
   "id": "311ec460-0ef4-46cd-93f2-cc292c82fe15",
   "metadata": {},
   "outputs": [],
   "source": [
    "class AdamTorchOptimizer:\n",
    "    def __init__(self, model):\n",
    "        self.params = model.get_params()\n",
    "        self.optim_params = []\n",
    "        for w, _ in self.params:\n",
    "            w_tensor = torch.tensor(w, requires_grad=True, dtype=torch.float32)\n",
    "            self.optim_params.append(w_tensor)\n",
    "        self.optimizer = torch.optim.Adam(self.optim_params, lr=learning_rate)\n",
    "\n",
    "    def step(self, model):\n",
    "        with torch.no_grad():\n",
    "            for i, (w, grad) in enumerate(model.get_params()):\n",
    "                self.optim_params[i].grad = torch.tensor(grad, dtype=torch.float32)\n",
    "            self.optimizer.step()\n",
    "            for i, (w, _) in enumerate(model.get_params()):\n",
    "                w[...] = self.optim_params[i].detach().numpy()"
   ]
  },
  {
   "cell_type": "code",
   "execution_count": 17,
   "id": "679cfbad-6b9b-46e7-89e8-da350d809fdb",
   "metadata": {},
   "outputs": [],
   "source": [
    "def get_balanced_data(dataset, train_size=0.8):\n",
    "    targets = dataset.targets.numpy()\n",
    "    class_counts = Counter(targets)\n",
    "    min_class_count = min(class_counts.values())\n",
    "    indices_per_class = {i: [] for i in range(10)}\n",
    "    for idx, target in enumerate(targets):\n",
    "        if len(indices_per_class[target]) < min_class_count:\n",
    "            indices_per_class[target].append(idx)\n",
    "    all_indices = []\n",
    "    for cls in indices_per_class:\n",
    "        all_indices.extend(indices_per_class[cls])\n",
    "    np.random.shuffle(all_indices)\n",
    "    train_count = int(len(all_indices) * train_size)\n",
    "    train_indices = all_indices[:train_count]\n",
    "    test_indices = all_indices[train_count:]\n",
    "    return Subset(dataset, train_indices), Subset(dataset, test_indices)"
   ]
  },
  {
   "cell_type": "code",
   "execution_count": 18,
   "id": "9f794918-46b3-4e0c-a6a0-7b8307e8e34e",
   "metadata": {},
   "outputs": [],
   "source": [
    "def class_distribution(subset):\n",
    "    loader = DataLoader(subset, batch_size=len(subset), shuffle=False)\n",
    "    _, labels = next(iter(loader))\n",
    "    counter = Counter(labels.numpy())\n",
    "    return dict(counter), sum(counter.values())"
   ]
  },
  {
   "cell_type": "code",
   "execution_count": 19,
   "id": "f74c2f4c-163d-4c5a-9305-b7829caeab0a",
   "metadata": {},
   "outputs": [],
   "source": [
    "def extract_numpy_from_subset(subset):\n",
    "    loader = DataLoader(subset, batch_size=len(subset), shuffle=False)\n",
    "    images, labels = next(iter(loader))\n",
    "    return images.numpy(), labels.numpy()"
   ]
  },
  {
   "cell_type": "code",
   "execution_count": 20,
   "id": "7908ed3d-99e8-44df-970b-25006acf6e4f",
   "metadata": {},
   "outputs": [],
   "source": [
    "def reduce_balanced(X, y, fraction):\n",
    "    assert 0 < fraction <= 1.0\n",
    "    selected_idx = []\n",
    "    y = np.array(y)\n",
    "    unique_classes = np.unique(y)\n",
    "    for cls in unique_classes:\n",
    "        cls_idx = np.where(y == cls)[0]\n",
    "        np.random.shuffle(cls_idx)\n",
    "        keep = int(len(cls_idx) * fraction)\n",
    "        selected_idx.extend(cls_idx[:keep])\n",
    "    selected_idx = np.array(selected_idx)\n",
    "    return X[selected_idx], y[selected_idx]"
   ]
  },
  {
   "cell_type": "code",
   "execution_count": null,
   "id": "6b7ec831-c1f6-4569-afce-50a932d6c0bc",
   "metadata": {},
   "outputs": [],
   "source": []
  },
  {
   "cell_type": "markdown",
   "id": "c294ee7a-4096-43e6-ac3d-8fa0c8300f16",
   "metadata": {},
   "source": [
    "## Main"
   ]
  },
  {
   "cell_type": "code",
   "execution_count": 38,
   "id": "8775b75a-31d8-4bd4-9794-58a71e814ab8",
   "metadata": {},
   "outputs": [],
   "source": [
    "transform = transforms.ToTensor()\n",
    "mnist_full = MNIST(root=\"./data\", train=True, download=False, transform=transform)\n",
    "mnist_train, mnist_test = get_balanced_data(mnist_full)"
   ]
  },
  {
   "cell_type": "code",
   "execution_count": 22,
   "id": "ed4fab83-cedb-47b2-96dd-148e58703511",
   "metadata": {},
   "outputs": [],
   "source": [
    "train_dist, train_total = class_distribution(mnist_train)\n",
    "test_dist, test_total = class_distribution(mnist_test)"
   ]
  },
  {
   "cell_type": "code",
   "execution_count": 23,
   "id": "d3671d33-bb27-402c-8748-6701716e0999",
   "metadata": {},
   "outputs": [
    {
     "name": "stdout",
     "output_type": "stream",
     "text": [
      "Train set (Before Reduction): 43368 [4291, 4308, 4319, 4331, 4335, 4337, 4338, 4369, 4369, 4371]\n",
      "Test set (Before Reduction): 10842 [1050, 1052, 1052, 1083, 1084, 1086, 1090, 1102, 1113, 1130]\n"
     ]
    }
   ],
   "source": [
    "print(\"Train set (Before Reduction):\", train_total, sorted(list(train_dist.values())))\n",
    "print(\"Test set (Before Reduction):\", test_total, sorted(list(test_dist.values())))"
   ]
  },
  {
   "cell_type": "code",
   "execution_count": 24,
   "id": "38cd1a35-0033-4a03-9407-2a16e59f4a9b",
   "metadata": {},
   "outputs": [],
   "source": [
    "X_train, y_train = extract_numpy_from_subset(mnist_train)\n",
    "X_test, y_test = extract_numpy_from_subset(mnist_test)"
   ]
  },
  {
   "cell_type": "code",
   "execution_count": 25,
   "id": "f8c1ac8d-3d2a-402c-9347-ee3c43eab7d2",
   "metadata": {},
   "outputs": [],
   "source": [
    "X_train, y_train = reduce_balanced(X_train, y_train, train_fraction)\n",
    "X_test, y_test = reduce_balanced(X_test, y_test, test_fraction)"
   ]
  },
  {
   "cell_type": "code",
   "execution_count": 26,
   "id": "fe707c9e-6078-4b3f-92ff-57d70e217877",
   "metadata": {},
   "outputs": [],
   "source": [
    "X_train_tensor = torch.tensor(X_train)\n",
    "y_train_tensor = torch.tensor(y_train)\n",
    "\n",
    "X_test_tensor = torch.tensor(X_test)\n",
    "y_test_tensor = torch.tensor(y_test)\n",
    "\n",
    "train_com = TensorDataset(X_train_tensor, y_train_tensor)\n",
    "test_com = TensorDataset(X_test_tensor, y_test_tensor)"
   ]
  },
  {
   "cell_type": "code",
   "execution_count": 27,
   "id": "23122b99-9c31-44e5-b77b-cc68dcdc9061",
   "metadata": {},
   "outputs": [],
   "source": [
    "train_dist, train_total = class_distribution(train_com)\n",
    "test_dist, test_total = class_distribution(test_com)"
   ]
  },
  {
   "cell_type": "code",
   "execution_count": 28,
   "id": "7fe91446-4435-4d6f-b2de-e4edc349c5b5",
   "metadata": {},
   "outputs": [
    {
     "name": "stdout",
     "output_type": "stream",
     "text": [
      "Train set (After Reduction): 6500 [643, 646, 647, 649, 650, 650, 650, 655, 655, 655]\n",
      "Test set (After Reduction): 1620 [157, 157, 157, 162, 162, 162, 163, 165, 166, 169]\n"
     ]
    }
   ],
   "source": [
    "print(\"Train set (After Reduction):\", train_total, sorted(list(train_dist.values()))) \n",
    "print(\"Test set (After Reduction):\", test_total, sorted(list(test_dist.values()))) "
   ]
  },
  {
   "cell_type": "code",
   "execution_count": null,
   "id": "d9fa09be-a98f-4776-8ce1-ed472b3dd280",
   "metadata": {},
   "outputs": [],
   "source": []
  },
  {
   "cell_type": "code",
   "execution_count": 29,
   "id": "82ca8bb2-0347-4cdd-8309-70972ccaff0e",
   "metadata": {},
   "outputs": [],
   "source": [
    "train_losses, train_accs = [], []\n",
    "test_losses, test_accs = [], []\n",
    "best_acc = 0\n",
    "best_model = None"
   ]
  },
  {
   "cell_type": "code",
   "execution_count": 30,
   "id": "6d90bbcf-cb19-4c7d-b9e1-620cbe97aff9",
   "metadata": {},
   "outputs": [],
   "source": [
    "model = CNNModel()\n",
    "optimizer = AdamTorchOptimizer(model)"
   ]
  },
  {
   "cell_type": "code",
   "execution_count": 31,
   "id": "1de394d5-ac57-4694-93c3-92bc5b4f5742",
   "metadata": {
    "scrolled": true
   },
   "outputs": [
    {
     "name": "stdout",
     "output_type": "stream",
     "text": [
      "[Epoch 1/25] Train-Loss: 0.6363 Train-Acc: 0.7935\n",
      "Test-Loss: 0.4052 Test-Acc: 0.8852\n",
      "\n",
      "[Epoch 2/25] Train-Loss: 0.2410 Train-Acc: 0.9242\n",
      "Test-Loss: 0.3289 Test-Acc: 0.9080\n",
      "\n",
      "[Epoch 3/25] Train-Loss: 0.1725 Train-Acc: 0.9463\n",
      "Test-Loss: 0.3257 Test-Acc: 0.9031\n",
      "\n",
      "[Epoch 4/25] Train-Loss: 0.1543 Train-Acc: 0.9506\n",
      "Test-Loss: 0.3464 Test-Acc: 0.9012\n",
      "\n",
      "[Epoch 5/25] Train-Loss: 0.1358 Train-Acc: 0.9552\n",
      "Test-Loss: 0.3226 Test-Acc: 0.9123\n",
      "\n",
      "[Epoch 6/25] Train-Loss: 0.0957 Train-Acc: 0.9688\n",
      "Test-Loss: 0.2825 Test-Acc: 0.9265\n",
      "\n",
      "[Epoch 7/25] Train-Loss: 0.1057 Train-Acc: 0.9692\n",
      "Test-Loss: 0.3128 Test-Acc: 0.9216\n",
      "\n",
      "[Epoch 8/25] Train-Loss: 0.0942 Train-Acc: 0.9692\n",
      "Test-Loss: 0.3823 Test-Acc: 0.9173\n",
      "\n",
      "[Epoch 9/25] Train-Loss: 0.1017 Train-Acc: 0.9698\n",
      "Test-Loss: 0.3186 Test-Acc: 0.9241\n",
      "\n",
      "[Epoch 10/25] Train-Loss: 0.0775 Train-Acc: 0.9748\n",
      "Test-Loss: 0.3227 Test-Acc: 0.9235\n",
      "\n",
      "[Epoch 11/25] Train-Loss: 0.0759 Train-Acc: 0.9760\n",
      "Test-Loss: 0.3936 Test-Acc: 0.9154\n",
      "\n",
      "[Epoch 12/25] Train-Loss: 0.0674 Train-Acc: 0.9794\n",
      "Test-Loss: 0.3053 Test-Acc: 0.9333\n",
      "\n",
      "[Epoch 13/25] Train-Loss: 0.0577 Train-Acc: 0.9805\n",
      "Test-Loss: 0.3191 Test-Acc: 0.9340\n",
      "\n",
      "[Epoch 14/25] Train-Loss: 0.0609 Train-Acc: 0.9814\n",
      "Test-Loss: 0.3009 Test-Acc: 0.9315\n",
      "\n",
      "[Epoch 15/25] Train-Loss: 0.0509 Train-Acc: 0.9825\n",
      "Test-Loss: 0.3541 Test-Acc: 0.9265\n",
      "\n",
      "[Epoch 16/25] Train-Loss: 0.0616 Train-Acc: 0.9795\n",
      "Test-Loss: 0.3409 Test-Acc: 0.9241\n",
      "\n",
      "[Epoch 17/25] Train-Loss: 0.0602 Train-Acc: 0.9797\n",
      "Test-Loss: 0.3268 Test-Acc: 0.9333\n",
      "\n",
      "[Epoch 18/25] Train-Loss: 0.0675 Train-Acc: 0.9768\n",
      "Test-Loss: 0.3132 Test-Acc: 0.9148\n",
      "\n",
      "[Epoch 19/25] Train-Loss: 0.0641 Train-Acc: 0.9800\n",
      "Test-Loss: 0.2774 Test-Acc: 0.9383\n",
      "\n",
      "[Epoch 20/25] Train-Loss: 0.0537 Train-Acc: 0.9818\n",
      "Test-Loss: 0.3073 Test-Acc: 0.9321\n",
      "\n",
      "[Epoch 21/25] Train-Loss: 0.0591 Train-Acc: 0.9795\n",
      "Test-Loss: 0.3542 Test-Acc: 0.9377\n",
      "\n",
      "[Epoch 22/25] Train-Loss: 0.0531 Train-Acc: 0.9846\n",
      "Test-Loss: 0.3116 Test-Acc: 0.9321\n",
      "\n",
      "[Epoch 23/25] Train-Loss: 0.0470 Train-Acc: 0.9840\n",
      "Test-Loss: 0.3233 Test-Acc: 0.9278\n",
      "\n",
      "[Epoch 24/25] Train-Loss: 0.0533 Train-Acc: 0.9838\n",
      "Test-Loss: 0.3652 Test-Acc: 0.9414\n",
      "\n",
      "[Epoch 25/25] Train-Loss: 0.0470 Train-Acc: 0.9820\n",
      "Test-Loss: 0.3088 Test-Acc: 0.9395\n",
      "\n"
     ]
    }
   ],
   "source": [
    "for epoch in range(num_epochs):\n",
    "    perm = np.random.permutation(len(X_train))\n",
    "    X_train_epoch = X_train[perm]\n",
    "    y_train_epoch = y_train[perm]\n",
    "    epoch_train_loss = 0\n",
    "    train_preds = []\n",
    "    train_targets = []\n",
    "\n",
    "    for i in range(0, len(X_train_epoch), batch_size):\n",
    "        xb = X_train_epoch[i:i+batch_size]\n",
    "        yb = y_train_epoch[i:i+batch_size]\n",
    "        logits, loss = model.forward(xb, yb)\n",
    "        model.backward()\n",
    "        optimizer.step(model)\n",
    "        epoch_train_loss += loss\n",
    "        train_preds.extend(np.argmax(logits, axis=1))\n",
    "        train_targets.extend(yb)\n",
    "\n",
    "    avg_train_loss = epoch_train_loss / (len(X_train_epoch) // batch_size)\n",
    "    train_acc = accuracy_score(train_targets, train_preds)\n",
    "    train_losses.append(avg_train_loss)\n",
    "    train_accs.append(train_acc)\n",
    "\n",
    "    epoch_test_loss = 0\n",
    "    test_preds = []\n",
    "    test_targets = []\n",
    "    for i in range(0, len(X_test), batch_size):\n",
    "        xb = X_test[i:i+batch_size]\n",
    "        yb = y_test[i:i+batch_size]\n",
    "        logits, loss = model.forward(xb, yb)\n",
    "        epoch_test_loss += loss\n",
    "        preds = np.argmax(logits, axis=1)\n",
    "        test_preds.extend(preds)\n",
    "        test_targets.extend(yb)\n",
    "\n",
    "    avg_test_loss = epoch_test_loss / (len(X_test) // batch_size)\n",
    "    test_acc = accuracy_score(test_targets, test_preds)\n",
    "    test_losses.append(avg_test_loss)\n",
    "    test_accs.append(test_acc)\n",
    "\n",
    "    print(f\"[Epoch {epoch+1}/{num_epochs}] Train-Loss: {avg_train_loss:.4f} Train-Acc: {train_acc:.4f}\\nTest-Loss: {avg_test_loss:.4f} Test-Acc: {test_acc:.4f}\\n\")\n",
    "\n",
    "    if test_acc > best_acc:\n",
    "        best_acc = test_acc\n",
    "        best_model = pickle.loads(pickle.dumps(model))\n",
    "        with open(\"best_model_mnist (6500).pkl\", \"wb\") as f:\n",
    "            pickle.dump(model, f)"
   ]
  },
  {
   "cell_type": "code",
   "execution_count": 32,
   "id": "ddc80500-49eb-4760-80f6-6a068b9b1550",
   "metadata": {},
   "outputs": [
    {
     "data": {
      "image/png": "[encoded data removed]",
      "text/plain": [
       "<Figure size 640x480 with 1 Axes>"
      ]
     },
     "metadata": {},
     "output_type": "display_data"
    }
   ],
   "source": [
    "plt.figure()\n",
    "plt.plot(train_losses, label=\"Train Loss\")\n",
    "plt.plot(test_losses, label=\"Test Loss\")\n",
    "plt.plot(train_accs, label=\"Train Acc\")\n",
    "plt.plot(test_accs, label=\"Test Acc\")\n",
    "plt.title(\"Training Progress - MNIST (6500)\")\n",
    "plt.xlabel(\"Epoch\")\n",
    "plt.ylabel(\"Metric\")\n",
    "plt.legend()\n",
    "plt.grid()\n",
    "plt.show()"
   ]
  },
  {
   "cell_type": "code",
   "execution_count": 33,
   "id": "460bd9e4-006f-47ab-be49-29898f39a9cb",
   "metadata": {},
   "outputs": [],
   "source": [
    "final_preds = []"
   ]
  },
  {
   "cell_type": "code",
   "execution_count": 34,
   "id": "a9a88955-a27b-44e8-8aab-5387ed86f1d9",
   "metadata": {},
   "outputs": [],
   "source": [
    "for i in range(0, len(X_test), batch_size):\n",
    "    xb = X_test[i:i+batch_size]\n",
    "    logits, _ = best_model.forward(xb, y_test[i:i+batch_size])\n",
    "    preds = np.argmax(logits, axis=1)\n",
    "    final_preds.extend(preds)"
   ]
  },
  {
   "cell_type": "code",
   "execution_count": 39,
   "id": "38935be0-9ae0-4caf-8538-b2d91106aefe",
   "metadata": {},
   "outputs": [
    {
     "name": "stdout",
     "output_type": "stream",
     "text": [
      "Confusion Matrix:\n"
     ]
    },
    {
     "data": {
      "image/png": "[encoded data removed]",
      "text/plain": [
       "<Figure size 800x600 with 2 Axes>"
      ]
     },
     "metadata": {},
     "output_type": "display_data"
    }
   ],
   "source": [
    "print(\"Confusion Matrix:\")\n",
    "cm = confusion_matrix(y_test[:len(final_preds)], final_preds)\n",
    "labels = [str(i) for i in range(10)]\n",
    "df_cm = pd.DataFrame(cm, index=labels, columns=labels)\n",
    "plt.figure(figsize=(8, 6))\n",
    "sns.heatmap(df_cm, annot=True, fmt='d', cmap='Blues')\n",
    "plt.xlabel(\"Predicted\")\n",
    "plt.ylabel(\"True\")\n",
    "plt.title(\"Confusion Matrix - CIFAR-10\")\n",
    "plt.tight_layout()\n",
    "plt.show()"
   ]
  },
  {
   "cell_type": "code",
   "execution_count": 40,
   "id": "f1bda363-5768-4750-a043-c815834e2692",
   "metadata": {},
   "outputs": [
    {
     "name": "stdout",
     "output_type": "stream",
     "text": [
      "Accuracy: 0.9333333333333333\n",
      "F1 Score: 0.9334185104750231\n"
     ]
    }
   ],
   "source": [
    "print(\"Accuracy:\", accuracy_score(y_test[:len(final_preds)], final_preds))\n",
    "print(\"F1 Score:\", f1_score(y_test[:len(final_preds)], final_preds, average='macro'))"
   ]
  },
  {
   "cell_type": "code",
   "execution_count": null,
   "id": "48c8ca7a-3f63-4c6c-a7b2-f91d9a1d9e8b",
   "metadata": {},
   "outputs": [],
   "source": []
  },
  {
   "cell_type": "code",
   "execution_count": null,
   "id": "9be51709-b53b-4592-b11f-03eefec77071",
   "metadata": {},
   "outputs": [],
   "source": []
  },
  {
   "cell_type": "code",
   "execution_count": null,
   "id": "ea1572fc-e450-45e2-af68-d136dd529939",
   "metadata": {},
   "outputs": [],
   "source": []
  }
 ],
 "metadata": {
  "kernelspec": {
   "display_name": "Python 3 (ipykernel)",
   "language": "python",
   "name": "python3"
  },
  "language_info": {
   "codemirror_mode": {
    "name": "ipython",
    "version": 3
   },
   "file_extension": ".py",
   "mimetype": "text/x-python",
   "name": "python",
   "nbconvert_exporter": "python",
   "pygments_lexer": "ipython3",
   "version": "3.12.8"
  },
  "widgets": {
   "application/vnd.jupyter.widget-state+json": {
    "state": {},
    "version_major": 2,
    "version_minor": 0
   }
  }
 },
 "nbformat": 4,
 "nbformat_minor": 5
}
