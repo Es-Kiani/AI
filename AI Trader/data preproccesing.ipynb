{
 "cells": [
  {
   "cell_type": "markdown",
   "metadata": {},
   "source": [
    "## Imports"
   ]
  },
  {
   "cell_type": "code",
   "execution_count": 1,
   "metadata": {},
   "outputs": [],
   "source": [
    "import pandas as pd\n",
    "import numpy as np"
   ]
  },
  {
   "cell_type": "markdown",
   "metadata": {},
   "source": [
    "## Files path"
   ]
  },
  {
   "cell_type": "code",
   "execution_count": 3,
   "metadata": {},
   "outputs": [],
   "source": [
    "FILE_PATH = \"C:/Users/Stephen/Desktop/EURUSD_M5.csv\""
   ]
  },
  {
   "cell_type": "markdown",
   "metadata": {},
   "source": [
    "## Read dataset"
   ]
  },
  {
   "cell_type": "code",
   "execution_count": 13,
   "metadata": {},
   "outputs": [],
   "source": [
    "df = pd.read_csv(FILE_PATH)"
   ]
  },
  {
   "cell_type": "code",
   "execution_count": 14,
   "metadata": {},
   "outputs": [
    {
     "data": {
      "text/html": [
       "<div>\n",
       "<style scoped>\n",
       "    .dataframe tbody tr th:only-of-type {\n",
       "        vertical-align: middle;\n",
       "    }\n",
       "\n",
       "    .dataframe tbody tr th {\n",
       "        vertical-align: top;\n",
       "    }\n",
       "\n",
       "    .dataframe thead th {\n",
       "        text-align: right;\n",
       "    }\n",
       "</style>\n",
       "<table border=\"1\" class=\"dataframe\">\n",
       "  <thead>\n",
       "    <tr style=\"text-align: right;\">\n",
       "      <th></th>\n",
       "      <th>Open</th>\n",
       "      <th>High</th>\n",
       "      <th>Low</th>\n",
       "      <th>Close</th>\n",
       "      <th>Volume</th>\n",
       "      <th>Date</th>\n",
       "      <th>Time</th>\n",
       "    </tr>\n",
       "  </thead>\n",
       "  <tbody>\n",
       "    <tr>\n",
       "      <th>0</th>\n",
       "      <td>1.27380</td>\n",
       "      <td>1.28220</td>\n",
       "      <td>1.27180</td>\n",
       "      <td>1.2814</td>\n",
       "      <td>38504</td>\n",
       "      <td>2008-12-04</td>\n",
       "      <td>16:00:00</td>\n",
       "    </tr>\n",
       "    <tr>\n",
       "      <th>1</th>\n",
       "      <td>1.28155</td>\n",
       "      <td>1.28475</td>\n",
       "      <td>1.27995</td>\n",
       "      <td>1.2838</td>\n",
       "      <td>28903</td>\n",
       "      <td>2008-12-04</td>\n",
       "      <td>16:30:00</td>\n",
       "    </tr>\n",
       "    <tr>\n",
       "      <th>2</th>\n",
       "      <td>1.28380</td>\n",
       "      <td>1.28400</td>\n",
       "      <td>1.28115</td>\n",
       "      <td>1.2829</td>\n",
       "      <td>18663</td>\n",
       "      <td>2008-12-04</td>\n",
       "      <td>17:00:00</td>\n",
       "    </tr>\n",
       "    <tr>\n",
       "      <th>3</th>\n",
       "      <td>1.28295</td>\n",
       "      <td>1.28305</td>\n",
       "      <td>1.27860</td>\n",
       "      <td>1.2792</td>\n",
       "      <td>12610</td>\n",
       "      <td>2008-12-04</td>\n",
       "      <td>17:30:00</td>\n",
       "    </tr>\n",
       "    <tr>\n",
       "      <th>4</th>\n",
       "      <td>1.27915</td>\n",
       "      <td>1.28025</td>\n",
       "      <td>1.27860</td>\n",
       "      <td>1.2793</td>\n",
       "      <td>11970</td>\n",
       "      <td>2008-12-04</td>\n",
       "      <td>18:00:00</td>\n",
       "    </tr>\n",
       "  </tbody>\n",
       "</table>\n",
       "</div>"
      ],
      "text/plain": [
       "      Open     High      Low   Close  Volume        Date      Time\n",
       "0  1.27380  1.28220  1.27180  1.2814   38504  2008-12-04  16:00:00\n",
       "1  1.28155  1.28475  1.27995  1.2838   28903  2008-12-04  16:30:00\n",
       "2  1.28380  1.28400  1.28115  1.2829   18663  2008-12-04  17:00:00\n",
       "3  1.28295  1.28305  1.27860  1.2792   12610  2008-12-04  17:30:00\n",
       "4  1.27915  1.28025  1.27860  1.2793   11970  2008-12-04  18:00:00"
      ]
     },
     "execution_count": 14,
     "metadata": {},
     "output_type": "execute_result"
    }
   ],
   "source": [
    "df.head()"
   ]
  },
  {
   "cell_type": "markdown",
   "metadata": {},
   "source": [
    "## Clean dataset"
   ]
  },
  {
   "cell_type": "code",
   "execution_count": 4,
   "metadata": {},
   "outputs": [
    {
     "name": "stderr",
     "output_type": "stream",
     "text": [
      "<>:1: SyntaxWarning: invalid escape sequence '\\E'\n",
      "<>:1: SyntaxWarning: invalid escape sequence '\\E'\n",
      "C:\\Users\\Stephen\\AppData\\Local\\Temp\\ipykernel_27652\\198518384.py:1: SyntaxWarning: invalid escape sequence '\\E'\n",
      "  data = pd.read_csv(\"Dataset\\EURUSD\\EURUSD_M30.csv\")\n"
     ]
    },
    {
     "name": "stdout",
     "output_type": "stream",
     "text": [
      "Dataset cleaned and saved to EURUSD_M30_cleaned.csv.\n"
     ]
    }
   ],
   "source": [
    "data = pd.read_csv(\"Dataset\\EURUSD\\EURUSD_M30.csv\")\n",
    "\n",
    "# Split the single column into multiple columns using tab as the delimiter\n",
    "data_split = data['Time\\tOpen\\tHigh\\tLow\\tClose\\tVolume'].str.split('\\t', expand=True)\n",
    "\n",
    "# Retain only the first 6 columns and assign meaningful column names\n",
    "data_split = data_split.iloc[:, :6]\n",
    "data_split.columns = ['DateTime', 'Open', 'High', 'Low', 'Close', 'Volume']\n",
    "\n",
    "# Split DateTime into separate Date and Time columns\n",
    "data_split[['Date', 'Time']] = data_split['DateTime'].str.split(' ', expand=True)\n",
    "data_split.drop(columns=['DateTime'], inplace=True)\n",
    "\n",
    "# Convert data types\n",
    "# Parse datetime for the Date column\n",
    "data_split['Date'] = pd.to_datetime(data_split['Date'], errors='coerce')\n",
    "\n",
    "# Convert price and volume columns to numeric types\n",
    "numeric_columns = ['Open', 'High', 'Low', 'Close', 'Volume']\n",
    "for col in numeric_columns:\n",
    "    data_split[col] = pd.to_numeric(data_split[col], errors='coerce')\n",
    "\n",
    "# Drop rows with missing or invalid values\n",
    "data_cleaned = data_split.dropna()\n",
    "\n",
    "# Save the cleaned dataset to a new CSV file\n",
    "output_file = \"EURUSD_M30_cleaned.csv\"  # Replace with the desired output file name\n",
    "data_cleaned.to_csv(output_file, index=False)\n",
    "\n",
    "print(f\"Dataset cleaned and saved to {output_file}.\")"
   ]
  },
  {
   "cell_type": "markdown",
   "metadata": {},
   "source": [
    "## Add RSI14 and SMAs to dataset"
   ]
  },
  {
   "cell_type": "code",
   "execution_count": 3,
   "metadata": {},
   "outputs": [
    {
     "name": "stdout",
     "output_type": "stream",
     "text": [
      "SMAs and RSI14 added, cleaned, and saved to EURUSD_M30_feature_v.2.csv.\n"
     ]
    }
   ],
   "source": [
    "# Load the cleaned dataset\n",
    "FILE_PATH = \"./Dataset/EURUSD/EURUSD_M30_cleaned.csv\"  # Replace with the actual file path\n",
    "data = pd.read_csv(FILE_PATH)\n",
    "\n",
    "# Ensure the dataset is sorted by Date and Time\n",
    "data['Date'] = pd.to_datetime(data['Date'])\n",
    "data['DateTime'] = pd.to_datetime(data['Date'].astype(str) + ' ' + data['Time'])\n",
    "data = data.sort_values('DateTime').reset_index(drop=True)\n",
    "\n",
    "# Calculate SMAs\n",
    "data['SMA200'] = data['Close'].rolling(window=200).mean()\n",
    "data['SMA100'] = data['Close'].rolling(window=100).mean()\n",
    "data['SMA50'] = data['Close'].rolling(window=50).mean()\n",
    "data['SMA13'] = data['Close'].rolling(window=13).mean()\n",
    "\n",
    "# Calculate RSI14\n",
    "# Define a function to compute RSI\n",
    "def calculate_rsi(series, period=14):\n",
    "    delta = series.diff()\n",
    "    gain = (delta.where(delta > 0, 0)).rolling(window=period).mean()\n",
    "    loss = (-delta.where(delta < 0, 0)).rolling(window=period).mean()\n",
    "    rs = gain / loss\n",
    "    rsi = 100 - (100 / (1 + rs))\n",
    "    return rsi\n",
    "\n",
    "data['RSI14'] = calculate_rsi(data['Close'], period=14)\n",
    "\n",
    "# Drop rows with missing values (e.g., the first 100 rows that lack SMA100)\n",
    "data = data.dropna().reset_index(drop=True)\n",
    "\n",
    "# Save the dataset with the new features\n",
    "output_file = \"EURUSD_M30_feature_v.2.csv\"  # Replace with the desired output file name\n",
    "data.to_csv(output_file, index=False)\n",
    "\n",
    "print(f\"SMAs and RSI14 added, cleaned, and saved to {output_file}.\")\n"
   ]
  },
  {
   "cell_type": "code",
   "execution_count": null,
   "metadata": {},
   "outputs": [],
   "source": []
  }
 ],
 "metadata": {
  "kernelspec": {
   "display_name": "Python 3",
   "language": "python",
   "name": "python3"
  },
  "language_info": {
   "codemirror_mode": {
    "name": "ipython",
    "version": 3
   },
   "file_extension": ".py",
   "mimetype": "text/x-python",
   "name": "python",
   "nbconvert_exporter": "python",
   "pygments_lexer": "ipython3",
   "version": "3.12.8"
  }
 },
 "nbformat": 4,
 "nbformat_minor": 2
}
