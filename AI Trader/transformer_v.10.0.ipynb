{
 "cells": [
  {
   "cell_type": "code",
   "execution_count": 1,
   "metadata": {},
   "outputs": [],
   "source": [
    "import pandas as pd\n",
    "import torch\n",
    "from torch import nn\n",
    "from torch.utils.data import DataLoader, Dataset\n",
    "from sklearn.model_selection import train_test_split\n",
    "from sklearn.metrics import accuracy_score, f1_score\n",
    "from sklearn.preprocessing import MinMaxScaler\n",
    "import numpy as np\n",
    "import pickle"
   ]
  },
  {
   "cell_type": "code",
   "execution_count": 14,
   "metadata": {},
   "outputs": [],
   "source": [
    "# Parameters\n",
    "FILE_PATH = './Dataset/EURUSD/EURUSD_M30_features+label_v.2.1.csv'\n",
    "COLUMNS = ['Close', 'SMA200', 'SMA50', 'RSI14']\n",
    "LABEL = 'signal'\n",
    "SEQ_LENGTH = 20\n",
    "NUM_LAYERS = 4\n",
    "NUM_HEADS = 4\n",
    "BATCH_SIZE = 1024\n",
    "EPOCHS = 50\n",
    "DROPOUT = 0.4\n",
    "LEARNING_RATE = 0.01\n",
    "RANDOM_STATE = 13\n",
    "TRAIN_SHUFFLE = True\n",
    "TEST_SHUFFLE = True\n",
    "TRAIN_TEST_RATIO = 0.2\n",
    "DEVICE = torch.device(\"cuda\" if torch.cuda.is_available() else \"cpu\")"
   ]
  },
  {
   "cell_type": "code",
   "execution_count": 3,
   "metadata": {},
   "outputs": [],
   "source": [
    "# Load and preprocess data\n",
    "data = pd.read_csv(FILE_PATH)\n",
    "data = data[COLUMNS + [LABEL]]\n",
    "data[COLUMNS] = data[COLUMNS].round(4)"
   ]
  },
  {
   "cell_type": "code",
   "execution_count": 4,
   "metadata": {},
   "outputs": [],
   "source": [
    "# Normalize features\n",
    "scaler = MinMaxScaler()\n",
    "data[COLUMNS] = scaler.fit_transform(data[COLUMNS])"
   ]
  },
  {
   "cell_type": "code",
   "execution_count": 5,
   "metadata": {},
   "outputs": [],
   "source": [
    "# Adjust labels\n",
    "data[LABEL] = data[LABEL] - 1"
   ]
  },
  {
   "cell_type": "code",
   "execution_count": 6,
   "metadata": {},
   "outputs": [],
   "source": [
    "# Create sequences\n",
    "class ForexDataset(Dataset):\n",
    "    def __init__(self, data, seq_length):\n",
    "        self.features = []\n",
    "        self.labels = []\n",
    "        for i in range(len(data) - seq_length):\n",
    "            self.features.append(data.iloc[i:i + seq_length][COLUMNS].values)\n",
    "            self.labels.append(data.iloc[i + seq_length][LABEL])\n",
    "        self.features = torch.tensor(self.features, dtype=torch.float32)\n",
    "        self.labels = torch.tensor(self.labels, dtype=torch.long)\n",
    "\n",
    "    def __len__(self):\n",
    "        return len(self.features)\n",
    "\n",
    "    def __getitem__(self, idx):\n",
    "        return self.features[idx], self.labels[idx]\n"
   ]
  },
  {
   "cell_type": "code",
   "execution_count": 7,
   "metadata": {},
   "outputs": [],
   "source": [
    "# Split data\n",
    "train_data, test_data = train_test_split(data, test_size=TRAIN_TEST_RATIO, random_state=RANDOM_STATE)"
   ]
  },
  {
   "cell_type": "code",
   "execution_count": 8,
   "metadata": {},
   "outputs": [
    {
     "name": "stderr",
     "output_type": "stream",
     "text": [
      "C:\\Users\\Stephen\\AppData\\Local\\Temp\\ipykernel_27832\\2456821998.py:9: UserWarning: Creating a tensor from a list of numpy.ndarrays is extremely slow. Please consider converting the list to a single numpy.ndarray with numpy.array() before converting to a tensor. (Triggered internally at C:\\actions-runner\\_work\\pytorch\\pytorch\\builder\\windows\\pytorch\\torch\\csrc\\utils\\tensor_new.cpp:281.)\n",
      "  self.features = torch.tensor(self.features, dtype=torch.float32)\n"
     ]
    }
   ],
   "source": [
    "train_dataset = ForexDataset(train_data, SEQ_LENGTH)\n",
    "test_dataset = ForexDataset(test_data, SEQ_LENGTH)"
   ]
  },
  {
   "cell_type": "code",
   "execution_count": 9,
   "metadata": {},
   "outputs": [],
   "source": [
    "train_loader = DataLoader(train_dataset, batch_size=BATCH_SIZE, shuffle=TRAIN_SHUFFLE)\n",
    "test_loader = DataLoader(test_dataset, batch_size=BATCH_SIZE, shuffle=TEST_SHUFFLE)"
   ]
  },
  {
   "cell_type": "code",
   "execution_count": 10,
   "metadata": {},
   "outputs": [],
   "source": [
    "# Transformer model with normalization layers\n",
    "class TransformerModel(nn.Module):\n",
    "    def __init__(self, input_dim, num_classes, seq_length, num_layers, num_heads, dropout):\n",
    "        super(TransformerModel, self).__init__()\n",
    "        self.norm1 = nn.LayerNorm(input_dim)\n",
    "        self.encoder_layer = nn.TransformerEncoderLayer(\n",
    "            d_model=input_dim, nhead=num_heads, dropout=dropout, batch_first=True\n",
    "        )\n",
    "        self.transformer = nn.TransformerEncoder(self.encoder_layer, num_layers=num_layers)\n",
    "        self.norm2 = nn.LayerNorm(seq_length * input_dim)\n",
    "        self.fc = nn.Linear(seq_length * input_dim, num_classes)\n",
    "\n",
    "    def forward(self, x):\n",
    "        x = self.norm1(x)\n",
    "        x = self.transformer(x)\n",
    "        x = x.flatten(start_dim=1)\n",
    "        x = self.norm2(x)\n",
    "        return self.fc(x)"
   ]
  },
  {
   "cell_type": "code",
   "execution_count": 15,
   "metadata": {},
   "outputs": [],
   "source": [
    "model = TransformerModel(input_dim=len(COLUMNS), num_classes=len(set(data[LABEL])), seq_length=SEQ_LENGTH, num_layers=NUM_LAYERS, num_heads=NUM_HEADS, dropout=DROPOUT).to(DEVICE)"
   ]
  },
  {
   "cell_type": "code",
   "execution_count": 16,
   "metadata": {},
   "outputs": [],
   "source": [
    "# Loss and optimizer\n",
    "criterion = nn.CrossEntropyLoss()\n",
    "optimizer = torch.optim.Adam(model.parameters(), lr=LEARNING_RATE)"
   ]
  },
  {
   "cell_type": "code",
   "execution_count": null,
   "metadata": {},
   "outputs": [
    {
     "name": "stdout",
     "output_type": "stream",
     "text": [
      "Epoch 1/50, Train Loss: 164.3073, Train Acc: 0.4989, Train F1: 0.3403, Test Acc: 0.4997, Test F1: 0.3330\n",
      "Epoch 2/50, Train Loss: 163.4619, Train Acc: 0.5020, Train F1: 0.3356, Test Acc: 0.4997, Test F1: 0.3330\n",
      "Epoch 3/50, Train Loss: 163.4409, Train Acc: 0.5020, Train F1: 0.3356, Test Acc: 0.4997, Test F1: 0.3330\n",
      "Epoch 4/50, Train Loss: 163.2125, Train Acc: 0.5020, Train F1: 0.3356, Test Acc: 0.4997, Test F1: 0.3330\n",
      "Epoch 5/50, Train Loss: 163.1773, Train Acc: 0.5020, Train F1: 0.3356, Test Acc: 0.4997, Test F1: 0.3330\n",
      "Epoch 6/50, Train Loss: 163.1577, Train Acc: 0.5020, Train F1: 0.3356, Test Acc: 0.4997, Test F1: 0.3330\n",
      "Epoch 7/50, Train Loss: 163.0540, Train Acc: 0.5020, Train F1: 0.3356, Test Acc: 0.4997, Test F1: 0.3330\n",
      "Epoch 8/50, Train Loss: 163.1432, Train Acc: 0.5020, Train F1: 0.3356, Test Acc: 0.4997, Test F1: 0.3330\n",
      "Epoch 9/50, Train Loss: 163.1567, Train Acc: 0.5020, Train F1: 0.3356, Test Acc: 0.4997, Test F1: 0.3330\n",
      "Epoch 10/50, Train Loss: 163.1103, Train Acc: 0.5020, Train F1: 0.3356, Test Acc: 0.4997, Test F1: 0.3330\n",
      "Epoch 11/50, Train Loss: 163.0229, Train Acc: 0.5020, Train F1: 0.3356, Test Acc: 0.4997, Test F1: 0.3330\n",
      "Epoch 12/50, Train Loss: 163.0579, Train Acc: 0.5020, Train F1: 0.3356, Test Acc: 0.4997, Test F1: 0.3330\n",
      "Epoch 13/50, Train Loss: 163.0505, Train Acc: 0.5020, Train F1: 0.3356, Test Acc: 0.4997, Test F1: 0.3330\n"
     ]
    }
   ],
   "source": [
    "# Training loop\n",
    "for epoch in range(EPOCHS):\n",
    "    model.train()\n",
    "    train_loss, train_preds, train_labels = 0, [], []\n",
    "    for features, labels in train_loader:\n",
    "        features, labels = features.to(DEVICE), labels.to(DEVICE)\n",
    "        optimizer.zero_grad()\n",
    "        outputs = model(features)\n",
    "        loss = criterion(outputs, labels)\n",
    "        loss.backward()\n",
    "        optimizer.step()\n",
    "        train_loss += loss.item()\n",
    "        train_preds.extend(torch.argmax(outputs, dim=1).cpu().numpy())\n",
    "        train_labels.extend(labels.cpu().numpy())\n",
    "\n",
    "    train_acc = accuracy_score(train_labels, train_preds)\n",
    "    train_f1 = f1_score(train_labels, train_preds, average='weighted')\n",
    "\n",
    "    model.eval()\n",
    "    test_preds, test_labels = [], []\n",
    "    with torch.no_grad():\n",
    "        for features, labels in test_loader:\n",
    "            features, labels = features.to(DEVICE), labels.to(DEVICE)\n",
    "            outputs = model(features)\n",
    "            test_preds.extend(torch.argmax(outputs, dim=1).cpu().numpy())\n",
    "            test_labels.extend(labels.cpu().numpy())\n",
    "\n",
    "    test_acc = accuracy_score(test_labels, test_preds)\n",
    "    test_f1 = f1_score(test_labels, test_preds, average='weighted')\n",
    "\n",
    "    print(f\"Epoch {epoch + 1}/{EPOCHS}, \"\n",
    "          f\"Train Loss: {train_loss:.4f}, \"\n",
    "          f\"Train Acc: {train_acc:.4f}, Train F1: {train_f1:.4f}, \"\n",
    "          f\"Test Acc: {test_acc:.4f}, Test F1: {test_f1:.4f}\")\n"
   ]
  }
 ],
 "metadata": {
  "kernelspec": {
   "display_name": "Python 3",
   "language": "python",
   "name": "python3"
  },
  "language_info": {
   "codemirror_mode": {
    "name": "ipython",
    "version": 3
   },
   "file_extension": ".py",
   "mimetype": "text/x-python",
   "name": "python",
   "nbconvert_exporter": "python",
   "pygments_lexer": "ipython3",
   "version": "3.12.8"
  }
 },
 "nbformat": 4,
 "nbformat_minor": 2
}
