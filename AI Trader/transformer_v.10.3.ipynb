{
 "cells": [
  {
   "cell_type": "code",
   "execution_count": 1,
   "metadata": {},
   "outputs": [],
   "source": [
    "import pandas as pd\n",
    "import torch\n",
    "from torch import nn\n",
    "from torch.utils.data import DataLoader, Dataset\n",
    "from sklearn.model_selection import train_test_split\n",
    "from sklearn.metrics import accuracy_score, f1_score\n",
    "from sklearn.preprocessing import MinMaxScaler\n",
    "import numpy as np\n",
    "import pickle"
   ]
  },
  {
   "cell_type": "code",
   "execution_count": 2,
   "metadata": {},
   "outputs": [],
   "source": [
    "# Parameters\n",
    "FILE_PATH = './Dataset/EURUSD/EURUSD_M30_features+label_v.2.1.csv'\n",
    "COLUMNS = ['Close', 'SMA200', 'SMA13', 'RSI14']\n",
    "LABEL = 'signal'\n",
    "SEQ_LENGTH = 20\n",
    "NUM_LAYERS = 4\n",
    "NUM_HEADS = 4\n",
    "BATCH_SIZE = 1024\n",
    "EPOCHS = 50\n",
    "DROPOUT = 0.4\n",
    "LEARNING_RATE = 0.01\n",
    "RANDOM_STATE = 13\n",
    "TRAIN_SHUFFLE = True\n",
    "TEST_SHUFFLE = True\n",
    "TRAIN_TEST_RATIO = 0.2\n",
    "DEVICE = torch.device(\"cuda\" if torch.cuda.is_available() else \"cpu\")"
   ]
  },
  {
   "cell_type": "code",
   "execution_count": 3,
   "metadata": {},
   "outputs": [],
   "source": [
    "# Load and preprocess data\n",
    "data = pd.read_csv(FILE_PATH)\n",
    "data = data[COLUMNS + [LABEL]]\n",
    "data[COLUMNS] = data[COLUMNS].round(4)"
   ]
  },
  {
   "cell_type": "code",
   "execution_count": 4,
   "metadata": {},
   "outputs": [],
   "source": [
    "# Normalize features\n",
    "scaler = MinMaxScaler()\n",
    "data[COLUMNS] = scaler.fit_transform(data[COLUMNS])"
   ]
  },
  {
   "cell_type": "code",
   "execution_count": 5,
   "metadata": {},
   "outputs": [],
   "source": [
    "# Adjust labels\n",
    "data[LABEL] = data[LABEL] - 1"
   ]
  },
  {
   "cell_type": "code",
   "execution_count": 6,
   "metadata": {},
   "outputs": [],
   "source": [
    "# Create sequences\n",
    "class ForexDataset(Dataset):\n",
    "    def __init__(self, data, seq_length):\n",
    "        self.features = []\n",
    "        self.labels = []\n",
    "        for i in range(len(data) - seq_length):\n",
    "            self.features.append(data.iloc[i:i + seq_length][COLUMNS].values)\n",
    "            self.labels.append(data.iloc[i + seq_length][LABEL])\n",
    "        self.features = torch.tensor(self.features, dtype=torch.float32)\n",
    "        self.labels = torch.tensor(self.labels, dtype=torch.long)\n",
    "\n",
    "    def __len__(self):\n",
    "        return len(self.features)\n",
    "\n",
    "    def __getitem__(self, idx):\n",
    "        return self.features[idx], self.labels[idx]\n"
   ]
  },
  {
   "cell_type": "code",
   "execution_count": 7,
   "metadata": {},
   "outputs": [],
   "source": [
    "# Split data\n",
    "train_data, test_data = train_test_split(data, test_size=TRAIN_TEST_RATIO, random_state=RANDOM_STATE)"
   ]
  },
  {
   "cell_type": "code",
   "execution_count": 8,
   "metadata": {},
   "outputs": [
    {
     "name": "stderr",
     "output_type": "stream",
     "text": [
      "C:\\Users\\Stephen\\AppData\\Local\\Temp\\ipykernel_8852\\2456821998.py:9: UserWarning: Creating a tensor from a list of numpy.ndarrays is extremely slow. Please consider converting the list to a single numpy.ndarray with numpy.array() before converting to a tensor. (Triggered internally at C:\\actions-runner\\_work\\pytorch\\pytorch\\builder\\windows\\pytorch\\torch\\csrc\\utils\\tensor_new.cpp:281.)\n",
      "  self.features = torch.tensor(self.features, dtype=torch.float32)\n"
     ]
    }
   ],
   "source": [
    "train_dataset = ForexDataset(train_data, SEQ_LENGTH)\n",
    "test_dataset = ForexDataset(test_data, SEQ_LENGTH)"
   ]
  },
  {
   "cell_type": "code",
   "execution_count": 9,
   "metadata": {},
   "outputs": [],
   "source": [
    "train_loader = DataLoader(train_dataset, batch_size=BATCH_SIZE, shuffle=TRAIN_SHUFFLE)\n",
    "test_loader = DataLoader(test_dataset, batch_size=BATCH_SIZE, shuffle=TEST_SHUFFLE)"
   ]
  },
  {
   "cell_type": "code",
   "execution_count": 10,
   "metadata": {},
   "outputs": [],
   "source": [
    "class PositionalEncoding(nn.Module):\n",
    "    def __init__(self, d_model, max_len=5000):\n",
    "        super(PositionalEncoding, self).__init__()\n",
    "        pe = torch.zeros(max_len, d_model)\n",
    "        position = torch.arange(0, max_len, dtype=torch.float).unsqueeze(1)\n",
    "        div_term = torch.exp(torch.arange(0, d_model, 2).float() * (-torch.log(torch.tensor(10000.0)) / d_model))\n",
    "        pe[:, 0::2] = torch.sin(position * div_term)\n",
    "        pe[:, 1::2] = torch.cos(position * div_term)\n",
    "        pe = pe.unsqueeze(0)\n",
    "        self.register_buffer('pe', pe)\n",
    "\n",
    "    def forward(self, x):\n",
    "        x = x + self.pe[:, :x.size(1), :]\n",
    "        return x"
   ]
  },
  {
   "cell_type": "code",
   "execution_count": 11,
   "metadata": {},
   "outputs": [],
   "source": [
    "class EnhancedTransformerModel(nn.Module):\n",
    "    def __init__(self, input_dim, num_classes, seq_length, num_layers, num_heads, dropout):\n",
    "        super(EnhancedTransformerModel, self).__init__()\n",
    "        self.input_dim = input_dim\n",
    "        self.seq_length = seq_length\n",
    "        \n",
    "        # Positional Encoding\n",
    "        self.positional_encoding = PositionalEncoding(input_dim)\n",
    "        \n",
    "        # Transformer layers\n",
    "        self.attention_layers = nn.ModuleList([\n",
    "            nn.TransformerEncoderLayer(d_model=input_dim, nhead=num_heads, dropout=dropout, batch_first=True)\n",
    "            for _ in range(num_layers)\n",
    "        ])\n",
    "        \n",
    "        # Fully Connected layers\n",
    "        self.fc1 = nn.Linear(seq_length * input_dim, 128)\n",
    "        self.fc2 = nn.Linear(128, num_classes)\n",
    "        \n",
    "        # Normalization and Dropout\n",
    "        self.norm = nn.LayerNorm(input_dim)\n",
    "        self.dropout = nn.Dropout(dropout)\n",
    "        self.activation = nn.ReLU()\n",
    "\n",
    "    def forward(self, x):\n",
    "        # Positional Encoding\n",
    "        x = self.positional_encoding(x)\n",
    "        \n",
    "        # Multi-head Attention with Residual Connections\n",
    "        for attention_layer in self.attention_layers:\n",
    "            residual = x\n",
    "            x = attention_layer(x)\n",
    "            x = x + residual  # Residual connection\n",
    "            x = self.norm(x)  # Layer Normalization\n",
    "        \n",
    "        # Flatten and pass through Fully Connected layers\n",
    "        x = x.flatten(start_dim=1)\n",
    "        x = self.dropout(self.activation(self.fc1(x)))\n",
    "        return self.fc2(x)\n"
   ]
  },
  {
   "cell_type": "code",
   "execution_count": 12,
   "metadata": {},
   "outputs": [],
   "source": [
    "class ForexTransformer(nn.Module): \n",
    "    def __init__(self, input_dim, seq_length, num_heads, num_layers, output_dim):\n",
    "        super(ForexTransformer, self).__init__()\n",
    "        self.embed_dim = 128  # Increased embedding dimension\n",
    "        self.embedding = nn.Linear(input_dim, self.embed_dim)\n",
    "        self.pos_encoder = PositionalEncoding(self.embed_dim, max_len=seq_length)\n",
    "        encoder_layer = nn.TransformerEncoderLayer(d_model=self.embed_dim, nhead=num_heads, batch_first=True)\n",
    "        self.transformer = nn.TransformerEncoder(encoder_layer, num_layers=num_layers)\n",
    "        self.dropout = nn.Dropout(0.4)  # Increased dropout rate\n",
    "        self.fc = nn.Linear(self.embed_dim * seq_length, output_dim)\n",
    "\n",
    "    def forward(self, x):\n",
    "        x = self.embedding(x)  # Linear embedding\n",
    "        x = self.pos_encoder(x)  # Add positional encoding\n",
    "        x = self.transformer(x)  # Transformer encoder\n",
    "        x = self.dropout(x)  # Apply dropout\n",
    "        x = x.flatten(start_dim=1)  # Flatten for fully connected layer\n",
    "        x = self.fc(x)  # Final fully connected layer\n",
    "        return x"
   ]
  },
  {
   "cell_type": "code",
   "execution_count": 13,
   "metadata": {},
   "outputs": [],
   "source": [
    "\n",
    "\n",
    "# Instantiate the model with the updated architecture\n",
    "model = ForexTransformer(\n",
    "    input_dim=len(COLUMNS), \n",
    "    seq_length=SEQ_LENGTH, \n",
    "    num_heads=NUM_HEADS, \n",
    "    num_layers=NUM_LAYERS, \n",
    "    output_dim=3  # Number of output classes\n",
    ").to(DEVICE)\n",
    "\n",
    "# Update loss and optimizer\n",
    "criterion = nn.CrossEntropyLoss()\n",
    "optimizer = torch.optim.AdamW(model.parameters(), lr=LEARNING_RATE, weight_decay=1e-4)\n",
    "\n"
   ]
  },
  {
   "cell_type": "code",
   "execution_count": 17,
   "metadata": {},
   "outputs": [],
   "source": [
    "# Loss and optimizer\n",
    "optimizer = torch.optim.AdamW(model.parameters(), lr=LEARNING_RATE, weight_decay=1e-4)\n",
    "scheduler = torch.optim.lr_scheduler.OneCycleLR(optimizer, max_lr=LEARNING_RATE, steps_per_epoch=len(train_loader), epochs=EPOCHS)\n",
    "class_counts = data[LABEL].value_counts().to_dict()\n",
    "total_samples = sum(class_counts.values())\n",
    "class_weights = {cls: total_samples / count for cls, count in class_counts.items()}\n",
    "weights = torch.tensor([class_weights[i] for i in range(3)], dtype=torch.float32).to(DEVICE)\n",
    "criterion = nn.CrossEntropyLoss(weight=weights)"
   ]
  },
  {
   "cell_type": "code",
   "execution_count": null,
   "metadata": {},
   "outputs": [],
   "source": [
    "def init_weights(m):\n",
    "    if isinstance(m, nn.Linear):\n",
    "        nn.init.xavier_uniform_(m.weight)\n",
    "        if m.bias is not None:\n",
    "            nn.init.zeros_(m.bias)\n",
    "\n",
    "model.apply(init_weights)"
   ]
  },
  {
   "cell_type": "code",
   "execution_count": null,
   "metadata": {},
   "outputs": [
    {
     "name": "stdout",
     "output_type": "stream",
     "text": [
      "Epoch 1/50, Train Loss: 284.3134, Train Acc: 0.4407, Train F1: 0.3835, Test Acc: 0.4997, Test F1: 0.3330\n",
      "Epoch 2/50, Train Loss: 167.0966, Train Acc: 0.4863, Train F1: 0.3549, Test Acc: 0.2550, Test F1: 0.1036\n",
      "Epoch 3/50, Train Loss: 166.6782, Train Acc: 0.4865, Train F1: 0.3552, Test Acc: 0.4997, Test F1: 0.3330\n",
      "Epoch 4/50, Train Loss: 164.6240, Train Acc: 0.4999, Train F1: 0.3380, Test Acc: 0.4997, Test F1: 0.3330\n",
      "Epoch 5/50, Train Loss: 163.7677, Train Acc: 0.5020, Train F1: 0.3356, Test Acc: 0.4997, Test F1: 0.3330\n",
      "Epoch 6/50, Train Loss: 163.5504, Train Acc: 0.5020, Train F1: 0.3356, Test Acc: 0.4997, Test F1: 0.3330\n",
      "Epoch 7/50, Train Loss: 163.3975, Train Acc: 0.5020, Train F1: 0.3356, Test Acc: 0.4997, Test F1: 0.3330\n",
      "Epoch 8/50, Train Loss: 163.2229, Train Acc: 0.5020, Train F1: 0.3356, Test Acc: 0.4997, Test F1: 0.3330\n",
      "Epoch 9/50, Train Loss: 163.4268, Train Acc: 0.5020, Train F1: 0.3356, Test Acc: 0.4997, Test F1: 0.3330\n",
      "Epoch 10/50, Train Loss: 163.2729, Train Acc: 0.5020, Train F1: 0.3356, Test Acc: 0.4997, Test F1: 0.3330\n",
      "Epoch 11/50, Train Loss: 163.3839, Train Acc: 0.5020, Train F1: 0.3356, Test Acc: 0.4997, Test F1: 0.3330\n",
      "Epoch 12/50, Train Loss: 163.2936, Train Acc: 0.5020, Train F1: 0.3356, Test Acc: 0.4997, Test F1: 0.3330\n"
     ]
    }
   ],
   "source": [
    "# Updated training loop\n",
    "for epoch in range(EPOCHS):\n",
    "    model.train()\n",
    "    train_loss, train_preds, train_labels = 0, [], []\n",
    "    for features, labels in train_loader:\n",
    "        features, labels = features.to(DEVICE), labels.to(DEVICE)\n",
    "        optimizer.zero_grad()\n",
    "        outputs = model(features)\n",
    "        loss = criterion(outputs, labels)\n",
    "        loss.backward()\n",
    "        optimizer.step()\n",
    "        train_loss += loss.item()\n",
    "        train_preds.extend(torch.argmax(outputs, dim=1).cpu().numpy())\n",
    "        train_labels.extend(labels.cpu().numpy())\n",
    "\n",
    "    train_acc = accuracy_score(train_labels, train_preds)\n",
    "    train_f1 = f1_score(train_labels, train_preds, average='weighted')\n",
    "\n",
    "    model.eval()\n",
    "    test_preds, test_labels = [], []\n",
    "    with torch.no_grad():\n",
    "        for features, labels in test_loader:\n",
    "            features, labels = features.to(DEVICE), labels.to(DEVICE)\n",
    "            outputs = model(features)\n",
    "            test_preds.extend(torch.argmax(outputs, dim=1).cpu().numpy())\n",
    "            test_labels.extend(labels.cpu().numpy())\n",
    "\n",
    "    test_acc = accuracy_score(test_labels, test_preds)\n",
    "    test_f1 = f1_score(test_labels, test_preds, average='weighted')\n",
    "\n",
    "    print(f\"Epoch {epoch + 1}/{EPOCHS}, \"\n",
    "          f\"Train Loss: {train_loss:.4f}, \"\n",
    "          f\"Train Acc: {train_acc:.4f}, Train F1: {train_f1:.4f}, \"\n",
    "          f\"Test Acc: {test_acc:.4f}, Test F1: {test_f1:.4f}\")\n"
   ]
  }
 ],
 "metadata": {
  "kernelspec": {
   "display_name": "Python 3",
   "language": "python",
   "name": "python3"
  },
  "language_info": {
   "codemirror_mode": {
    "name": "ipython",
    "version": 3
   },
   "file_extension": ".py",
   "mimetype": "text/x-python",
   "name": "python",
   "nbconvert_exporter": "python",
   "pygments_lexer": "ipython3",
   "version": "3.12.8"
  }
 },
 "nbformat": 4,
 "nbformat_minor": 2
}
