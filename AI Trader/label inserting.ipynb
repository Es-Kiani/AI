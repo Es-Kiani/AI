{
 "cells": [
  {
   "cell_type": "code",
   "execution_count": 1,
   "metadata": {},
   "outputs": [],
   "source": [
    "import pandas as pd\n",
    "import json\n",
    "from datetime import datetime\n",
    "import numpy as np\n",
    "import pandas as pd"
   ]
  },
  {
   "cell_type": "code",
   "execution_count": 2,
   "metadata": {},
   "outputs": [],
   "source": [
    "# Load the CSV data\n",
    "data_file = './Dataset/EURUSD/EURUSD_M30_feature_v.2.csv'\n",
    "df = pd.read_csv(data_file)\n",
    "df['DateTime'] = pd.to_datetime(df['DateTime'])\n"
   ]
  },
  {
   "cell_type": "code",
   "execution_count": 3,
   "metadata": {},
   "outputs": [],
   "source": [
    "# Load the JSON file\n",
    "json_file = './Dataset/EURUSD/EURUSD_M30_label_v.2.json'\n",
    "with open(json_file, 'r') as file:\n",
    "    label_data = json.load(file)"
   ]
  },
  {
   "cell_type": "code",
   "execution_count": 4,
   "metadata": {},
   "outputs": [
    {
     "name": "stdout",
     "output_type": "stream",
     "text": [
      "Updated CSV file saved to ./Dataset/EURUSD/EURUSD_M30_features+label_v.2.csv\n"
     ]
    }
   ],
   "source": [
    "# Extract time series labels\n",
    "timeseries_labels = label_data[0]['label']\n",
    "\n",
    "# Create a new column 'signal' and initialize with NaN\n",
    "df['signal'] = None\n",
    "\n",
    "# Map signals to the corresponding time intervals\n",
    "for label in timeseries_labels:\n",
    "    start_time = datetime.strptime(label['start'], '%Y-%m-%d %H:%M:%S')\n",
    "    end_time = datetime.strptime(label['end'], '%Y-%m-%d %H:%M:%S')\n",
    "    signal = label['timeserieslabels'][0]  # Assuming one label per time interval\n",
    "        \n",
    "    # Assign signal to rows within the time range\n",
    "    mask = (df['DateTime'] >= start_time) & (df['DateTime'] <= end_time)\n",
    "    df.loc[mask, 'signal'] = signal\n",
    "\n",
    "# Save the updated DataFrame to a new CSV file\n",
    "output_file = \"./Dataset/EURUSD/EURUSD_M30_features+label_v.2.csv\"\n",
    "df.to_csv(output_file, index=False)\n",
    "\n",
    "print(f\"Updated CSV file saved to {output_file}\")\n"
   ]
  },
  {
   "cell_type": "code",
   "execution_count": null,
   "metadata": {},
   "outputs": [],
   "source": []
  },
  {
   "cell_type": "code",
   "execution_count": 5,
   "metadata": {},
   "outputs": [],
   "source": [
    "def convert_to_two(series):\n",
    "    \"\"\"\n",
    "    Converts inner values of consecutive 0s (or 1s) to 2 in a pandas Series.\n",
    "    The first and last elements of each group of 0s or 1s remain unchanged.\n",
    "    \"\"\"\n",
    "    # Ensure series is numeric and replace non-numeric NaN with np.nan\n",
    "    series = pd.to_numeric(series, errors='coerce')\n",
    "    array = series.to_numpy()\n",
    "    n = len(array)\n",
    "    result = array.copy()\n",
    "\n",
    "    i = 0\n",
    "    while i < n:\n",
    "        # Ignore NaN values\n",
    "        if np.isnan(array[i]):\n",
    "            result[i] = 3\n",
    "            i += 1\n",
    "            continue\n",
    "\n",
    "        # Identify groups of consecutive 0s or 1s\n",
    "        start = i\n",
    "        while i < n - 1 and array[i] == array[i + 1] and not np.isnan(array[i]):\n",
    "            i += 1\n",
    "        end = i\n",
    "\n",
    "        # Change inner values to 2\n",
    "        if end - start > 1:  # At least 3 consecutive values\n",
    "            result[start + 1:end] = 2\n",
    "\n",
    "        i += 1\n",
    "\n",
    "    return pd.Series(result)\n",
    "\n",
    "\n",
    "\n",
    "\n",
    "\n",
    "# df['signal'] = convert_to_two(df['signal'])"
   ]
  },
  {
   "cell_type": "code",
   "execution_count": 6,
   "metadata": {},
   "outputs": [],
   "source": [
    "def fill_signal_column(dataframe):\n",
    "    dataframe['signal'] = dataframe['signal'].fillna(3)\n",
    "    return dataframe\n",
    "    # return dataframe\n",
    "\n",
    "# Apply the function\n",
    "updated_data = fill_signal_column(df)\n",
    "\n"
   ]
  },
  {
   "cell_type": "code",
   "execution_count": 7,
   "metadata": {},
   "outputs": [],
   "source": [
    "# Save the updated dataframe to a new CSV file\n",
    "updated_file_path = './Dataset/EURUSD/EURUSD_M30_features+label_v.2.1.csv'\n",
    "updated_data.to_csv(updated_file_path, index=False)"
   ]
  }
 ],
 "metadata": {
  "kernelspec": {
   "display_name": "Python 3",
   "language": "python",
   "name": "python3"
  },
  "language_info": {
   "codemirror_mode": {
    "name": "ipython",
    "version": 3
   },
   "file_extension": ".py",
   "mimetype": "text/x-python",
   "name": "python",
   "nbconvert_exporter": "python",
   "pygments_lexer": "ipython3",
   "version": "3.12.8"
  }
 },
 "nbformat": 4,
 "nbformat_minor": 2
}
