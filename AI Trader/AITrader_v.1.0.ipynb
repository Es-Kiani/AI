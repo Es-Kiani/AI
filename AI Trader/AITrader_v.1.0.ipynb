{
 "cells": [
  {
   "cell_type": "code",
   "execution_count": 1,
   "metadata": {},
   "outputs": [],
   "source": [
    "import torch\n",
    "import pandas as pd\n",
    "from sklearn.preprocessing import MinMaxScaler\n",
    "import time\n",
    "import torch.nn as nn\n",
    "import pandas as pd\n",
    "from datetime import datetime\n",
    "from tqdm import tqdm\n",
    "from Model import ForexTransformer\n",
    "from sklearn.model_selection import train_test_split\n",
    "from twelvedata import TDClient "
   ]
  },
  {
   "cell_type": "code",
   "execution_count": 2,
   "metadata": {},
   "outputs": [
    {
     "name": "stderr",
     "output_type": "stream",
     "text": [
      "<>:4: SyntaxWarning: invalid escape sequence '\\E'\n",
      "<>:4: SyntaxWarning: invalid escape sequence '\\E'\n",
      "C:\\Users\\Stephen\\AppData\\Local\\Temp\\ipykernel_26148\\3306518988.py:4: SyntaxWarning: invalid escape sequence '\\E'\n",
      "  FILE_PATH = \"Dataset\\EURUSD\\EURUSD_M30_with_features+label3.csv\"\n"
     ]
    }
   ],
   "source": [
    "seq_length = 20\n",
    "num_layers = 4\n",
    "num_heads = 8\n",
    "FILE_PATH = \"Dataset\\EURUSD\\EURUSD_M30_with_features+label3.csv\"\n",
    "API_KEY = 'e6b3ac6147a04e34bca8d5f1011b728c'\n",
    "features = ['SMA100', 'RSI14', 'Close']"
   ]
  },
  {
   "cell_type": "code",
   "execution_count": 3,
   "metadata": {},
   "outputs": [
    {
     "name": "stderr",
     "output_type": "stream",
     "text": [
      "C:\\Users\\Stephen\\AppData\\Local\\Temp\\ipykernel_26148\\327436413.py:18: UserWarning: To copy construct from a tensor, it is recommended to use sourceTensor.clone().detach() or sourceTensor.clone().detach().requires_grad_(True), rather than torch.tensor(sourceTensor).\n",
      "  y_train_tensor = torch.tensor(y_train, dtype=torch.long)\n",
      "C:\\Users\\Stephen\\AppData\\Local\\Temp\\ipykernel_26148\\327436413.py:19: UserWarning: To copy construct from a tensor, it is recommended to use sourceTensor.clone().detach() or sourceTensor.clone().detach().requires_grad_(True), rather than torch.tensor(sourceTensor).\n",
      "  y_val_tensor = torch.tensor(y_val, dtype=torch.long)\n"
     ]
    }
   ],
   "source": [
    "td = TDClient(apikey=API_KEY)\n",
    "data = pd.read_csv(FILE_PATH)\n",
    "# Select features and labels\n",
    "labels = 'signal'\n",
    "X = data[features].values\n",
    "y = data[labels].values\n",
    "# Normalize the features\n",
    "scaler = MinMaxScaler()\n",
    "X_scaled = scaler.fit_transform(X)\n",
    "# Convert labels to integers\n",
    "num_classes = len(set(y))\n",
    "y = torch.tensor(y, dtype=torch.long)\n",
    "# Split into training and validation sets\n",
    "X_train, X_val, y_train, y_val = train_test_split(X_scaled, y, test_size=0.2, random_state=13)\n",
    "# Convert to PyTorch tensors\n",
    "X_train_tensor = torch.tensor(X_train, dtype=torch.float32)\n",
    "X_val_tensor = torch.tensor(X_val, dtype=torch.float32)\n",
    "y_train_tensor = torch.tensor(y_train, dtype=torch.long)\n",
    "y_val_tensor = torch.tensor(y_val, dtype=torch.long)\n",
    "def create_sequences(data, labels, seq_length):\n",
    "    X_seq, y_seq = [], []\n",
    "    for i in range(len(data) - seq_length + 1):\n",
    "        X_seq.append(data[i:i + seq_length])\n",
    "        y_seq.append(labels[i + seq_length - 1])  # Directly append the label without .item()\n",
    "    return torch.stack(X_seq), torch.tensor(y_seq, dtype=torch.long)\n",
    "X_train_seq, y_train_seq = create_sequences(X_train_tensor, y_train_tensor, seq_length)\n",
    "X_val_seq, y_val_seq = create_sequences(X_val_tensor, y_val_tensor, seq_length)"
   ]
  },
  {
   "cell_type": "code",
   "execution_count": 4,
   "metadata": {},
   "outputs": [
    {
     "name": "stderr",
     "output_type": "stream",
     "text": [
      "c:\\Program Files\\Python312\\Lib\\site-packages\\torch\\nn\\modules\\transformer.py:379: UserWarning: enable_nested_tensor is True, but self.use_nested_tensor is False because encoder_layer.self_attn.batch_first was not True(use batch_first for better inference performance)\n",
      "  warnings.warn(\n",
      "C:\\Users\\Stephen\\AppData\\Local\\Temp\\ipykernel_26148\\790591655.py:4: FutureWarning: You are using `torch.load` with `weights_only=False` (the current default value), which uses the default pickle module implicitly. It is possible to construct malicious pickle data which will execute arbitrary code during unpickling (See https://github.com/pytorch/pytorch/blob/main/SECURITY.md#untrusted-models for more details). In a future release, the default value for `weights_only` will be flipped to `True`. This limits the functions that could be executed during unpickling. Arbitrary objects will no longer be allowed to be loaded via this mode unless they are explicitly allowlisted by the user via `torch.serialization.add_safe_globals`. We recommend you start setting `weights_only=True` for any use case where you don't have full control of the loaded file. Please open an issue on GitHub for any issues related to this experimental feature.\n",
      "  model.load_state_dict(torch.load(MODEL_PATH))\n"
     ]
    },
    {
     "data": {
      "text/plain": [
       "ForexTransformer(\n",
       "  (embedding): Linear(in_features=3, out_features=256, bias=True)\n",
       "  (pos_encoder): PositionalEncoding()\n",
       "  (transformer): TransformerEncoder(\n",
       "    (layers): ModuleList(\n",
       "      (0-3): 4 x TransformerEncoderLayer(\n",
       "        (self_attn): MultiheadAttention(\n",
       "          (out_proj): NonDynamicallyQuantizableLinear(in_features=256, out_features=256, bias=True)\n",
       "        )\n",
       "        (linear1): Linear(in_features=256, out_features=2048, bias=True)\n",
       "        (dropout): Dropout(p=0.1, inplace=False)\n",
       "        (linear2): Linear(in_features=2048, out_features=256, bias=True)\n",
       "        (norm1): LayerNorm((256,), eps=1e-05, elementwise_affine=True)\n",
       "        (norm2): LayerNorm((256,), eps=1e-05, elementwise_affine=True)\n",
       "        (dropout1): Dropout(p=0.1, inplace=False)\n",
       "        (dropout2): Dropout(p=0.1, inplace=False)\n",
       "      )\n",
       "    )\n",
       "  )\n",
       "  (dropout): Dropout(p=0.4, inplace=False)\n",
       "  (fc): Linear(in_features=5120, out_features=4, bias=True)\n",
       ")"
      ]
     },
     "execution_count": 4,
     "metadata": {},
     "output_type": "execute_result"
    }
   ],
   "source": [
    "# Load the trained model\n",
    "MODEL_PATH = \"D:/Programing/AI Trader/Model/transformerModelv.2.0_layers-heads 4-8_Val-Loss 0.9002, Val-Accuracy 0.5699_at 20241216-212047.model\"\n",
    "model = ForexTransformer(input_dim=X_train_seq.shape[2], seq_length=seq_length, num_heads=num_heads, num_layers=num_layers, output_dim=num_classes).to('cuda')\n",
    "model.load_state_dict(torch.load(MODEL_PATH))\n",
    "model.eval()"
   ]
  },
  {
   "cell_type": "code",
   "execution_count": 5,
   "metadata": {},
   "outputs": [],
   "source": [
    "# Define a function to preprocess real-time data\n",
    "def preprocess_realtime_data(data, features=['sma', 'rsi', 'close'], seq_length=seq_length):\n",
    "    # data = data.drop()\n",
    "    # Select and normalize features\n",
    "    data = data[features]\n",
    "    data_scaled = scaler.fit_transform(data)\n",
    "\n",
    "    # Prepare sequence for the model\n",
    "    if len(data_scaled) >= seq_length:\n",
    "        input_seq = data_scaled[-seq_length:]\n",
    "    else:\n",
    "        raise ValueError(\"Not enough data for the required sequence length.\")\n",
    "\n",
    "    return torch.tensor(input_seq, dtype=torch.float32).unsqueeze(0).to('cuda')\n",
    "\n"
   ]
  },
  {
   "cell_type": "code",
   "execution_count": 6,
   "metadata": {},
   "outputs": [],
   "source": [
    "# Mock function to simulate fetching real-time data\n",
    "def fetch_realtime_data(interval=\"30min\"):\n",
    "\n",
    "    ts = td.time_series(symbol=\"EUR/USD\", interval=interval, outputsize=seq_length).with_sma(time_period=100).with_rsi(time_period=14).as_pandas()\n",
    "    \n",
    "    return ts\n"
   ]
  },
  {
   "cell_type": "code",
   "execution_count": 7,
   "metadata": {},
   "outputs": [],
   "source": [
    "mint = 5"
   ]
  },
  {
   "cell_type": "code",
   "execution_count": 8,
   "metadata": {},
   "outputs": [],
   "source": [
    "# fetch_realtime_data(f\"{mint}min\")"
   ]
  },
  {
   "cell_type": "code",
   "execution_count": 9,
   "metadata": {},
   "outputs": [],
   "source": [
    "# Define a function to make predictions in real time\n",
    "def make_realtime_prediction(model):\n",
    "    while True:\n",
    "        # Fetch real-time data\n",
    "        realtime_data = fetch_realtime_data(f\"{mint}min\")\n",
    "\n",
    "        try:\n",
    "            # Preprocess the data\n",
    "            input_tensor = preprocess_realtime_data(realtime_data)\n",
    "\n",
    "            # Make a prediction\n",
    "            with torch.no_grad():\n",
    "                output = model(input_tensor)\n",
    "\n",
    "            # Interpret the output\n",
    "            condition = torch.argmax(output, axis=1).item()\n",
    "            conditions_map = {0: \"Buy\", 1: \"Sell\", 2: \"Hold\", 3: \"Nothing\"}\n",
    "            prediction = conditions_map[condition]\n",
    "\n",
    "            # Print the prediction\n",
    "            timestamp = datetime.now().strftime(\"%Y-%m-%d %H:%M:%S\")\n",
    "            print(f\"Real-time Prediction: {prediction} | {timestamp}\")\n",
    "\n",
    "        except ValueError as e:\n",
    "            print(e)\n",
    "\n",
    "        # Pause for a short time before fetching new data\n",
    "        time.sleep(mint*60)  # Adjust the delay as needed"
   ]
  },
  {
   "cell_type": "code",
   "execution_count": null,
   "metadata": {},
   "outputs": [
    {
     "name": "stdout",
     "output_type": "stream",
     "text": [
      "Real-time Prediction: Buy | 2024-12-17 10:40:34\n",
      "Real-time Prediction: Buy | 2024-12-17 10:45:35\n",
      "Real-time Prediction: Buy | 2024-12-17 10:50:35\n",
      "Real-time Prediction: Buy | 2024-12-17 10:55:36\n",
      "Real-time Prediction: Buy | 2024-12-17 11:00:36\n",
      "Real-time Prediction: Buy | 2024-12-17 11:05:38\n",
      "Real-time Prediction: Buy | 2024-12-17 11:10:39\n",
      "Real-time Prediction: Buy | 2024-12-17 11:15:40\n",
      "Real-time Prediction: Buy | 2024-12-17 11:20:42\n",
      "Real-time Prediction: Buy | 2024-12-17 11:25:44\n",
      "Real-time Prediction: Hold | 2024-12-17 11:30:45\n",
      "Real-time Prediction: Sell | 2024-12-17 11:35:45\n",
      "Real-time Prediction: Buy | 2024-12-17 11:40:45\n",
      "Real-time Prediction: Buy | 2024-12-17 11:45:47\n",
      "Real-time Prediction: Sell | 2024-12-17 11:50:47\n",
      "Real-time Prediction: Buy | 2024-12-17 11:55:47\n",
      "Real-time Prediction: Buy | 2024-12-17 12:00:48\n",
      "Real-time Prediction: Buy | 2024-12-17 12:05:48\n",
      "Real-time Prediction: Buy | 2024-12-17 12:10:49\n",
      "Real-time Prediction: Buy | 2024-12-17 12:15:49\n",
      "Real-time Prediction: Buy | 2024-12-17 12:20:50\n",
      "Real-time Prediction: Buy | 2024-12-17 12:25:50\n",
      "Real-time Prediction: Buy | 2024-12-17 12:30:51\n",
      "Real-time Prediction: Buy | 2024-12-17 12:35:51\n",
      "Real-time Prediction: Buy | 2024-12-17 12:40:52\n",
      "Real-time Prediction: Buy | 2024-12-17 12:45:53\n",
      "Real-time Prediction: Buy | 2024-12-17 12:50:54\n",
      "Real-time Prediction: Buy | 2024-12-17 12:55:55\n",
      "Real-time Prediction: Buy | 2024-12-17 13:00:57\n",
      "Real-time Prediction: Buy | 2024-12-17 13:05:57\n",
      "Real-time Prediction: Buy | 2024-12-17 13:10:57\n",
      "Real-time Prediction: Buy | 2024-12-17 13:15:59\n",
      "Real-time Prediction: Buy | 2024-12-17 13:20:59\n",
      "Real-time Prediction: Buy | 2024-12-17 13:25:59\n",
      "Real-time Prediction: Buy | 2024-12-17 13:31:00\n",
      "Real-time Prediction: Buy | 2024-12-17 13:36:00\n",
      "Real-time Prediction: Buy | 2024-12-17 13:41:01\n",
      "Real-time Prediction: Buy | 2024-12-17 13:46:01\n",
      "Real-time Prediction: Buy | 2024-12-17 13:51:02\n"
     ]
    }
   ],
   "source": [
    "# Run the real-time prediction function\n",
    "make_realtime_prediction(model)"
   ]
  }
 ],
 "metadata": {
  "kernelspec": {
   "display_name": "Python 3",
   "language": "python",
   "name": "python3"
  },
  "language_info": {
   "codemirror_mode": {
    "name": "ipython",
    "version": 3
   },
   "file_extension": ".py",
   "mimetype": "text/x-python",
   "name": "python",
   "nbconvert_exporter": "python",
   "pygments_lexer": "ipython3",
   "version": "3.12.8"
  }
 },
 "nbformat": 4,
 "nbformat_minor": 2
}
