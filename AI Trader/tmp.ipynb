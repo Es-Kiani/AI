{
 "cells": [
  {
   "cell_type": "code",
   "execution_count": 1,
   "metadata": {},
   "outputs": [],
   "source": [
    "import MetaTrader5 as mt5\n",
    "def connect_to_metatrader():\n",
    "    if not mt5.initialize():\n",
    "        print(\"Failed to initialize MetaTrader5\")\n",
    "        quit()\n",
    "        return"
   ]
  },
  {
   "cell_type": "code",
   "execution_count": 2,
   "metadata": {},
   "outputs": [],
   "source": [
    "connect_to_metatrader()"
   ]
  },
  {
   "cell_type": "code",
   "execution_count": 3,
   "metadata": {},
   "outputs": [
    {
     "name": "stdout",
     "output_type": "stream",
     "text": [
      "(TradePosition(ticket=5744764, time=1735247880, time_msc=1735247880925, time_update=1735247880, time_update_msc=1735247880925, type=1, magic=123456, identifier=5744764, reason=3, volume=0.15, price_open=1.04161, sl=1.04182, tp=1.04119, price_current=1.04165, swap=0.0, profit=-0.6, symbol='EURUSD', comment='Majority vote tr', external_id=''),)\n"
     ]
    }
   ],
   "source": [
    "positions = mt5.positions_get()\n",
    "if not positions:\n",
    "    print(\"No open positions\")\n",
    "    mt5.shutdown()\n",
    "    quit()\n",
    "print(positions)"
   ]
  },
  {
   "cell_type": "code",
   "execution_count": 4,
   "metadata": {},
   "outputs": [
    {
     "name": "stdout",
     "output_type": "stream",
     "text": [
      "Closing position ticket 5744764 symbol EURUSD\n",
      "order_send failed, retcode=10015,  deal=0, order=0\n",
      "Error: (1, 'Success')\n"
     ]
    },
    {
     "data": {
      "text/plain": [
       "True"
      ]
     },
     "execution_count": 4,
     "metadata": {},
     "output_type": "execute_result"
    }
   ],
   "source": [
    "\n",
    "\n",
    "position = positions[0]\n",
    "symbol = position.symbol\n",
    "ticket = position.ticket\n",
    "print(f\"Closing position ticket {ticket} symbol {symbol}\")\n",
    "\n",
    "request = {\n",
    "    \"action\": mt5.TRADE_ACTION_DEAL,\n",
    "    \"symbol\": symbol,\n",
    "    \"volume\": position.volume,\n",
    "    \"type\": mt5.ORDER_TYPE_CLOSE_BY,\n",
    "    \"position\": ticket,\n",
    "    \"magic\": position.magic,\n",
    "    \"type_time\": mt5.ORDER_TIME_GTC,\n",
    "    \"type_filling\": mt5.ORDER_FILLING_FOK\n",
    "}\n",
    "\n",
    "result = mt5.order_send(request)\n",
    "\n",
    "if result.retcode != mt5.TRADE_RETCODE_DONE:\n",
    "    print(f\"order_send failed, retcode={result.retcode},  deal={result.deal}, order={result.order}\")\n",
    "    print(f\"Error: {mt5.last_error()}\")\n",
    "else:\n",
    "    print(f\"position closed: deal={result.deal}, order={result.order}\")\n",
    "\n",
    "\n",
    "mt5.shutdown()"
   ]
  },
  {
   "cell_type": "code",
   "execution_count": null,
   "metadata": {},
   "outputs": [],
   "source": [
    "# Training phase\n",
    "for epoch in range(epochs):\n",
    "    model.train()\n",
    "    epoch_loss = 0\n",
    "    correct_train = 0\n",
    "    total_train = 0\n",
    "    \n",
    "    for X_batch, y_batch in train_loader:\n",
    "        X_batch = X_batch.unsqueeze(2).to(device)  # Reshape to [batch_size, in_channels, sequence_length]\n",
    "        y_batch = y_batch.to(device)\n",
    "        \n",
    "        optimizer.zero_grad()\n",
    "        outputs = model(X_batch)\n",
    "        loss = criterion(outputs, y_batch)\n",
    "        loss.backward()\n",
    "        optimizer.step()\n",
    "        \n",
    "        epoch_loss += loss.item()\n",
    "        \n",
    "        # Calculate training accuracy\n",
    "        _, predicted = torch.max(outputs, 1)\n",
    "        total_train += y_batch.size(0)\n",
    "        correct_train += (predicted == y_batch).sum().item()\n",
    "    \n",
    "    train_accuracy = correct_train / total_train * 100\n",
    "    \n",
    "    # Evaluation phase\n",
    "    model.eval()\n",
    "    correct_test = 0\n",
    "    total_test = 0\n",
    "    with torch.no_grad():\n",
    "        for X_batch, y_batch in test_loader:\n",
    "            X_batch = X_batch.unsqueeze(2).to(device)  # Reshape to [batch_size, in_channels, sequence_length]\n",
    "            y_batch = y_batch.to(device)\n",
    "            outputs = model(X_batch)\n",
    "            _, predicted = torch.max(outputs, 1)\n",
    "            total_test += y_batch.size(0)\n",
    "            correct_test += (predicted == y_batch).sum().item()\n",
    "    \n",
    "    test_accuracy = correct_test / total_test * 100\n",
    "    \n",
    "    print(f'Epoch {epoch+1}/{epochs}, Loss: {epoch_loss:.4f}, Train Accuracy: {train_accuracy:.2f}%, Test Accuracy: {test_accuracy:.2f}%')\n"
   ]
  },
  {
   "cell_type": "code",
   "execution_count": null,
   "metadata": {},
   "outputs": [],
   "source": []
  }
 ],
 "metadata": {
  "kernelspec": {
   "display_name": "Python 3",
   "language": "python",
   "name": "python3"
  },
  "language_info": {
   "codemirror_mode": {
    "name": "ipython",
    "version": 3
   },
   "file_extension": ".py",
   "mimetype": "text/x-python",
   "name": "python",
   "nbconvert_exporter": "python",
   "pygments_lexer": "ipython3",
   "version": "3.12.8"
  }
 },
 "nbformat": 4,
 "nbformat_minor": 2
}
