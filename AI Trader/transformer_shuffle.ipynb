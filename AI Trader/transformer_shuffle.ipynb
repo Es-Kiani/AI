{
 "cells": [
  {
   "cell_type": "code",
   "execution_count": 1,
   "metadata": {},
   "outputs": [],
   "source": [
    "import torch\n",
    "import torch.nn as nn\n",
    "import torch.optim as optim\n",
    "from sklearn.preprocessing import MinMaxScaler\n",
    "import pandas as pd\n",
    "from sklearn.cluster import KMeans\n",
    "from datetime import datetime\n",
    "from tqdm import tqdm"
   ]
  },
  {
   "cell_type": "code",
   "execution_count": 2,
   "metadata": {},
   "outputs": [
    {
     "name": "stderr",
     "output_type": "stream",
     "text": [
      "<>:1: SyntaxWarning: invalid escape sequence '\\E'\n",
      "<>:1: SyntaxWarning: invalid escape sequence '\\E'\n",
      "C:\\Users\\Stephen\\AppData\\Local\\Temp\\ipykernel_21860\\891419644.py:1: SyntaxWarning: invalid escape sequence '\\E'\n",
      "  FILE_PATH = \"Dataset\\EURUSD\\EURUSD_M30_with_features.csv\"\n"
     ]
    }
   ],
   "source": [
    "FILE_PATH = \"Dataset\\EURUSD\\EURUSD_M30_with_features.csv\""
   ]
  },
  {
   "cell_type": "code",
   "execution_count": 3,
   "metadata": {},
   "outputs": [],
   "source": [
    "# Load the dataset with features\n",
    "data = pd.read_csv(FILE_PATH)\n",
    "\n",
    "# Ensure DateTime is parsed correctly\n",
    "data['DateTime'] = pd.to_datetime(data['DateTime'])"
   ]
  },
  {
   "cell_type": "code",
   "execution_count": 4,
   "metadata": {},
   "outputs": [],
   "source": [
    "# Select features for training (e.g., SMA100, RSI14, Close)\n",
    "features = ['SMA100', 'RSI14', 'Close']\n",
    "X = data[features].values\n",
    "\n",
    "# Normalize the features\n",
    "scaler = MinMaxScaler()\n",
    "X_scaled = scaler.fit_transform(X)\n",
    "\n",
    "# Convert to PyTorch tensors\n",
    "X_tensor = torch.tensor(X_scaled, dtype=torch.float32).to('cuda')"
   ]
  },
  {
   "cell_type": "code",
   "execution_count": 5,
   "metadata": {},
   "outputs": [],
   "source": [
    "# Define the Transformer model\n",
    "class ForexTransformer(nn.Module):\n",
    "    def __init__(self, input_dim, seq_length, num_heads, num_layers, output_dim):\n",
    "        super(ForexTransformer, self).__init__()\n",
    "        self.embed_dim = 128  # Ensure this is divisible by num_heads\n",
    "        self.embedding = nn.Linear(input_dim, self.embed_dim)\n",
    "        encoder_layer = nn.TransformerEncoderLayer(d_model=self.embed_dim, nhead=num_heads)\n",
    "        self.transformer = nn.TransformerEncoder(encoder_layer, num_layers=num_layers)\n",
    "        self.fc = nn.Linear(self.embed_dim * seq_length, output_dim)\n",
    "\n",
    "    def forward(self, x):\n",
    "        x = self.embedding(x)\n",
    "        x = self.transformer(x)\n",
    "        x = x.flatten(start_dim=1)  # Flatten for the fully connected layer\n",
    "        x = self.fc(x)\n",
    "        return x\n"
   ]
  },
  {
   "cell_type": "code",
   "execution_count": 6,
   "metadata": {},
   "outputs": [],
   "source": [
    "# Parameters\n",
    "seq_length = 10  # Number of time steps\n",
    "num_heads = 4\n",
    "num_layers = 2\n",
    "output_dim = 4  # Buy, Sell, Hold, Nothing"
   ]
  },
  {
   "cell_type": "code",
   "execution_count": null,
   "metadata": {},
   "outputs": [
    {
     "name": "stderr",
     "output_type": "stream",
     "text": [
      "C:\\Users\\Stephen\\AppData\\Local\\Temp\\ipykernel_21860\\631652508.py:5: UserWarning: Creating a tensor from a list of numpy.ndarrays is extremely slow. Please consider converting the list to a single numpy.ndarray with numpy.array() before converting to a tensor. (Triggered internally at C:\\actions-runner\\_work\\pytorch\\pytorch\\builder\\windows\\pytorch\\torch\\csrc\\utils\\tensor_new.cpp:281.)\n",
      "  X_seq = torch.tensor(X_seq, dtype=torch.float32).to('cuda')\n",
      "c:\\Program Files\\Python312\\Lib\\site-packages\\torch\\nn\\modules\\transformer.py:379: UserWarning: enable_nested_tensor is True, but self.use_nested_tensor is False because encoder_layer.self_attn.batch_first was not True(use batch_first for better inference performance)\n",
      "  warnings.warn(\n",
      "C:\\Users\\Stephen\\AppData\\Local\\Temp\\ipykernel_21860\\631652508.py:20: FutureWarning: You are using `torch.load` with `weights_only=False` (the current default value), which uses the default pickle module implicitly. It is possible to construct malicious pickle data which will execute arbitrary code during unpickling (See https://github.com/pytorch/pytorch/blob/main/SECURITY.md#untrusted-models for more details). In a future release, the default value for `weights_only` will be flipped to `True`. This limits the functions that could be executed during unpickling. Arbitrary objects will no longer be allowed to be loaded via this mode unless they are explicitly allowlisted by the user via `torch.serialization.add_safe_globals`. We recommend you start setting `weights_only=True` for any use case where you don't have full control of the loaded file. Please open an issue on GitHub for any issues related to this experimental feature.\n",
      "  model.load_state_dict(torch.load(MODEL_PATH))\n"
     ]
    },
    {
     "name": "stdout",
     "output_type": "stream",
     "text": [
      "\n",
      "Model: transformer_model_seqlength 14_20241215_125028.pth is loaded.\n",
      "\n"
     ]
    },
    {
     "name": "stderr",
     "output_type": "stream",
     "text": [
      "Training Epochs:   1%|          | 1/100 [01:04<1:45:46, 64.11s/it]"
     ]
    },
    {
     "name": "stdout",
     "output_type": "stream",
     "text": [
      "Epoch 1/100, Loss: 0.1917 ; 20241215-135151\n"
     ]
    },
    {
     "name": "stderr",
     "output_type": "stream",
     "text": [
      "Training Epochs:   2%|▏         | 2/100 [02:07<1:44:20, 63.89s/it]"
     ]
    },
    {
     "name": "stdout",
     "output_type": "stream",
     "text": [
      "Epoch 2/100, Loss: 0.1765 ; 20241215-135255\n"
     ]
    },
    {
     "name": "stderr",
     "output_type": "stream",
     "text": [
      "Training Epochs:   3%|▎         | 3/100 [03:11<1:43:23, 63.95s/it]"
     ]
    },
    {
     "name": "stdout",
     "output_type": "stream",
     "text": [
      "Epoch 3/100, Loss: 0.1741 ; 20241215-135359\n"
     ]
    },
    {
     "name": "stderr",
     "output_type": "stream",
     "text": [
      "Training Epochs:   4%|▍         | 4/100 [04:16<1:42:30, 64.07s/it]"
     ]
    },
    {
     "name": "stdout",
     "output_type": "stream",
     "text": [
      "Epoch 4/100, Loss: 0.1694 ; 20241215-135503\n"
     ]
    },
    {
     "name": "stderr",
     "output_type": "stream",
     "text": [
      "Training Epochs:   5%|▌         | 5/100 [05:20<1:41:47, 64.29s/it]"
     ]
    },
    {
     "name": "stdout",
     "output_type": "stream",
     "text": [
      "Epoch 5/100, Loss: 0.1755 ; 20241215-135608\n"
     ]
    },
    {
     "name": "stderr",
     "output_type": "stream",
     "text": [
      "Training Epochs:   6%|▌         | 6/100 [06:25<1:41:09, 64.57s/it]"
     ]
    },
    {
     "name": "stdout",
     "output_type": "stream",
     "text": [
      "Epoch 6/100, Loss: 0.1710 ; 20241215-135713\n"
     ]
    },
    {
     "name": "stderr",
     "output_type": "stream",
     "text": [
      "Training Epochs:   7%|▋         | 7/100 [07:30<1:40:18, 64.72s/it]"
     ]
    },
    {
     "name": "stdout",
     "output_type": "stream",
     "text": [
      "Epoch 7/100, Loss: 0.1714 ; 20241215-135818\n"
     ]
    },
    {
     "name": "stderr",
     "output_type": "stream",
     "text": [
      "Training Epochs:   8%|▊         | 8/100 [08:35<1:39:23, 64.83s/it]"
     ]
    },
    {
     "name": "stdout",
     "output_type": "stream",
     "text": [
      "Epoch 8/100, Loss: 0.1709 ; 20241215-135923\n"
     ]
    },
    {
     "name": "stderr",
     "output_type": "stream",
     "text": [
      "Training Epochs:   9%|▉         | 9/100 [09:40<1:38:12, 64.75s/it]"
     ]
    },
    {
     "name": "stdout",
     "output_type": "stream",
     "text": [
      "Epoch 9/100, Loss: 0.1644 ; 20241215-140028\n"
     ]
    }
   ],
   "source": [
    "# Prepare sequential data\n",
    "X_seq = []\n",
    "for i in range(len(X_scaled) - seq_length + 1):\n",
    "    X_seq.append(X_scaled[i:i + seq_length])\n",
    "X_seq = torch.tensor(X_seq, dtype=torch.float32).to('cuda')\n",
    "# Generate pseudo-labels (unsupervised clustering approach)\n",
    "def generate_pseudo_labels(X_scaled, n_clusters=4):\n",
    "    kmeans = KMeans(n_clusters=n_clusters, random_state=42)\n",
    "    pseudo_labels = kmeans.fit_predict(X_scaled)\n",
    "    pseudo_labels = pseudo_labels[:len(X_scaled) - seq_length + 1]\n",
    "    return torch.tensor(pseudo_labels, dtype=torch.long).to('cuda')\n",
    "\n",
    "pseudo_labels = generate_pseudo_labels(X_scaled)\n",
    "# Initialize model, loss, and optimizer\n",
    "model = ForexTransformer(input_dim=X_tensor.shape[1], seq_length=seq_length,  num_heads=num_heads, num_layers=num_layers, output_dim=output_dim).to('cuda')\n",
    "criterion = nn.CrossEntropyLoss()\n",
    "optimizer = optim.Adam(model.parameters(), lr=0.00001)\n",
    "                        \n",
    "MODEL_PATH = \"D:/Programing/AI Trader/Model/transformer_model_seqlength 14_20241215_125028.pth\"\n",
    "model.load_state_dict(torch.load(MODEL_PATH))\n",
    "model.eval()\n",
    "print(f\"\\nModel: {MODEL_PATH.split('/')[-1]} is loaded.\\n\")\n",
    "    \n",
    "# Training loop\n",
    "def train_transformer(model, X_seq, pseudo_labels, epochs=100, batch_size=4096):\n",
    "    dataset = torch.utils.data.TensorDataset(X_seq, pseudo_labels)\n",
    "    dataloader = torch.utils.data.DataLoader(dataset, batch_size=batch_size, shuffle=True)\n",
    "    for epoch in tqdm(range(epochs), desc=\"Training Epochs\"):\n",
    "        model.train()\n",
    "        epoch_loss = 0\n",
    "        for batch_X, batch_y in dataloader:\n",
    "            optimizer.zero_grad()\n",
    "            outputs = model(batch_X)\n",
    "            loss = criterion(outputs, batch_y)\n",
    "            loss.backward()\n",
    "            optimizer.step()\n",
    "            epoch_loss += loss.item()\n",
    "        timestamp = datetime.now().strftime(\"%Y%m%d-%H%M%S\")\n",
    "        print(f\"Epoch {epoch+1}/{epochs}, Loss: {epoch_loss:.4f} ; {timestamp}\")\n",
    "        MODEL_SAVEPATH = f\"./Model/transformerModel_seqlength {seq_length}_Loss {epoch_loss:.4f}_at {timestamp}.pth\"\n",
    "        \n",
    "        # print(MODEL_SAVEPATH)\n",
    "        \n",
    "        torch.save(model.state_dict(), MODEL_SAVEPATH)\n",
    "\n",
    "train_transformer(model, X_seq, pseudo_labels)"
   ]
  },
  {
   "cell_type": "code",
   "execution_count": 8,
   "metadata": {},
   "outputs": [],
   "source": [
    "# Save the trained model\n",
    "# MODEL_PATH = f\"./Model/transformer_{seq_length}_model.pth\"\n",
    "# torch.save(model.state_dict(), MODEL_PATH)\n",
    "# print(f\"Model saved to {MODEL_PATH}\")\n"
   ]
  },
  {
   "cell_type": "code",
   "execution_count": 9,
   "metadata": {},
   "outputs": [],
   "source": [
    "# Predict target price and stop loss for buy/sell conditions\n",
    "def calculate_target_stop_prices(close_price, condition):\n",
    "    if condition == 0:  # Buy\n",
    "        target_price = close_price * 1.02  # 2% increase\n",
    "        stop_loss_price = close_price * 0.98  # 2% decrease\n",
    "    elif condition == 1:  # Sell\n",
    "        target_price = close_price * 0.98  # 2% decrease\n",
    "        stop_loss_price = close_price * 1.02  # 2% increase\n",
    "    else:  # Hold or Nothing\n",
    "        target_price = stop_loss_price = close_price\n",
    "    return target_price, stop_loss_price\n"
   ]
  },
  {
   "cell_type": "code",
   "execution_count": null,
   "metadata": {},
   "outputs": [],
   "source": [
    "# Example usage\n",
    "example_data = X_seq[:10]\n",
    "model.eval()\n",
    "with torch.no_grad():\n",
    "    predictions = model(example_data)\n",
    "conditions = torch.argmax(predictions, axis=1).cpu().numpy()\n",
    "for i, condition in enumerate(conditions):\n",
    "    close_price = data.iloc[i]['Close']\n",
    "    target, stop_loss = calculate_target_stop_prices(close_price, condition)\n",
    "    print(f\"Condition: {condition}, Target Price: {target:.4f}, Stop Loss Price: {stop_loss:.4f}\")\n"
   ]
  },
  {
   "cell_type": "code",
   "execution_count": null,
   "metadata": {},
   "outputs": [],
   "source": []
  }
 ],
 "metadata": {
  "kernelspec": {
   "display_name": "Python 3",
   "language": "python",
   "name": "python3"
  },
  "language_info": {
   "codemirror_mode": {
    "name": "ipython",
    "version": 3
   },
   "file_extension": ".py",
   "mimetype": "text/x-python",
   "name": "python",
   "nbconvert_exporter": "python",
   "pygments_lexer": "ipython3",
   "version": "3.12.8"
  }
 },
 "nbformat": 4,
 "nbformat_minor": 2
}
