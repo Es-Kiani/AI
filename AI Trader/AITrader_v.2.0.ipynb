{
 "cells": [
  {
   "cell_type": "code",
   "execution_count": 1,
   "metadata": {},
   "outputs": [],
   "source": [
    "from Model2 import *\n",
    "from Model2_config import *\n",
    "from Model2_MT5 import *"
   ]
  },
  {
   "cell_type": "code",
   "execution_count": 2,
   "metadata": {},
   "outputs": [
    {
     "name": "stdout",
     "output_type": "stream",
     "text": [
      "Model v.1.0_loss 63.8252_Acc 0.8680_at 20241224-075014.model is loaded.\n"
     ]
    }
   ],
   "source": [
    "MODEL_PATH = \"D:/Programing/AI Trader/Model/lstmModelv.1.0/Model v.1.0_loss 63.8252_Acc 0.8680_at 20241224-075014.model\"\n",
    "\n",
    "model.load_state_dict(torch.load(MODEL_PATH, weights_only=False))\n",
    "\n",
    "model.eval()\n",
    "\n",
    "print(f\"{MODEL_PATH.split('/')[-1]} is loaded.\")"
   ]
  },
  {
   "cell_type": "code",
   "execution_count": null,
   "metadata": {},
   "outputs": [
    {
     "name": "stdout",
     "output_type": "stream",
     "text": [
      "Trade executed successfully: buy 0.25 lots of EURUSD\n",
      "Real-time Prediction -> Buy\t|\t2024-12-27 13:47:51\n",
      "Majority Vote (Last 3): Insufficient Data\n",
      "\n",
      "No clear majority vote. No trade executed.\n",
      "Real-time Prediction -> Nothing\t|\t2024-12-27 14:02:53\n",
      "Majority Vote (Last 3): Insufficient Data\n",
      "\n",
      "No clear majority vote. No trade executed.\n",
      "Real-time Prediction -> Nothing\t|\t2024-12-27 14:17:54\n",
      "Majority Vote (Last 3): Nothing\n",
      "\n",
      "Trade executed successfully: sell 0.25 lots of EURUSD\n",
      "Real-time Prediction -> Sell\t|\t2024-12-27 14:32:55\n",
      "Majority Vote (Last 3): Nothing\n",
      "\n",
      "Trade executed successfully: sell 0.25 lots of EURUSD\n",
      "Real-time Prediction -> Sell\t|\t2024-12-27 14:47:58\n",
      "Majority Vote (Last 3): Sell\n",
      "\n",
      "No clear majority vote. No trade executed.\n",
      "Real-time Prediction -> Nothing\t|\t2024-12-27 15:02:59\n",
      "Majority Vote (Last 3): Sell\n",
      "\n",
      "No clear majority vote. No trade executed.\n",
      "Real-time Prediction -> Nothing\t|\t2024-12-27 15:18:00\n",
      "Majority Vote (Last 3): Nothing\n",
      "\n",
      "No clear majority vote. No trade executed.\n",
      "Real-time Prediction -> Nothing\t|\t2024-12-27 15:33:01\n",
      "Majority Vote (Last 3): Nothing\n",
      "\n",
      "No clear majority vote. No trade executed.\n",
      "Real-time Prediction -> Nothing\t|\t2024-12-27 15:48:02\n",
      "Majority Vote (Last 3): Nothing\n",
      "\n",
      "Trade executed successfully: buy 0.25 lots of EURUSD\n",
      "Real-time Prediction -> Buy\t|\t2024-12-27 16:03:05\n",
      "Majority Vote (Last 3): Nothing\n",
      "\n",
      "Trade executed successfully: buy 0.25 lots of EURUSD\n",
      "Real-time Prediction -> Buy\t|\t2024-12-27 16:18:41\n",
      "Majority Vote (Last 3): Buy\n",
      "\n"
     ]
    }
   ],
   "source": [
    "# Initialize a deque to store the last three predictions\n",
    "recent_predictions = deque(maxlen=VOTE_LEN)\n",
    "\n",
    "while True:\n",
    "    try:\n",
    "        # Fetch real-time data\n",
    "        real_time_df = fetch_realtime_data(f\"{time_frame}min\")\n",
    "        \n",
    "        # Get predicted signal\n",
    "        predicted_signal = predict(model, real_time_df, seq_length, scaler, device)\n",
    "        prediction = conditions_map[predicted_signal]\n",
    "        \n",
    "        # Add the prediction to the deque\n",
    "        recent_predictions.append(prediction)\n",
    "        open_position(prediction)\n",
    "        \n",
    "        # Determine majority vote if at least 3 predictions are available\n",
    "        if len(recent_predictions) == VOTE_LEN:\n",
    "            prediction_counts = {pred: recent_predictions.count(pred) for pred in set(recent_predictions)}\n",
    "            majority_vote = max(prediction_counts, key=prediction_counts.get)\n",
    "            \n",
    "            # open_position(majority_vote)\n",
    "        else:\n",
    "            # majority_vote = \"Insufficient Data (No Trade!)\"\n",
    "            majority_vote = \"Insufficient Data\"\n",
    "        \n",
    "        # Print the real-time prediction and majority vote\n",
    "        timestamp = datetime.now().strftime(\"%Y-%m-%d %H:%M:%S\")\n",
    "        print(f\"Real-time Prediction -> {prediction}\\t|\\t{timestamp}\")\n",
    "        print(f\"Majority Vote (Last 3): {majority_vote}\\n\")\n",
    "    \n",
    "    except ValueError as e:\n",
    "        print(e)\n",
    "    \n",
    "    # Wait for the next interval\n",
    "    time.sleep(time_frame * 60)"
   ]
  },
  {
   "cell_type": "code",
   "execution_count": null,
   "metadata": {},
   "outputs": [],
   "source": []
  }
 ],
 "metadata": {
  "kernelspec": {
   "display_name": "Python 3",
   "language": "python",
   "name": "python3"
  },
  "language_info": {
   "codemirror_mode": {
    "name": "ipython",
    "version": 3
   },
   "file_extension": ".py",
   "mimetype": "text/x-python",
   "name": "python",
   "nbconvert_exporter": "python",
   "pygments_lexer": "ipython3",
   "version": "3.12.8"
  }
 },
 "nbformat": 4,
 "nbformat_minor": 2
}
