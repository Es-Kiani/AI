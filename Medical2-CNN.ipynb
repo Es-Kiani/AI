{
  "cells": [
    {
      "cell_type": "markdown",
      "metadata": {
        "id": "view-in-github",
        "colab_type": "text"
      },
      "source": [
        "<a href=\"https://colab.research.google.com/github/Es-Kiani/AI-ML/blob/main/Medical2-CNN.ipynb\" target=\"_parent\"><img src=\"https://colab.research.google.com/assets/colab-badge.svg\" alt=\"Open In Colab\"/></a>"
      ]
    },
    {
      "cell_type": "markdown",
      "source": [
        "#Load Data"
      ],
      "metadata": {
        "id": "jrTnerKwNOgu"
      }
    },
    {
      "cell_type": "code",
      "execution_count": null,
      "metadata": {
        "id": "XAgTfFJg8Lor"
      },
      "outputs": [],
      "source": [
        "from google.colab import drive\n",
        "drive.mount('/content/drive')\n",
        "\n",
        "datasets_folder_path = '/content/drive/MyDrive/Datasets'"
      ]
    },
    {
      "cell_type": "code",
      "execution_count": null,
      "metadata": {
        "id": "VBXofUOiOjB9"
      },
      "outputs": [],
      "source": [
        "!pip install unrar\n",
        "!rm -rf /content/sample_data"
      ]
    },
    {
      "cell_type": "code",
      "execution_count": null,
      "metadata": {
        "id": "gfDMXCbXOy1A"
      },
      "outputs": [],
      "source": [
        "!unrar x /content/drive/MyDrive/Datasets/Medical2-Dataset-rar/BloodTransversal.rar /content/cnn_data/"
      ]
    },
    {
      "cell_type": "code",
      "source": [
        "!unrar x /content/drive/MyDrive/Datasets/Medical2-Dataset-rar/CalciumTransversal.rar /content/cnn_data/"
      ],
      "metadata": {
        "id": "bL49c6ZGEWEI"
      },
      "execution_count": null,
      "outputs": []
    },
    {
      "cell_type": "code",
      "source": [
        "!unrar x /content/drive/MyDrive/Datasets/Medical2-Dataset-rar/FatTransversal.rar /content/cnn_data/"
      ],
      "metadata": {
        "id": "kFjmaWLaFZnG"
      },
      "execution_count": null,
      "outputs": []
    },
    {
      "cell_type": "code",
      "source": [
        "!unrar x /content/drive/MyDrive/Datasets/Medical2-Dataset-rar/FibrousTransversal.rar /content/cnn_data/"
      ],
      "metadata": {
        "id": "9_Ke4sSuFZOK"
      },
      "execution_count": null,
      "outputs": []
    },
    {
      "cell_type": "code",
      "execution_count": null,
      "metadata": {
        "id": "Io4W4-7DEWaR"
      },
      "outputs": [],
      "source": [
        "!unrar x /content/drive/MyDrive/Datasets/Medical2-Dataset-rar/MuscleTransversal.rar /content/cnn_data/"
      ]
    },
    {
      "cell_type": "markdown",
      "source": [
        "#Data Preprocessing"
      ],
      "metadata": {
        "id": "0O01XVdVODhk"
      }
    },
    {
      "cell_type": "code",
      "execution_count": null,
      "metadata": {
        "id": "ecR1yI69PP-8"
      },
      "outputs": [],
      "source": [
        "import tensorflow as tf\n",
        "images_generator = tf.keras.preprocessing.image.ImageDataGenerator(validation_split=0.2)\n",
        "#images_generator = tf.keras.preprocessing.image.ImageDataGenerator(rescale=1./255,validation_split=0.2)\n",
        "train_generator = images_generator.flow_from_directory(\"/content/cnn_data/\", target_size=(15, 15), color_mode=\"grayscale\", batch_size=2000, subset='training')\n",
        "vali_generator = images_generator.flow_from_directory(\"/content/cnn_data/\", target_size=(15, 15), color_mode=\"grayscale\", batch_size=2000, subset='validation')\n",
        "#train_images, train_labels = next(images_generator.flow_from_directory(\"/content/cnn_data/\",subset='training'))\n",
        "#vali_images, vali_labels = next(images_generator.flow_from_directory(\"/content/cnn_data/\",subset='validation'))"
      ]
    },
    {
      "cell_type": "code",
      "execution_count": null,
      "metadata": {
        "id": "0QVxEZsSCcvB"
      },
      "outputs": [],
      "source": [
        "!rm -rf /content/cnn_data/.ipynb_checkpoints"
      ]
    },
    {
      "cell_type": "markdown",
      "source": [
        "#Creating CNN"
      ],
      "metadata": {
        "id": "2Xaz66seOItg"
      }
    },
    {
      "cell_type": "code",
      "execution_count": null,
      "metadata": {
        "colab": {
          "base_uri": "https://localhost:8080/"
        },
        "id": "alVOh6XVPdxa",
        "outputId": "a8049c70-2cac-40c7-a7bc-3fa577c4e3e0"
      },
      "outputs": [
        {
          "output_type": "stream",
          "name": "stdout",
          "text": [
            "Model: \"first_model\"\n",
            "_________________________________________________________________\n",
            " Layer (type)                Output Shape              Param #   \n",
            "=================================================================\n",
            " input_3 (InputLayer)        [(2000, 15, 15, 1)]       0         \n",
            "                                                                 \n",
            " conv2d_8 (Conv2D)           (2000, 15, 15, 64)        640       \n",
            "                                                                 \n",
            " leaky_re_lu_14 (LeakyReLU)  (2000, 15, 15, 64)        0         \n",
            "                                                                 \n",
            " dropout_14 (Dropout)        (2000, 15, 15, 64)        0         \n",
            "                                                                 \n",
            " conv2d_9 (Conv2D)           (2000, 15, 15, 64)        36928     \n",
            "                                                                 \n",
            " leaky_re_lu_15 (LeakyReLU)  (2000, 15, 15, 64)        0         \n",
            "                                                                 \n",
            " dropout_15 (Dropout)        (2000, 15, 15, 64)        0         \n",
            "                                                                 \n",
            " conv2d_10 (Conv2D)          (2000, 15, 15, 64)        36928     \n",
            "                                                                 \n",
            " leaky_re_lu_16 (LeakyReLU)  (2000, 15, 15, 64)        0         \n",
            "                                                                 \n",
            " dropout_16 (Dropout)        (2000, 15, 15, 64)        0         \n",
            "                                                                 \n",
            " conv2d_11 (Conv2D)          (2000, 15, 15, 64)        36928     \n",
            "                                                                 \n",
            " leaky_re_lu_17 (LeakyReLU)  (2000, 15, 15, 64)        0         \n",
            "                                                                 \n",
            " dropout_17 (Dropout)        (2000, 15, 15, 64)        0         \n",
            "                                                                 \n",
            " dense_8 (Dense)             (2000, 15, 15, 256)       16640     \n",
            "                                                                 \n",
            " leaky_re_lu_18 (LeakyReLU)  (2000, 15, 15, 256)       0         \n",
            "                                                                 \n",
            " dropout_18 (Dropout)        (2000, 15, 15, 256)       0         \n",
            "                                                                 \n",
            " flatten_2 (Flatten)         (2000, 57600)             0         \n",
            "                                                                 \n",
            " dense_9 (Dense)             (2000, 256)               14745856  \n",
            "                                                                 \n",
            " leaky_re_lu_19 (LeakyReLU)  (2000, 256)               0         \n",
            "                                                                 \n",
            " dropout_19 (Dropout)        (2000, 256)               0         \n",
            "                                                                 \n",
            " dense_10 (Dense)            (2000, 256)               65792     \n",
            "                                                                 \n",
            " leaky_re_lu_20 (LeakyReLU)  (2000, 256)               0         \n",
            "                                                                 \n",
            " dropout_20 (Dropout)        (2000, 256)               0         \n",
            "                                                                 \n",
            " dense_11 (Dense)            (2000, 5)                 1285      \n",
            "                                                                 \n",
            " softmax_2 (Softmax)         (2000, 5)                 0         \n",
            "                                                                 \n",
            "=================================================================\n",
            "Total params: 14940997 (57.00 MB)\n",
            "Trainable params: 14940997 (57.00 MB)\n",
            "Non-trainable params: 0 (0.00 Byte)\n",
            "_________________________________________________________________\n"
          ]
        }
      ],
      "source": [
        "l2_reg = tf.keras.regularizers.l2(l2=0.001)\n",
        "\n",
        "inputs = tf.keras.Input(shape=(15,15,1), batch_size=2000)\n",
        "\n",
        "conv1 = tf.keras.layers.Conv2D(64,3,input_shape=(15,15,1),batch_size=2000,kernel_regularizer=l2_reg, padding=\"same\")\n",
        "x = conv1(inputs)\n",
        "lrelu = tf.keras.layers.LeakyReLU(alpha=0.01)\n",
        "x=lrelu(x)\n",
        "drop = tf.keras.layers.Dropout(0.2)\n",
        "x=drop(x)\n",
        "\n",
        "conv2 = tf.keras.layers.Conv2D(64,3, padding=\"same\")\n",
        "x = conv2(x)\n",
        "lrelu = tf.keras.layers.LeakyReLU(alpha=0.01)\n",
        "x=lrelu(x)\n",
        "drop = tf.keras.layers.Dropout(0.2)\n",
        "x=drop(x)\n",
        "\n",
        "conv3 = tf.keras.layers.Conv2D(64,3, padding=\"same\")\n",
        "x = conv3(x)\n",
        "lrelu = tf.keras.layers.LeakyReLU(alpha=0.01)\n",
        "x=lrelu(x)\n",
        "drop = tf.keras.layers.Dropout(0.2)\n",
        "x=drop(x)\n",
        "\n",
        "conv4 = tf.keras.layers.Conv2D(64,3, padding=\"same\")\n",
        "x = conv4(x)\n",
        "lrelu = tf.keras.layers.LeakyReLU(alpha=0.01)\n",
        "x=lrelu(x)\n",
        "drop = tf.keras.layers.Dropout(0.2)\n",
        "x=drop(x)\n",
        "\n",
        "dense1 = tf.keras.layers.Dense(256)\n",
        "x = dense1(x)\n",
        "lrelu = tf.keras.layers.LeakyReLU(alpha=0.01)\n",
        "x=lrelu(x)\n",
        "drop = tf.keras.layers.Dropout(0.2)\n",
        "x=drop(x)\n",
        "\n",
        "flat=tf.keras.layers.Flatten()\n",
        "x=flat(x)\n",
        "\n",
        "dense2 = tf.keras.layers.Dense(256)\n",
        "x = dense2(x)\n",
        "lrelu = tf.keras.layers.LeakyReLU(alpha=0.01)\n",
        "x=lrelu(x)\n",
        "drop = tf.keras.layers.Dropout(0.2)\n",
        "x=drop(x)\n",
        "\n",
        "dense3 = tf.keras.layers.Dense(256)\n",
        "x = dense3(x)\n",
        "lrelu = tf.keras.layers.LeakyReLU(alpha=0.01)\n",
        "x=lrelu(x)\n",
        "drop = tf.keras.layers.Dropout(0.2)\n",
        "x=drop(x)\n",
        "\n",
        "dense4 = tf.keras.layers.Dense(5)\n",
        "x = dense4(x)\n",
        "\n",
        "layer = tf.keras.layers.Softmax()\n",
        "output = layer(x)\n",
        "\n",
        "\n",
        "\n",
        "model = tf.keras.Model(inputs=inputs, outputs=output, name=\"first_model\")\n",
        "\n",
        "\n",
        "\n",
        "#define loss function variable\n",
        "loss_fn = tf.keras.losses.CategoricalCrossentropy()\n",
        "OPTIMIZER = tf.optimizers.AdamW(weight_decay=0.005, learning_rate=1e-03)\n",
        "\n",
        "\n",
        "#define optimizer,loss function and evaluation metric\n",
        "model.compile(optimizer=OPTIMIZER,\n",
        "             loss=loss_fn,\n",
        "             metrics=[tf.keras.metrics.CategoricalAccuracy()])\n",
        "\n",
        "model.summary()"
      ]
    },
    {
      "cell_type": "markdown",
      "source": [
        "‌"
      ],
      "metadata": {
        "id": "GXnmzY6uOba4"
      }
    },
    {
      "cell_type": "code",
      "execution_count": null,
      "metadata": {
        "colab": {
          "base_uri": "https://localhost:8080/",
          "height": 198
        },
        "id": "00tQo0I-K5BM",
        "outputId": "875c433b-2a3d-4872-ec93-19b76a2faa9a"
      },
      "outputs": [
        {
          "output_type": "error",
          "ename": "SystemError",
          "evalue": "GPU device not found",
          "traceback": [
            "\u001b[0;31m---------------------------------------------------------------------------\u001b[0m",
            "\u001b[0;31mSystemError\u001b[0m                               Traceback (most recent call last)",
            "\u001b[0;32m<ipython-input-14-d1680108c58e>\u001b[0m in \u001b[0;36m<cell line: 3>\u001b[0;34m()\u001b[0m\n\u001b[1;32m      2\u001b[0m \u001b[0mdevice_name\u001b[0m \u001b[0;34m=\u001b[0m \u001b[0mtf\u001b[0m\u001b[0;34m.\u001b[0m\u001b[0mtest\u001b[0m\u001b[0;34m.\u001b[0m\u001b[0mgpu_device_name\u001b[0m\u001b[0;34m(\u001b[0m\u001b[0;34m)\u001b[0m\u001b[0;34m\u001b[0m\u001b[0;34m\u001b[0m\u001b[0m\n\u001b[1;32m      3\u001b[0m \u001b[0;32mif\u001b[0m \u001b[0mdevice_name\u001b[0m \u001b[0;34m!=\u001b[0m \u001b[0;34m'/device:GPU:0'\u001b[0m\u001b[0;34m:\u001b[0m\u001b[0;34m\u001b[0m\u001b[0;34m\u001b[0m\u001b[0m\n\u001b[0;32m----> 4\u001b[0;31m   \u001b[0;32mraise\u001b[0m \u001b[0mSystemError\u001b[0m\u001b[0;34m(\u001b[0m\u001b[0;34m'GPU device not found'\u001b[0m\u001b[0;34m)\u001b[0m\u001b[0;34m\u001b[0m\u001b[0;34m\u001b[0m\u001b[0m\n\u001b[0m\u001b[1;32m      5\u001b[0m \u001b[0mprint\u001b[0m\u001b[0;34m(\u001b[0m\u001b[0;34m'Found GPU at: {}'\u001b[0m\u001b[0;34m.\u001b[0m\u001b[0mformat\u001b[0m\u001b[0;34m(\u001b[0m\u001b[0mdevice_name\u001b[0m\u001b[0;34m)\u001b[0m\u001b[0;34m)\u001b[0m\u001b[0;34m\u001b[0m\u001b[0;34m\u001b[0m\u001b[0m\n",
            "\u001b[0;31mSystemError\u001b[0m: GPU device not found"
          ]
        }
      ],
      "source": [
        "import tensorflow as tf\n",
        "device_name = tf.test.gpu_device_name()\n",
        "if device_name != '/device:GPU:0':\n",
        "  raise SystemError('GPU device not found')\n",
        "print('Found GPU at: {}'.format(device_name))"
      ]
    },
    {
      "cell_type": "markdown",
      "source": [
        "#Fit Model"
      ],
      "metadata": {
        "id": "OK0tw0pgOiFP"
      }
    },
    {
      "cell_type": "code",
      "execution_count": null,
      "metadata": {
        "id": "SfymcXYkSFCJ"
      },
      "outputs": [],
      "source": [
        "#trained_model=model.fit(train_images, train_labels,epochs=10,validation_data=(vali_images, vali_labels))\n",
        "#trained_model=model.fit(train_images, train_labels,batch_size=2000, epochs=10, validation_split=0.2)\n",
        "\n",
        "trained_model = model.fit(train_generator, epochs=10, batch_size=1000, validation_data=vali_generator)"
      ]
    },
    {
      "cell_type": "code",
      "execution_count": null,
      "metadata": {
        "id": "_fhK1EmeTJlE"
      },
      "outputs": [],
      "source": [
        "#trained_model=model.fit(train_images, train_labels,epochs=10,validation_data=(vali_images, vali_labels))\n",
        "#trained_model=model.fit(train_images, train_labels,batch_size=2000, epochs=10, validation_split=0.2)\n",
        "from keras import callbacks\n",
        "earlystopping = callbacks.EarlyStopping(monitor=\"val_loss\", mode=\"min\", patience=5, restore_best_weights=True)\n",
        "trained_model = model.fit(train_generator, epochs=30, batch_size=1000, validation_data=vali_generator, callbacks=[earlystopping])"
      ]
    },
    {
      "cell_type": "code",
      "execution_count": null,
      "metadata": {
        "id": "VmnVzw1PYhtP"
      },
      "outputs": [],
      "source": [
        "earlystopping = callbacks.EarlyStopping(monitor=\"val_loss\", mode=\"min\", patience=5, restore_best_weights=True)\n",
        "trained_model=model.fit(train_generator,epochs=30,batch_size=1000,validation_data=vali_generator,callbacks=[earlystopping])"
      ]
    },
    {
      "cell_type": "code",
      "execution_count": null,
      "metadata": {
        "id": "-xfl7L3Ou3Aj"
      },
      "outputs": [],
      "source": [
        "earlystopping = callbacks.EarlyStopping(monitor=\"val_loss\", mode=\"min\", patience=5, restore_best_weights=True)\n",
        "trained_model=model.fit(train_generator,epochs=30,batch_size=2000,validation_data=vali_generator,callbacks=[earlystopping])"
      ]
    },
    {
      "cell_type": "code",
      "execution_count": null,
      "metadata": {
        "id": "8oaPlRsyPl9Q"
      },
      "outputs": [],
      "source": [
        "from keras import callbacks\n",
        "\n",
        "earlystopping = callbacks.EarlyStopping(monitor=\"val_categorical_accuracy\", mode=\"max\", patience=10, restore_best_weights=True)\n",
        "\n",
        "history=trained_model=model.fit(train_generator,epochs=50,batch_size=2000,validation_data=vali_generator)"
      ]
    },
    {
      "cell_type": "markdown",
      "source": [
        "#Model Evaluation"
      ],
      "metadata": {
        "id": "PG18EfMqOoq0"
      }
    },
    {
      "cell_type": "code",
      "execution_count": null,
      "metadata": {
        "id": "JNWrUgmrmsLO"
      },
      "outputs": [],
      "source": [
        "model.evaluate(train_generator,verbose=2)"
      ]
    },
    {
      "cell_type": "code",
      "execution_count": null,
      "metadata": {
        "id": "XQH0k-2CnHH-"
      },
      "outputs": [],
      "source": [
        "model.evaluate(vali_generator)"
      ]
    },
    {
      "cell_type": "code",
      "execution_count": null,
      "metadata": {
        "colab": {
          "base_uri": "https://localhost:8080/",
          "height": 472
        },
        "id": "7p25PfzZlRhP",
        "outputId": "56ecdbda-2b2e-432d-dd46-8341fc7c206a"
      },
      "outputs": [
        {
          "data": {
            "image/png": "[encoded data removed]",
            "text/plain": [
              "<Figure size 640x480 with 1 Axes>"
            ]
          },
          "metadata": {},
          "output_type": "display_data"
        }
      ],
      "source": [
        "from matplotlib import pyplot as plt\n",
        "plt.plot(history.history['categorical_accuracy'])\n",
        "plt.plot(history.history['val_categorical_accuracy'])\n",
        "plt.title('model accuracy')\n",
        "plt.ylabel('categorical_accuracy')\n",
        "plt.xlabel('epoch')\n",
        "plt.legend(['train', 'val'], loc='upper left')\n",
        "plt.show()"
      ]
    },
    {
      "cell_type": "code",
      "execution_count": null,
      "metadata": {
        "colab": {
          "base_uri": "https://localhost:8080/",
          "height": 472
        },
        "id": "HzRt2dIRlYc2",
        "outputId": "2ccbe37c-7a9b-4772-c42d-4bc51cf94b8c"
      },
      "outputs": [
        {
          "data": {
            "image/png": "[encoded data removed]",
            "text/plain": [
              "<Figure size 640x480 with 1 Axes>"
            ]
          },
          "metadata": {},
          "output_type": "display_data"
        }
      ],
      "source": [
        "plt.plot(history.history['loss'])\n",
        "plt.plot(history.history['val_loss'])\n",
        "plt.title('model loss')\n",
        "plt.ylabel('loss')\n",
        "plt.xlabel('epoch')\n",
        "plt.legend(['train', 'val'], loc='upper left')\n",
        "plt.show()"
      ]
    },
    {
      "cell_type": "markdown",
      "source": [
        "#Perdiction"
      ],
      "metadata": {
        "id": "uTiS0_eEOv2-"
      }
    },
    {
      "cell_type": "code",
      "execution_count": null,
      "metadata": {
        "id": "rZTIOaJjj7C8"
      },
      "outputs": [],
      "source": [
        "from sklearn.metrics import confusion_matrix\n",
        "import numpy as np\n",
        "\n",
        "#Predict\n",
        "y_prediction = model.predict(next(train_generator))\n",
        "y_prediction = np.argmax (y_prediction, axis = 1)\n",
        "\n",
        "#Create confusion matrix and normalizes it over predicted (columns)\n",
        "result = confusion_matrix(train_generator.labels, y_prediction,normalize='true' )\n",
        "print(result)\n",
        "\n",
        "#Predict\n",
        "y_prediction = model.predict(next(vali_generator))\n",
        "y_prediction = np.argmax (y_prediction, axis = 1)\n",
        "\n",
        "#Create confusion matrix and normalizes it over predicted (columns)\n",
        "result = confusion_matrix(vali_generator.labels, y_prediction ,normalize='true')\n",
        "print(result)"
      ]
    },
    {
      "cell_type": "code",
      "execution_count": null,
      "metadata": {
        "colab": {
          "base_uri": "https://localhost:8080/",
          "height": 1000
        },
        "id": "xakqKHUOocCB",
        "outputId": "ceb475d8-069e-49a4-d72e-abdb682b963a"
      },
      "outputs": [
        {
          "name": "stdout",
          "output_type": "stream",
          "text": [
            "63/63 [==============================] - 0s 6ms/step\n",
            "[[0.9940239  0.00199203 0.00398406]\n",
            " [0.         1.         0.        ]\n",
            " [0.00129702 0.03631647 0.96238651]]\n"
          ]
        },
        {
          "data": {
            "image/png": "[encoded data removed]",
            "text/plain": [
              "<Figure size 640x480 with 2 Axes>"
            ]
          },
          "metadata": {},
          "output_type": "display_data"
        },
        {
          "name": "stdout",
          "output_type": "stream",
          "text": [
            "31/31 [==============================] - 15s 488ms/step\n",
            "[[0.21921559 0.41780211 0.3629823 ]\n",
            " [0.224204   0.41364839 0.36214761]\n",
            " [0.22158691 0.41649057 0.36192252]]\n"
          ]
        },
        {
          "data": {
            "image/png": "[encoded data removed]",
            "text/plain": [
              "<Figure size 640x480 with 2 Axes>"
            ]
          },
          "metadata": {},
          "output_type": "display_data"
        },
        {
          "name": "stdout",
          "output_type": "stream",
          "text": [
            "[1 2 1 2 1]\n",
            "[0 2 2 1 2]\n"
          ]
        }
      ],
      "source": [
        "\n",
        "import matplotlib.pyplot as plt\n",
        "from sklearn.metrics import ConfusionMatrixDisplay\n",
        "from sklearn.metrics import confusion_matrix\n",
        "import numpy as np\n",
        "\n",
        "tf.keras.metrics.CategoricalAccuracy()\n",
        "#Predict\n",
        "train,train_l=next(train_generator)\n",
        "train_ll = np.argmax (train_l, axis = 1)\n",
        "y_prediction1 = model.predict(train)\n",
        "#y_prediction1=history.model.predict(train_generator,batch_size=2000)\n",
        "y_prediction1 = np.argmax (y_prediction1, axis = 1)\n",
        "\n",
        "#Create confusion matrix and normalizes it over predicted (columns)\n",
        "result = confusion_matrix(train_ll, y_prediction1,normalize='true' )\n",
        "print(result)\n",
        "\n",
        "ConfusionMatrixDisplay.from_predictions( train_ll, y_prediction1)\n",
        "plt.show()\n",
        "\n",
        "#Predict\n",
        "y_prediction = model.predict(vali_generator,batch_size=2000)\n",
        "#y_prediction = history.model.predict(vali_generator,batch_size=2000)\n",
        "y_prediction = np.argmax (y_prediction, axis = 1)\n",
        "\n",
        "#Create confusion matrix and normalizes it over predicted (columns)\n",
        "result = confusion_matrix(vali_generator.labels, y_prediction ,normalize='true')\n",
        "print(result)\n",
        "\n",
        "ConfusionMatrixDisplay.from_predictions( vali_generator.labels, y_prediction)\n",
        "plt.show()\n",
        "\n",
        "pred = y_prediction1[:5]\n",
        "label = y_prediction[:5]\n",
        "\n",
        "print(pred)\n",
        "print(label)"
      ]
    },
    {
      "cell_type": "code",
      "execution_count": null,
      "metadata": {
        "id": "UKgjBiNp-cYd"
      },
      "outputs": [],
      "source": [
        "y_prediction1 = model.predict(train_generator,batch_size=1000)\n",
        "y_prediction = model.predict(vali_generator,batch_size=1000)\n",
        "print(y_prediction1[:5])\n",
        "print(train_generator.labels[:5])\n",
        "print(y_prediction[:5])\n",
        "print(vali_generator.labels[:5])"
      ]
    },
    {
      "cell_type": "code",
      "execution_count": null,
      "metadata": {
        "id": "jeRSlv27HITN"
      },
      "outputs": [],
      "source": [
        "image,l=next(vali_generator)\n",
        "plt.imshow(image[0])\n",
        "print(image[0])\n",
        "print(l[0])"
      ]
    },
    {
      "cell_type": "code",
      "execution_count": null,
      "metadata": {
        "id": "RfGppwFUAZAs"
      },
      "outputs": [],
      "source": [
        "y_p1 = np.argmax (y_prediction1, axis = 1)\n",
        "y_p = np.argmax (y_prediction, axis = 1)\n",
        "print(y_p1[:5])\n",
        "print(y_p[:5])"
      ]
    },
    {
      "cell_type": "markdown",
      "source": [
        "#Perdiction Evaluation"
      ],
      "metadata": {
        "id": "BOzdMn4sO80p"
      }
    },
    {
      "cell_type": "code",
      "execution_count": null,
      "metadata": {
        "colab": {
          "base_uri": "https://localhost:8080/"
        },
        "id": "kPNfqvqlqaHT",
        "outputId": "04167b60-022a-4c09-f89c-acc54412d4ce"
      },
      "outputs": [
        {
          "name": "stdout",
          "output_type": "stream",
          "text": [
            "245/245 [==============================] - 132s 538ms/step - loss: 0.6390 - accuracy: 0.7107\n"
          ]
        },
        {
          "data": {
            "text/plain": [
              "[0.6390305161476135, 0.7107455134391785]"
            ]
          },
          "execution_count": 33,
          "metadata": {},
          "output_type": "execute_result"
        }
      ],
      "source": [
        "model.evaluate(train_generator,batch_size=2000)"
      ]
    },
    {
      "cell_type": "code",
      "execution_count": null,
      "metadata": {
        "colab": {
          "base_uri": "https://localhost:8080/"
        },
        "id": "MgGt60DLr4sB",
        "outputId": "b0102c71-1368-4d15-bd8f-d1a0b0127d08"
      },
      "outputs": [
        {
          "name": "stdout",
          "output_type": "stream",
          "text": [
            "62/62 [==============================] - 33s 538ms/step - loss: 0.8754 - accuracy: 0.6443\n"
          ]
        },
        {
          "data": {
            "text/plain": [
              "[0.8753963112831116, 0.6443225741386414]"
            ]
          },
          "execution_count": 34,
          "metadata": {},
          "output_type": "execute_result"
        }
      ],
      "source": [
        "model.evaluate(vali_generator,batch_size=2000)"
      ]
    },
    {
      "cell_type": "code",
      "execution_count": null,
      "metadata": {
        "id": "8ZQbgmsYd6tN"
      },
      "outputs": [],
      "source": [
        "from sklearn.metrics import confusion_matrix\n",
        "import numpy as np\n",
        "\n",
        "#Predict\n",
        "y_prediction = model.predict(train_images)\n",
        "\n",
        "y_prediction = np.argmax (y_prediction, axis = 1)\n",
        "y_test=np.argmax(train_labels, axis=1)\n",
        "\n",
        "#Create confusion matrix and normalizes it over predicted (columns)\n",
        "result = confusion_matrix(y_test, y_prediction )\n",
        "print(result)\n",
        "\n",
        "#Predict\n",
        "y_prediction = model.predict(vali_images)\n",
        "\n",
        "y_prediction = np.argmax (y_prediction, axis = 1)\n",
        "y_test=np.argmax(vali_labels, axis=1)\n",
        "\n",
        "#Create confusion matrix and normalizes it over predicted (columns)\n",
        "result = confusion_matrix(y_test, y_prediction )\n",
        "print(result)"
      ]
    },
    {
      "cell_type": "code",
      "execution_count": null,
      "metadata": {
        "colab": {
          "base_uri": "https://localhost:8080/"
        },
        "id": "bkiF-ZMMuS4H",
        "outputId": "9426a006-91a0-4eb2-8689-93df6c8038db"
      },
      "outputs": [
        {
          "data": {
            "text/plain": [
              "array([0, 0, 0, ..., 4, 4, 4], dtype=int32)"
            ]
          },
          "execution_count": 29,
          "metadata": {},
          "output_type": "execute_result"
        }
      ],
      "source": [
        "vali_generator.labels"
      ]
    }
  ],
  "metadata": {
    "accelerator": "GPU",
    "colab": {
      "gpuType": "T4",
      "provenance": [],
      "collapsed_sections": [
        "2Xaz66seOItg"
      ],
      "toc_visible": true,
      "include_colab_link": true
    },
    "kernelspec": {
      "display_name": "Python 3",
      "name": "python3"
    },
    "language_info": {
      "name": "python"
    }
  },
  "nbformat": 4,
  "nbformat_minor": 0
}